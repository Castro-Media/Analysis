{
 "cells": [
  {
   "cell_type": "markdown",
   "id": "bc88f9ae",
   "metadata": {},
   "source": [
    "# Data Source Dashboard"
   ]
  },
  {
   "cell_type": "code",
   "execution_count": 1,
   "id": "7a55e7ff",
   "metadata": {
    "execution": {
     "iopub.execute_input": "2025-07-16T04:07:35.595697Z",
     "iopub.status.busy": "2025-07-16T04:07:35.595507Z",
     "iopub.status.idle": "2025-07-16T04:07:35.853504Z",
     "shell.execute_reply": "2025-07-16T04:07:35.852911Z"
    }
   },
   "outputs": [
    {
     "data": {
      "text/html": [
       "<div>\n",
       "<style scoped>\n",
       "    .dataframe tbody tr th:only-of-type {\n",
       "        vertical-align: middle;\n",
       "    }\n",
       "\n",
       "    .dataframe tbody tr th {\n",
       "        vertical-align: top;\n",
       "    }\n",
       "\n",
       "    .dataframe thead th {\n",
       "        text-align: right;\n",
       "    }\n",
       "</style>\n",
       "<table border=\"1\" class=\"dataframe\">\n",
       "  <thead>\n",
       "    <tr style=\"text-align: right;\">\n",
       "      <th></th>\n",
       "      <th>path</th>\n",
       "      <th>filetype</th>\n",
       "      <th>last_fetched</th>\n",
       "      <th>headline_count</th>\n",
       "    </tr>\n",
       "  </thead>\n",
       "  <tbody>\n",
       "    <tr>\n",
       "      <th>0</th>\n",
       "      <td>../../data/demographics/census/zip-demo-ca</td>\n",
       "      <td>csv</td>\n",
       "      <td>2025-06-18</td>\n",
       "      <td>0</td>\n",
       "    </tr>\n",
       "    <tr>\n",
       "      <th>1</th>\n",
       "      <td>../../data/economics/fred/A939RX0Q048SBEA</td>\n",
       "      <td>json</td>\n",
       "      <td>2025-07-07T16:29</td>\n",
       "      <td>313</td>\n",
       "    </tr>\n",
       "    <tr>\n",
       "      <th>2</th>\n",
       "      <td>../../data/economics/fred/CLVMNACSCAB1GQDE</td>\n",
       "      <td>json</td>\n",
       "      <td>2025-07-07T16:29</td>\n",
       "      <td>137</td>\n",
       "    </tr>\n",
       "    <tr>\n",
       "      <th>3</th>\n",
       "      <td>../../data/economics/fred/GDPC1</td>\n",
       "      <td>json</td>\n",
       "      <td>2025-07-07T16:29</td>\n",
       "      <td>313</td>\n",
       "    </tr>\n",
       "    <tr>\n",
       "      <th>4</th>\n",
       "      <td>../../data/economics/fred/GFDEBTN</td>\n",
       "      <td>json</td>\n",
       "      <td>2025-07-07T16:29</td>\n",
       "      <td>237</td>\n",
       "    </tr>\n",
       "    <tr>\n",
       "      <th>...</th>\n",
       "      <td>...</td>\n",
       "      <td>...</td>\n",
       "      <td>...</td>\n",
       "      <td>...</td>\n",
       "    </tr>\n",
       "    <tr>\n",
       "      <th>57</th>\n",
       "      <td>../../data/news-world/nypost/news-world-nypost</td>\n",
       "      <td>rss</td>\n",
       "      <td>2025-07-16T04:06</td>\n",
       "      <td>20</td>\n",
       "    </tr>\n",
       "    <tr>\n",
       "      <th>58</th>\n",
       "      <td>../../data/news-world/nyt/news-world-nyt</td>\n",
       "      <td>rss</td>\n",
       "      <td>2025-07-16T04:06</td>\n",
       "      <td>60</td>\n",
       "    </tr>\n",
       "    <tr>\n",
       "      <th>59</th>\n",
       "      <td>../../data/news-world/toi/news-world-toi</td>\n",
       "      <td>rss</td>\n",
       "      <td>2025-07-16T04:06</td>\n",
       "      <td>20</td>\n",
       "    </tr>\n",
       "    <tr>\n",
       "      <th>60</th>\n",
       "      <td>../../data/news-world/wapo/news-world-wapo</td>\n",
       "      <td>rss</td>\n",
       "      <td>2025-07-16T03:20</td>\n",
       "      <td>20</td>\n",
       "    </tr>\n",
       "    <tr>\n",
       "      <th>61</th>\n",
       "      <td>../../data/news-world/wsj/news-world-wsj</td>\n",
       "      <td>rss</td>\n",
       "      <td>2025-07-16T04:06</td>\n",
       "      <td>75</td>\n",
       "    </tr>\n",
       "  </tbody>\n",
       "</table>\n",
       "<p>62 rows \u00d7 4 columns</p>\n",
       "</div>"
      ],
      "text/plain": [
       "                                              path filetype      last_fetched  \\\n",
       "0       ../../data/demographics/census/zip-demo-ca      csv        2025-06-18   \n",
       "1        ../../data/economics/fred/A939RX0Q048SBEA     json  2025-07-07T16:29   \n",
       "2       ../../data/economics/fred/CLVMNACSCAB1GQDE     json  2025-07-07T16:29   \n",
       "3                  ../../data/economics/fred/GDPC1     json  2025-07-07T16:29   \n",
       "4                ../../data/economics/fred/GFDEBTN     json  2025-07-07T16:29   \n",
       "..                                             ...      ...               ...   \n",
       "57  ../../data/news-world/nypost/news-world-nypost      rss  2025-07-16T04:06   \n",
       "58        ../../data/news-world/nyt/news-world-nyt      rss  2025-07-16T04:06   \n",
       "59        ../../data/news-world/toi/news-world-toi      rss  2025-07-16T04:06   \n",
       "60      ../../data/news-world/wapo/news-world-wapo      rss  2025-07-16T03:20   \n",
       "61        ../../data/news-world/wsj/news-world-wsj      rss  2025-07-16T04:06   \n",
       "\n",
       "    headline_count  \n",
       "0                0  \n",
       "1              313  \n",
       "2              137  \n",
       "3              313  \n",
       "4              237  \n",
       "..             ...  \n",
       "57              20  \n",
       "58              60  \n",
       "59              20  \n",
       "60              20  \n",
       "61              75  \n",
       "\n",
       "[62 rows x 4 columns]"
      ]
     },
     "execution_count": 1,
     "metadata": {},
     "output_type": "execute_result"
    }
   ],
   "source": [
    "# ========== Bootstrap: ensure pandas is available =========\n",
    "import importlib, subprocess, sys\n",
    "\n",
    "def _ensure(pkg_name):\n",
    "    try:\n",
    "        importlib.import_module(pkg_name)\n",
    "    except ModuleNotFoundError:\n",
    "        subprocess.check_call([sys.executable, '-m', 'pip', 'install', pkg_name])\n",
    "    finally:\n",
    "        globals()[pkg_name] = importlib.import_module(pkg_name)\n",
    "\n",
    "_ensure('pandas')\n",
    "from pathlib import Path\n",
    "import pandas as pd\n",
    "import json\n",
    "from datetime import datetime, timezone, timedelta\n",
    "from email.utils import parsedate_to_datetime\n",
    "\n",
    "catalog = pd.read_csv(Path('..','..','data','catalog.csv'))\n",
    "catalog['path'] = catalog.apply(lambda r: Path('..','..','data', r['category'], r['source'], r['folder']), axis=1)\n",
    "dashboard = catalog[['path','filetype','last_fetched']].copy()\n",
    "\n",
    "def count_headlines(row):\n",
    "    ftype = str(row['filetype']).lower().strip()\n",
    "    output_ext = 'json' if ftype in ('rss', 'xml') else ftype\n",
    "    latest = row['path'] / f\"latest.{output_ext}\"\n",
    "    if not latest.exists():\n",
    "        return 0\n",
    "    if output_ext == 'csv':\n",
    "        return sum(1 for _ in open(latest, encoding=\"utf-8\")) - 1\n",
    "    elif output_ext == 'json':\n",
    "        with open(latest, encoding=\"utf-8\") as f:\n",
    "            data = json.load(f)\n",
    "        if isinstance(data, list):\n",
    "            return len(data)\n",
    "        if 'entries' in data:\n",
    "            return len(data['entries'])\n",
    "        if 'observations' in data:\n",
    "            return len(data['observations'])\n",
    "    return 0\n",
    "\n",
    "def count_recent(row):\n",
    "    ftype = str(row['filetype']).lower().strip()\n",
    "    if ftype not in ('rss', 'xml'):\n",
    "        return 0\n",
    "    latest = row['path'] / 'latest.json'\n",
    "    if not latest.exists():\n",
    "        return 0\n",
    "    with open(latest, encoding='utf-8') as f:\n",
    "        data = json.load(f)\n",
    "    entries = data.get('entries', []) if isinstance(data, dict) else data\n",
    "    cutoff = datetime.now(timezone.utc) - timedelta(days=1)\n",
    "    count = 0\n",
    "    for item in entries:\n",
    "        pub = item.get('published')\n",
    "        if not pub:\n",
    "            continue\n",
    "        try:\n",
    "            dt = parsedate_to_datetime(pub)\n",
    "            if dt.tzinfo is None:\n",
    "                dt = dt.replace(tzinfo=timezone.utc)\n",
    "            dt = dt.astimezone(timezone.utc)\n",
    "            if dt >= cutoff:\n",
    "                count += 1\n",
    "        except Exception:\n",
    "            continue\n",
    "    return count\n",
    "\n",
    "dashboard['headline_count'] = dashboard.apply(count_headlines, axis=1)\n",
    "dashboard['last_24h_count'] = dashboard.apply(count_recent, axis=1)\n",
    "dashboard = dashboard.sort_values('path').reset_index(drop=True)\n",
    "dashboard\n"
   ]
  },
  {
   "cell_type": "code",
   "execution_count": 2,
   "id": "8c36c6f1",
   "metadata": {
    "execution": {
     "iopub.execute_input": "2025-07-16T04:07:35.855934Z",
     "iopub.status.busy": "2025-07-16T04:07:35.855425Z",
     "iopub.status.idle": "2025-07-16T04:07:35.860651Z",
     "shell.execute_reply": "2025-07-16T04:07:35.860186Z"
    }
   },
   "outputs": [
    {
     "name": "stderr",
     "output_type": "stream",
     "text": [
      "/tmp/ipykernel_2267/2121224213.py:2: DeprecationWarning: datetime.datetime.utcnow() is deprecated and scheduled for removal in a future version. Use timezone-aware objects to represent datetimes in UTC: datetime.datetime.now(datetime.UTC).\n",
      "  timestamp = datetime.utcnow().strftime('%Y-%m-%d-%H-00')\n"
     ]
    }
   ],
   "source": [
    "from datetime import datetime\n",
    "timestamp = datetime.utcnow().strftime('%Y-%m-%d-%H-00')\n",
    "dashboard.to_csv(f'{timestamp}.csv', index=False)\n",
    "dashboard.to_csv('latest.csv', index=False)\n"
   ]
  },
  {
   "cell_type": "code",
   "execution_count": 3,
   "id": "79215fc3",
   "metadata": {
    "execution": {
     "iopub.execute_input": "2025-07-16T04:07:35.862564Z",
     "iopub.status.busy": "2025-07-16T04:07:35.862253Z",
     "iopub.status.idle": "2025-07-16T04:07:35.865587Z",
     "shell.execute_reply": "2025-07-16T04:07:35.865045Z"
    }
   },
   "outputs": [
    {
     "name": "stdout",
     "output_type": "stream",
     "text": [
      "Total headlines across feeds: 4913\n"
     ]
    }
   ],
   "source": [
    "print(f'Total headlines across feeds: {dashboard.headline_count.sum()}')\n",
    "print(f'Headlines in last 24h: {dashboard.last_24h_count.sum()}')\n"
   ]
  },
  {
   "cell_type": "code",
   "execution_count": 4,
   "id": "write-index",
   "metadata": {
    "execution": {
     "iopub.execute_input": "2025-07-16T04:07:35.867473Z",
     "iopub.status.busy": "2025-07-16T04:07:35.867139Z",
     "iopub.status.idle": "2025-07-16T04:07:35.872602Z",
     "shell.execute_reply": "2025-07-16T04:07:35.872058Z"
    }
   },
   "outputs": [
    {
     "name": "stderr",
     "output_type": "stream",
     "text": [
      "/tmp/ipykernel_2267/2849993749.py:5: DeprecationWarning: datetime.datetime.utcnow() is deprecated and scheduled for removal in a future version. Use timezone-aware objects to represent datetimes in UTC: datetime.datetime.now(datetime.UTC).\n",
      "  timestamp = datetime.utcnow().strftime('%Y-%m-%d %H:%M:%S')\n"
     ]
    },
    {
     "data": {
      "text/plain": [
       "1258"
      ]
     },
     "execution_count": 4,
     "metadata": {},
     "output_type": "execute_result"
    }
   ],
   "source": [
    "from datetime import datetime\n",
    "from pathlib import Path\n",
    "from string import Template\n",
    "\n",
    "timestamp = datetime.utcnow().strftime('%Y-%m-%d %H:%M:%S')\n",
    "\n",
    "template_str = \"\"\"---\n",
    "layout: default\n",
    "title: Data Source Dashboard\n",
    "date: $date\n",
    "---\n",
    "\n",
    "## Data Source Dashboard\n",
    "\n",
    "A summary of all data sources and their current headline counts.\n",
    "\n",
    "<p>Last updated: <strong>$date</strong></p>\n",
    "\n",
    "<div id=\\\"dashboard-table\\\"></div>\n",
    "<script>\n",
    "function loadCsvTable(sel, csvPath){\n",
    "  fetch(csvPath)\n",
    "    .then(r => r.text())\n",
    "    .then(text => {\n",
    "      const rows = csvToObjects(text);\n",
    "      const table = ArrTabler(rows);\n",
    "      $(sel).html(table);\n",
    "      new DataTable(sel + ' table', {\n",
    "        order: [[0, 'desc']],\n",
    "        columnDefs: [\n",
    "          { targets: '_all', className: 'dt-head-left dt-body-left' }\n",
    "        ]\n",
    "      });\n",
    "    })\n",
    "    .catch(() => {\n",
    "      $(sel).text('Unable to load data.');\n",
    "    });\n",
    "}\n",
    "\n",
    "document.addEventListener('DOMContentLoaded', function(){\n",
    "  loadCsvTable('#dashboard-table', './latest.csv');\n",
    "});\n",
    "</script>\n",
    "\n",
    "## File Versions:\n",
    "{% assign csv_files = site.static_files | where:\"extname\", \".csv\" | where_exp:\"f\",\"f.path contains 'analysis/dashboard/'\" | sort: 'name' | reverse %}\n",
    "<ol>\n",
    "  <li><a href=\\\"./latest.csv\\\">Latest version</a></li>\n",
    "  {% for file in csv_files %}\n",
    "    {% unless file.name == 'latest.csv' %}\n",
    "  <li><a href=\\\"./{{ file.name }}\\\">{{ file.name }}</a></li>\n",
    "    {% endunless %}\n",
    "  {% endfor %}\n",
    "</ol>\n",
    "\"\"\"\n",
    "\n",
    "template = Template(template_str)\n",
    "Path('index.md').write_text(template.safe_substitute(date=timestamp))\n"
   ]
  }
 ],
 "metadata": {
  "kernelspec": {
   "display_name": "Python 3",
   "language": "python",
   "name": "python3"
  },
  "language_info": {
   "codemirror_mode": {
    "name": "ipython",
    "version": 3
   },
   "file_extension": ".py",
   "mimetype": "text/x-python",
   "name": "python",
   "nbconvert_exporter": "python",
   "pygments_lexer": "ipython3",
   "version": "3.13.5"
  }
 },
 "nbformat": 4,
 "nbformat_minor": 5
}