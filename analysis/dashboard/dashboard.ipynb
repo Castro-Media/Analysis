{
 "cells": [
  {
   "cell_type": "markdown",
   "metadata": {},
   "source": [
    "# Data Source Dashboard"
   ],
   "outputs": [],
   "execution_count": null
  },
  {
   "cell_type": "code",
   "execution_count": null,
   "metadata": {},
   "outputs": [],
   "source": [
    "# ========== Bootstrap: ensure pandas is available =========\n",
    "import importlib, subprocess, sys\n",
    "\n",
    "def _ensure(pkg_name):\n",
    "    try:\n",
    "        importlib.import_module(pkg_name)\n",
    "    except ModuleNotFoundError:\n",
    "        subprocess.check_call([sys.executable, '-m', 'pip', 'install', pkg_name])\n",
    "    finally:\n",
    "        globals()[pkg_name] = importlib.import_module(pkg_name)\n",
    "\n",
    "_ensure('pandas')\n",
    "from pathlib import Path\n",
    "import pandas as pd\n",
    "import json\n",
    "\n",
    "catalog = pd.read_csv(Path('..','..','data','catalog.csv'))\n",
    "catalog['path'] = catalog.apply(lambda r: Path('..','..','data', r['category'], r['source'], r['folder']), axis=1)\n",
    "dashboard = catalog[['path','filetype','last_fetched']].copy()\n",
    "\n",
    "def count_headlines(row):\n",
    "    latest = row['path'] / f\"latest.{row['filetype']}\"\n",
    "    if not latest.exists():\n",
    "        return 0\n",
    "    if row['filetype'] == 'csv':\n",
    "        return sum(1 for _ in open(latest)) - 1\n",
    "    elif row['filetype'] == 'json':\n",
    "        with open(latest) as f:\n",
    "            data = json.load(f)\n",
    "        if isinstance(data, list):\n",
    "            return len(data)\n",
    "        if 'entries' in data:\n",
    "            return len(data['entries'])\n",
    "        if 'observations' in data:\n",
    "            return len(data['observations'])\n",
    "    return 0\n",
    "\n",
    "dashboard['headline_count'] = dashboard.apply(count_headlines, axis=1)\n",
    "dashboard = dashboard.sort_values('path').reset_index(drop=True)\n",
    "dashboard\n"
   ]
  },
  {
   "cell_type": "code",
   "execution_count": null,
   "metadata": {},
   "outputs": [],
   "source": [
    "from datetime import datetime\n",
    "timestamp = datetime.utcnow().strftime('%Y-%m-%d-%H-00')\n",
    "dashboard.to_csv(f'{timestamp}.csv', index=False)\n",
    "dashboard.to_csv('latest.csv', index=False)\n"
   ]
  },
  {
   "cell_type": "code",
   "execution_count": null,
   "metadata": {},
   "outputs": [],
   "source": [
    "print(f'Total headlines across feeds: {dashboard.headline_count.sum()}')\n"
   ]
  }
 ],
 "metadata": {
  "kernelspec": {
   "display_name": "Python 3",
   "language": "python",
   "name": "python3"
  },
  "language_info": {
   "codemirror_mode": {
    "name": "ipython",
    "version": 3
   },
   "file_extension": ".py",
   "mimetype": "text/x-python",
   "name": "python",
   "nbconvert_exporter": "python",
   "pygments_lexer": "ipython3",
   "version": "3.11.9"
  }
 },
 "nbformat": 4,
 "nbformat_minor": 5
}