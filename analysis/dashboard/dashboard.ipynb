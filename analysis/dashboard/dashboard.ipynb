{
  "cells": [
    {
      "cell_type": "markdown",
      "metadata": {},
      "source": [
        "# Data Source Dashboard"
      ]
    },
    {
      "cell_type": "code",
      "execution_count": null,
      "metadata": {},
      "outputs": [],
      "source": [
        "# ========== Bootstrap: ensure pandas is available =========\n",
        "import importlib, subprocess, sys\n",
        "\n",
        "def _ensure(pkg_name):\n",
        "    try:\n",
        "        importlib.import_module(pkg_name)\n",
        "    except ModuleNotFoundError:\n",
        "        subprocess.check_call([sys.executable, '-m', 'pip', 'install', pkg_name])\n",
        "    finally:\n",
        "        globals()[pkg_name] = importlib.import_module(pkg_name)\n",
        "\n",
        "_ensure('pandas')\n",
        "from pathlib import Path\n",
        "import pandas as pd\n",
        "\n",
        "catalog = pd.read_csv(Path('..', '..', 'data', 'catalog.csv'))\n",
        "catalog['path'] = catalog.apply(lambda r: str(Path('data', r['category'], r['source'], r['folder'])), axis=1)\n",
        "dashboard = catalog[['path', 'last_fetched']].sort_values('path').reset_index(drop=True)\n",
        "dashboard"
      ]
    },
    {
      "cell_type": "code",
      "execution_count": null,
      "metadata": {},
      "outputs": [],
      "source": [
        "headlines_path = Path(\"analysis\", \"headlines\", \"latest.csv\")\\n",
        "headline_count = sum(1 for _ in open(headlines_path)) - 1\\n",
        "print(f\"{headline_count} headlines in {headlines_path}\")"
      ]
    }
  ],
  "metadata": {
    "kernelspec": {
      "display_name": "Python 3",
      "language": "python",
      "name": "python3"
    },
    "language_info": {
      "name": "python",
      "pygments_lexer": "ipython3"
    }
  },
  "nbformat": 4,
  "nbformat_minor": 5
}
