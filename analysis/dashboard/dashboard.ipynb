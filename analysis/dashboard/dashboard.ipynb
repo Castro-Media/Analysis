{
  "cells": [
    {
      "cell_type": "markdown",
      "metadata": {},
      "source": [
        "# Data Source Dashboard"
      ]
    },
    {
      "cell_type": "code",
      "execution_count": 1,
      "metadata": {},
      "outputs": [
        {
          "data": {
            "text/html": [
              "<div>\n",
              "<style scoped>\n",
              "    .dataframe tbody tr th:only-of-type {\n",
              "        vertical-align: middle;\n",
              "    }\n",
              "\n",
              "    .dataframe tbody tr th {\n",
              "        vertical-align: top;\n",
              "    }\n",
              "\n",
              "    .dataframe thead th {\n",
              "        text-align: right;\n",
              "    }\n",
              "</style>\n",
              "<table border=\"1\" class=\"dataframe\">\n",
              "  <thead>\n",
              "    <tr style=\"text-align: right;\">\n",
              "      <th></th>\n",
              "      <th>path</th>\n",
              "      <th>last_fetched</th>\n",
              "    </tr>\n",
              "  </thead>\n",
              "  <tbody>\n",
              "    <tr>\n",
              "      <th>0</th>\n",
              "      <td>data\\demographics\\census\\zip-demo-ca</td>\n",
              "      <td>2025-06-18</td>\n",
              "    </tr>\n",
              "    <tr>\n",
              "      <th>1</th>\n",
              "      <td>data\\economics\\fred\\A939RX0Q048SBEA</td>\n",
              "      <td>2025-07-07T16:29</td>\n",
              "    </tr>\n",
              "    <tr>\n",
              "      <th>2</th>\n",
              "      <td>data\\economics\\fred\\CLVMNACSCAB1GQDE</td>\n",
              "      <td>2025-07-07T16:29</td>\n",
              "    </tr>\n",
              "    <tr>\n",
              "      <th>3</th>\n",
              "      <td>data\\economics\\fred\\GDPC1</td>\n",
              "      <td>2025-07-07T16:29</td>\n",
              "    </tr>\n",
              "    <tr>\n",
              "      <th>4</th>\n",
              "      <td>data\\economics\\fred\\GFDEBTN</td>\n",
              "      <td>2025-07-07T16:29</td>\n",
              "    </tr>\n",
              "    <tr>\n",
              "      <th>...</th>\n",
              "      <td>...</td>\n",
              "      <td>...</td>\n",
              "    </tr>\n",
              "    <tr>\n",
              "      <th>57</th>\n",
              "      <td>data\\news-world\\nypost\\news-world-nypost</td>\n",
              "      <td>2025-07-15T19:51</td>\n",
              "    </tr>\n",
              "    <tr>\n",
              "      <th>58</th>\n",
              "      <td>data\\news-world\\nyt\\news-world-nyt</td>\n",
              "      <td>2025-07-15T19:51</td>\n",
              "    </tr>\n",
              "    <tr>\n",
              "      <th>59</th>\n",
              "      <td>data\\news-world\\toi\\news-world-toi</td>\n",
              "      <td>2025-07-15T19:51</td>\n",
              "    </tr>\n",
              "    <tr>\n",
              "      <th>60</th>\n",
              "      <td>data\\news-world\\wapo\\news-world-wapo</td>\n",
              "      <td>2025-07-15T17:52</td>\n",
              "    </tr>\n",
              "    <tr>\n",
              "      <th>61</th>\n",
              "      <td>data\\news-world\\wsj\\news-world-wsj</td>\n",
              "      <td>2025-07-15T19:51</td>\n",
              "    </tr>\n",
              "  </tbody>\n",
              "</table>\n",
              "<p>62 rows × 2 columns</p>\n",
              "</div>"
            ],
            "text/plain": [
              "                                        path      last_fetched\n",
              "0       data\\demographics\\census\\zip-demo-ca        2025-06-18\n",
              "1        data\\economics\\fred\\A939RX0Q048SBEA  2025-07-07T16:29\n",
              "2       data\\economics\\fred\\CLVMNACSCAB1GQDE  2025-07-07T16:29\n",
              "3                  data\\economics\\fred\\GDPC1  2025-07-07T16:29\n",
              "4                data\\economics\\fred\\GFDEBTN  2025-07-07T16:29\n",
              "..                                       ...               ...\n",
              "57  data\\news-world\\nypost\\news-world-nypost  2025-07-15T19:51\n",
              "58        data\\news-world\\nyt\\news-world-nyt  2025-07-15T19:51\n",
              "59        data\\news-world\\toi\\news-world-toi  2025-07-15T19:51\n",
              "60      data\\news-world\\wapo\\news-world-wapo  2025-07-15T17:52\n",
              "61        data\\news-world\\wsj\\news-world-wsj  2025-07-15T19:51\n",
              "\n",
              "[62 rows x 2 columns]"
            ]
          },
          "execution_count": 1,
          "metadata": {},
          "output_type": "execute_result"
        }
      ],
      "source": [
        "# ========== Bootstrap: ensure pandas is available =========\n",
        "import importlib, subprocess, sys\n",
        "\n",
        "def _ensure(pkg_name):\n",
        "    try:\n",
        "        importlib.import_module(pkg_name)\n",
        "    except ModuleNotFoundError:\n",
        "        subprocess.check_call([sys.executable, '-m', 'pip', 'install', pkg_name])\n",
        "    finally:\n",
        "        globals()[pkg_name] = importlib.import_module(pkg_name)\n",
        "\n",
        "_ensure('pandas')\n",
        "from pathlib import Path\n",
        "import pandas as pd\n",
        "\n",
        "catalog = pd.read_csv(Path('..', '..', 'data', 'catalog.csv'))\n",
        "catalog['path'] = catalog.apply(lambda r: str(Path('data', r['category'], r['source'], r['folder'])), axis=1)\n",
        "dashboard = catalog[['path', 'last_fetched']].sort_values('path').reset_index(drop=True)\n",
        "dashboard"
      ]
    },
    {
      "cell_type": "code",
      "execution_count": 2,
      "metadata": {},
      "outputs": [
        {
          "ename": "FileNotFoundError",
          "evalue": "[Errno 2] No such file or directory: 'analysis\\\\headlines\\\\latest.csv'",
          "output_type": "error",
          "traceback": [
            "\u001b[31m---------------------------------------------------------------------------\u001b[39m",
            "\u001b[31mFileNotFoundError\u001b[39m                         Traceback (most recent call last)",
            "\u001b[36mCell\u001b[39m\u001b[36m \u001b[39m\u001b[32mIn[2]\u001b[39m\u001b[32m, line 2\u001b[39m\n\u001b[32m      1\u001b[39m headlines_path = Path(\u001b[33m\"\u001b[39m\u001b[33manalysis\u001b[39m\u001b[33m\"\u001b[39m, \u001b[33m\"\u001b[39m\u001b[33mheadlines\u001b[39m\u001b[33m\"\u001b[39m, \u001b[33m\"\u001b[39m\u001b[33mlatest.csv\u001b[39m\u001b[33m\"\u001b[39m)\n\u001b[32m----> \u001b[39m\u001b[32m2\u001b[39m headline_count = \u001b[38;5;28msum\u001b[39m(\u001b[32m1\u001b[39m \u001b[38;5;28;01mfor\u001b[39;00m _ \u001b[38;5;129;01min\u001b[39;00m \u001b[38;5;28;43mopen\u001b[39;49m\u001b[43m(\u001b[49m\u001b[43mheadlines_path\u001b[49m\u001b[43m)\u001b[49m) - \u001b[32m1\u001b[39m\n\u001b[32m      3\u001b[39m \u001b[38;5;28mprint\u001b[39m(\u001b[33mf\u001b[39m\u001b[33m\"\u001b[39m\u001b[38;5;132;01m{\u001b[39;00mheadline_count\u001b[38;5;132;01m}\u001b[39;00m\u001b[33m headlines in \u001b[39m\u001b[38;5;132;01m{\u001b[39;00mheadlines_path\u001b[38;5;132;01m}\u001b[39;00m\u001b[33m\"\u001b[39m)\n",
            "\u001b[36mFile \u001b[39m\u001b[32m~\\AppData\\Local\\Packages\\PythonSoftwareFoundation.Python.3.11_qbz5n2kfra8p0\\LocalCache\\local-packages\\Python311\\site-packages\\IPython\\core\\interactiveshell.py:343\u001b[39m, in \u001b[36m_modified_open\u001b[39m\u001b[34m(file, *args, **kwargs)\u001b[39m\n\u001b[32m    336\u001b[39m \u001b[38;5;28;01mif\u001b[39;00m file \u001b[38;5;129;01min\u001b[39;00m {\u001b[32m0\u001b[39m, \u001b[32m1\u001b[39m, \u001b[32m2\u001b[39m}:\n\u001b[32m    337\u001b[39m     \u001b[38;5;28;01mraise\u001b[39;00m \u001b[38;5;167;01mValueError\u001b[39;00m(\n\u001b[32m    338\u001b[39m         \u001b[33mf\u001b[39m\u001b[33m\"\u001b[39m\u001b[33mIPython won\u001b[39m\u001b[33m'\u001b[39m\u001b[33mt let you open fd=\u001b[39m\u001b[38;5;132;01m{\u001b[39;00mfile\u001b[38;5;132;01m}\u001b[39;00m\u001b[33m by default \u001b[39m\u001b[33m\"\u001b[39m\n\u001b[32m    339\u001b[39m         \u001b[33m\"\u001b[39m\u001b[33mas it is likely to crash IPython. If you know what you are doing, \u001b[39m\u001b[33m\"\u001b[39m\n\u001b[32m    340\u001b[39m         \u001b[33m\"\u001b[39m\u001b[33myou can use builtins\u001b[39m\u001b[33m'\u001b[39m\u001b[33m open.\u001b[39m\u001b[33m\"\u001b[39m\n\u001b[32m    341\u001b[39m     )\n\u001b[32m--> \u001b[39m\u001b[32m343\u001b[39m \u001b[38;5;28;01mreturn\u001b[39;00m \u001b[43mio_open\u001b[49m\u001b[43m(\u001b[49m\u001b[43mfile\u001b[49m\u001b[43m,\u001b[49m\u001b[43m \u001b[49m\u001b[43m*\u001b[49m\u001b[43margs\u001b[49m\u001b[43m,\u001b[49m\u001b[43m \u001b[49m\u001b[43m*\u001b[49m\u001b[43m*\u001b[49m\u001b[43mkwargs\u001b[49m\u001b[43m)\u001b[49m\n",
            "\u001b[31mFileNotFoundError\u001b[39m: [Errno 2] No such file or directory: 'analysis\\\\headlines\\\\latest.csv'"
          ]
        }
      ],
      "source": [
        "headlines_path = Path(\"analysis\", \"headlines\", \"latest.csv\")\n",
        "headline_count = sum(1 for _ in open(headlines_path)) - 1\n",
        "print(f\"{headline_count} headlines in {headlines_path}\")"
      ]
    }
  ],
  "metadata": {
    "kernelspec": {
      "display_name": "Python 3",
      "language": "python",
      "name": "python3"
    },
    "language_info": {
      "codemirror_mode": {
        "name": "ipython",
        "version": 3
      },
      "file_extension": ".py",
      "mimetype": "text/x-python",
      "name": "python",
      "nbconvert_exporter": "python",
      "pygments_lexer": "ipython3",
      "version": "3.11.9"
    }
  },
  "nbformat": 4,
  "nbformat_minor": 5
}
