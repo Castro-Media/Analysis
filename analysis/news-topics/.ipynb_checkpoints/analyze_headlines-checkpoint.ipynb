{
 "cells": [
  {
   "cell_type": "markdown",
   "id": "f89ea7b0",
   "metadata": {},
   "source": [
    "## Load latest headlines"
   ]
  },
  {
   "cell_type": "code",
   "execution_count": 2,
   "id": "142cda3c",
   "metadata": {},
   "outputs": [
    {
     "ename": "TypeError",
     "evalue": "unsupported operand type(s) for |: 'type' and 'NoneType'",
     "output_type": "error",
     "traceback": [
      "\u001b[0;31m---------------------------------------------------------------------------\u001b[0m",
      "\u001b[0;31mTypeError\u001b[0m                                 Traceback (most recent call last)",
      "Cell \u001b[0;32mIn[2], line 4\u001b[0m\n\u001b[1;32m      1\u001b[0m \u001b[38;5;66;03m# ========== Bootstrap: ensure required Python packages are present =========\u001b[39;00m\n\u001b[1;32m      2\u001b[0m \u001b[38;5;28;01mimport\u001b[39;00m\u001b[38;5;250m \u001b[39m\u001b[38;5;21;01mimportlib\u001b[39;00m\u001b[38;5;241m,\u001b[39m\u001b[38;5;250m \u001b[39m\u001b[38;5;21;01msubprocess\u001b[39;00m\u001b[38;5;241m,\u001b[39m\u001b[38;5;250m \u001b[39m\u001b[38;5;21;01msys\u001b[39;00m\n\u001b[0;32m----> 4\u001b[0m \u001b[38;5;28;01mdef\u001b[39;00m\u001b[38;5;250m \u001b[39m\u001b[38;5;21m_ensure\u001b[39m(pkg_name: \u001b[38;5;28mstr\u001b[39m, import_name: \u001b[38;5;28;43mstr\u001b[39;49m\u001b[43m \u001b[49m\u001b[38;5;241;43m|\u001b[39;49m\u001b[43m \u001b[49m\u001b[38;5;28;43;01mNone\u001b[39;49;00m \u001b[38;5;241m=\u001b[39m \u001b[38;5;28;01mNone\u001b[39;00m):\n\u001b[1;32m      5\u001b[0m     \u001b[38;5;28;01mtry\u001b[39;00m:\n\u001b[1;32m      6\u001b[0m         importlib\u001b[38;5;241m.\u001b[39mimport_module(import_name \u001b[38;5;129;01mor\u001b[39;00m pkg_name)\n",
      "\u001b[0;31mTypeError\u001b[0m: unsupported operand type(s) for |: 'type' and 'NoneType'"
     ]
    }
   ],
   "source": [
    "# ========== Bootstrap: ensure required Python packages are present =========\n",
    "import importlib, subprocess, sys\n",
    "from typing import Optional\n",
    "\n",
    "def _ensure(pkg_name: str, import_name: Optional[str] = None):\n",
    "    try:\n",
    "        importlib.import_module(import_name or pkg_name)\n",
    "    except ModuleNotFoundError:\n",
    "        subprocess.check_call([sys.executable, '-m', 'pip', 'install', pkg_name])\n",
    "    finally:\n",
    "        globals()[import_name or pkg_name] = importlib.import_module(import_name or pkg_name)\n",
    "\n",
    "_ensure('pandas')\n",
    "print('All dependencies ready.\\n')\n"
   ]
  },
  {
   "cell_type": "code",
   "execution_count": 1,
   "id": "7c58a61b",
   "metadata": {
    "tags": []
   },
   "outputs": [
    {
     "ename": "ModuleNotFoundError",
     "evalue": "No module named 'pandas'",
     "output_type": "error",
     "traceback": [
      "\u001b[0;31m---------------------------------------------------------------------------\u001b[0m",
      "\u001b[0;31mModuleNotFoundError\u001b[0m                       Traceback (most recent call last)",
      "Cell \u001b[0;32mIn[1], line 1\u001b[0m\n\u001b[0;32m----> 1\u001b[0m \u001b[38;5;28;01mimport\u001b[39;00m\u001b[38;5;250m \u001b[39m\u001b[38;5;21;01mpandas\u001b[39;00m\u001b[38;5;250m \u001b[39m\u001b[38;5;28;01mas\u001b[39;00m\u001b[38;5;250m \u001b[39m\u001b[38;5;21;01mpd\u001b[39;00m\n\u001b[1;32m      2\u001b[0m latest \u001b[38;5;241m=\u001b[39m pd\u001b[38;5;241m.\u001b[39mread_csv(\u001b[38;5;124m'\u001b[39m\u001b[38;5;124m../headlines/latest.csv\u001b[39m\u001b[38;5;124m'\u001b[39m)\n\u001b[1;32m      3\u001b[0m latest\u001b[38;5;241m.\u001b[39mhead()\n",
      "\u001b[0;31mModuleNotFoundError\u001b[0m: No module named 'pandas'"
     ]
    }
   ],
   "source": [
    "import pandas as pd\n",
    "latest = pd.read_csv('../headlines/latest.csv')\n",
    "latest.head()"
   ]
  },
  {
   "cell_type": "markdown",
   "id": "833c1224",
   "metadata": {},
   "source": [
    "## Calculate word frequencies"
   ]
  },
  {
   "cell_type": "code",
   "execution_count": 10,
   "id": "a7188e2c",
   "metadata": {
    "execution": {
     "iopub.execute_input": "2025-06-08T04:34:06.053303Z",
     "iopub.status.busy": "2025-06-08T04:34:06.053303Z",
     "iopub.status.idle": "2025-06-08T04:34:06.064151Z",
     "shell.execute_reply": "2025-06-08T04:34:06.064151Z"
    }
   },
   "outputs": [
    {
     "name": "stderr",
     "output_type": "stream",
     "text": [
      "C:\\Users\\CJ\\AppData\\Local\\Temp\\ipykernel_45268\\2741963311.py:15: DeprecationWarning: datetime.datetime.utcnow() is deprecated and scheduled for removal in a future version. Use timezone-aware objects to represent datetimes in UTC: datetime.datetime.now(datetime.UTC).\n",
      "  timestamp = datetime.utcnow().strftime('%Y-%m-%d-%H-00-00')\n"
     ]
    },
    {
     "data": {
      "text/html": [
       "<div>\n",
       "<style scoped>\n",
       "    .dataframe tbody tr th:only-of-type {\n",
       "        vertical-align: middle;\n",
       "    }\n",
       "\n",
       "    .dataframe tbody tr th {\n",
       "        vertical-align: top;\n",
       "    }\n",
       "\n",
       "    .dataframe thead th {\n",
       "        text-align: right;\n",
       "    }\n",
       "</style>\n",
       "<table border=\"1\" class=\"dataframe\">\n",
       "  <thead>\n",
       "    <tr style=\"text-align: right;\">\n",
       "      <th></th>\n",
       "      <th>word</th>\n",
       "      <th>score</th>\n",
       "    </tr>\n",
       "  </thead>\n",
       "  <tbody>\n",
       "    <tr>\n",
       "      <th>35</th>\n",
       "      <td>trump</td>\n",
       "      <td>7</td>\n",
       "    </tr>\n",
       "    <tr>\n",
       "      <th>28</th>\n",
       "      <td>musk</td>\n",
       "      <td>5</td>\n",
       "    </tr>\n",
       "    <tr>\n",
       "      <th>30</th>\n",
       "      <td>elon</td>\n",
       "      <td>4</td>\n",
       "    </tr>\n",
       "    <tr>\n",
       "      <th>33</th>\n",
       "      <td>going</td>\n",
       "      <td>2</td>\n",
       "    </tr>\n",
       "    <tr>\n",
       "      <th>20</th>\n",
       "      <td>shot</td>\n",
       "      <td>2</td>\n",
       "    </tr>\n",
       "  </tbody>\n",
       "</table>\n",
       "</div>"
      ],
      "text/plain": [
       "     word  score\n",
       "35  trump      7\n",
       "28   musk      5\n",
       "30   elon      4\n",
       "33  going      2\n",
       "20   shot      2"
      ]
     },
     "execution_count": 10,
     "metadata": {},
     "output_type": "execute_result"
    }
   ],
   "source": [
    "import re\n",
    "from collections import Counter\n",
    "from datetime import datetime\n",
    "\n",
    "with open('exclude.txt') as f:\n",
    "    stop_words = set(w.strip() for w in f if w.strip())\n",
    "words = re.findall(r'[A-Za-z]+', ' '.join(latest['title']).lower())\n",
    "filtered = [w for w in words if w not in stop_words and len(w) > 1]\n",
    "counts = Counter(filtered)\n",
    "score_df = (\n",
    "    pd.DataFrame(counts.items(), columns=['word','score'])\n",
    "    .sort_values('score', ascending=False)\n",
    ")\n",
    "score_df[['score','word']].to_csv('scores.csv', index=False)\n",
    "timestamp = datetime.utcnow().strftime('%Y-%m-%d-%H-00-00')\n",
    "score_df[['score','word']].to_csv(f'scores-{timestamp}.csv', index=False)\n",
    "score_df.head()\n"
   ]
  },
  {
   "cell_type": "markdown",
   "id": "c5e8edb2",
   "metadata": {},
   "source": [
    "## Rank headlines by score"
   ]
  },
  {
   "cell_type": "code",
   "execution_count": 11,
   "id": "693d409d",
   "metadata": {
    "execution": {
     "iopub.execute_input": "2025-06-08T04:34:06.065150Z",
     "iopub.status.busy": "2025-06-08T04:34:06.065150Z",
     "iopub.status.idle": "2025-06-08T04:34:06.072831Z",
     "shell.execute_reply": "2025-06-08T04:34:06.072831Z"
    }
   },
   "outputs": [
    {
     "data": {
      "text/html": [
       "<div>\n",
       "<style scoped>\n",
       "    .dataframe tbody tr th:only-of-type {\n",
       "        vertical-align: middle;\n",
       "    }\n",
       "\n",
       "    .dataframe tbody tr th {\n",
       "        vertical-align: top;\n",
       "    }\n",
       "\n",
       "    .dataframe thead th {\n",
       "        text-align: right;\n",
       "    }\n",
       "</style>\n",
       "<table border=\"1\" class=\"dataframe\">\n",
       "  <thead>\n",
       "    <tr style=\"text-align: right;\">\n",
       "      <th></th>\n",
       "      <th>pubdate</th>\n",
       "      <th>source</th>\n",
       "      <th>title</th>\n",
       "      <th>link</th>\n",
       "      <th>score</th>\n",
       "    </tr>\n",
       "  </thead>\n",
       "  <tbody>\n",
       "    <tr>\n",
       "      <th>24</th>\n",
       "      <td>2025-06-07-17-19-14 +0000</td>\n",
       "      <td>nypost</td>\n",
       "      <td>Trump threatens Elon Musk with ‘very serious c...</td>\n",
       "      <td>https://nypost.com/2025/06/07/us-news/trump-sa...</td>\n",
       "      <td>27</td>\n",
       "    </tr>\n",
       "    <tr>\n",
       "      <th>4</th>\n",
       "      <td>2025-06-08-14-26-02 +0000</td>\n",
       "      <td>nypost</td>\n",
       "      <td>Musk’s father says Elon made a mistake going n...</td>\n",
       "      <td>https://nypost.com/2025/06/08/us-news/musks-fa...</td>\n",
       "      <td>26</td>\n",
       "    </tr>\n",
       "    <tr>\n",
       "      <th>13</th>\n",
       "      <td>2025-06-08-08-57-16 +0000</td>\n",
       "      <td>nypost</td>\n",
       "      <td>Trump rips ‘incompetent’ Newsom, LA Mayor Bass...</td>\n",
       "      <td>https://nypost.com/2025/06/08/us-news/trump-ri...</td>\n",
       "      <td>25</td>\n",
       "    </tr>\n",
       "    <tr>\n",
       "      <th>6</th>\n",
       "      <td>2025-06-08-13-18-29 +0000</td>\n",
       "      <td>nypost</td>\n",
       "      <td>ABC correspondent Terry Moran suspended after ...</td>\n",
       "      <td>https://nypost.com/2025/06/08/us-news/abc-news...</td>\n",
       "      <td>24</td>\n",
       "    </tr>\n",
       "    <tr>\n",
       "      <th>18</th>\n",
       "      <td>2025-06-08-00-53-31 +0000</td>\n",
       "      <td>nypost</td>\n",
       "      <td>Elon Musk body-checked Treasury Secretary Scot...</td>\n",
       "      <td>https://nypost.com/2025/06/07/us-news/elon-mus...</td>\n",
       "      <td>24</td>\n",
       "    </tr>\n",
       "  </tbody>\n",
       "</table>\n",
       "</div>"
      ],
      "text/plain": [
       "                      pubdate  source  \\\n",
       "24  2025-06-07-17-19-14 +0000  nypost   \n",
       "4   2025-06-08-14-26-02 +0000  nypost   \n",
       "13  2025-06-08-08-57-16 +0000  nypost   \n",
       "6   2025-06-08-13-18-29 +0000  nypost   \n",
       "18  2025-06-08-00-53-31 +0000  nypost   \n",
       "\n",
       "                                                title  \\\n",
       "24  Trump threatens Elon Musk with ‘very serious c...   \n",
       "4   Musk’s father says Elon made a mistake going n...   \n",
       "13  Trump rips ‘incompetent’ Newsom, LA Mayor Bass...   \n",
       "6   ABC correspondent Terry Moran suspended after ...   \n",
       "18  Elon Musk body-checked Treasury Secretary Scot...   \n",
       "\n",
       "                                                 link  score  \n",
       "24  https://nypost.com/2025/06/07/us-news/trump-sa...     27  \n",
       "4   https://nypost.com/2025/06/08/us-news/musks-fa...     26  \n",
       "13  https://nypost.com/2025/06/08/us-news/trump-ri...     25  \n",
       "6   https://nypost.com/2025/06/08/us-news/abc-news...     24  \n",
       "18  https://nypost.com/2025/06/07/us-news/elon-mus...     24  "
      ]
     },
     "execution_count": 11,
     "metadata": {},
     "output_type": "execute_result"
    }
   ],
   "source": [
    "word_scores = dict(score_df[['word','score']].values)\n",
    "latest['score'] = latest['title'].apply(\n",
    "    lambda t: sum(\n",
    "        word_scores.get(w.lower(), 0)\n",
    "        for w in re.findall(r'[A-Za-z]+', t)\n",
    "        if len(w) > 1\n",
    "    )\n",
    ")\n",
    "ranked = latest.sort_values('score', ascending=False)\n",
    "ranked[['score','pubdate','source','title','link']].to_csv('rank.csv', index=False)\n",
    "ranked[['score','pubdate','source','title','link']].to_csv(f'rank-{timestamp}.csv', index=False)\n",
    "ranked.head()\n"
   ]
  },
  {
   "cell_type": "markdown",
   "id": "3227bcb4",
   "metadata": {},
   "source": [
    "## Select top headlines"
   ]
  },
  {
   "cell_type": "code",
   "execution_count": 12,
   "id": "5a503efd",
   "metadata": {
    "execution": {
     "iopub.execute_input": "2025-06-08T04:34:06.073829Z",
     "iopub.status.busy": "2025-06-08T04:34:06.073829Z",
     "iopub.status.idle": "2025-06-08T04:34:06.088686Z",
     "shell.execute_reply": "2025-06-08T04:34:06.088471Z"
    }
   },
   "outputs": [
    {
     "data": {
      "text/html": [
       "<div>\n",
       "<style scoped>\n",
       "    .dataframe tbody tr th:only-of-type {\n",
       "        vertical-align: middle;\n",
       "    }\n",
       "\n",
       "    .dataframe tbody tr th {\n",
       "        vertical-align: top;\n",
       "    }\n",
       "\n",
       "    .dataframe thead th {\n",
       "        text-align: right;\n",
       "    }\n",
       "</style>\n",
       "<table border=\"1\" class=\"dataframe\">\n",
       "  <thead>\n",
       "    <tr style=\"text-align: right;\">\n",
       "      <th></th>\n",
       "      <th>score</th>\n",
       "      <th>pubdate</th>\n",
       "      <th>source</th>\n",
       "      <th>title</th>\n",
       "      <th>link</th>\n",
       "    </tr>\n",
       "  </thead>\n",
       "  <tbody>\n",
       "    <tr>\n",
       "      <th>24</th>\n",
       "      <td>27</td>\n",
       "      <td>2025-06-07-17-19-14 +0000</td>\n",
       "      <td>nypost</td>\n",
       "      <td>Trump threatens Elon Musk with ‘very serious c...</td>\n",
       "      <td>https://nypost.com/2025/06/07/us-news/trump-sa...</td>\n",
       "    </tr>\n",
       "    <tr>\n",
       "      <th>13</th>\n",
       "      <td>18</td>\n",
       "      <td>2025-06-08-08-57-16 +0000</td>\n",
       "      <td>nypost</td>\n",
       "      <td>Trump rips ‘incompetent’ Newsom, LA Mayor Bass...</td>\n",
       "      <td>https://nypost.com/2025/06/08/us-news/trump-ri...</td>\n",
       "    </tr>\n",
       "    <tr>\n",
       "      <th>9</th>\n",
       "      <td>16</td>\n",
       "      <td>2025-06-08-09-30-00 +0000</td>\n",
       "      <td>wsj</td>\n",
       "      <td>Export controls—a major concern for industries...</td>\n",
       "      <td>https://www.wsj.com/economy/trade/export-contr...</td>\n",
       "    </tr>\n",
       "    <tr>\n",
       "      <th>5</th>\n",
       "      <td>16</td>\n",
       "      <td>2025-06-08-14-03-33 +0000</td>\n",
       "      <td>bbc</td>\n",
       "      <td>Gaza health workers say four killed by Israeli...</td>\n",
       "      <td>https://www.bbc.com/news/articles/c5y5wpz49xlo</td>\n",
       "    </tr>\n",
       "    <tr>\n",
       "      <th>18</th>\n",
       "      <td>15</td>\n",
       "      <td>2025-06-08-00-53-31 +0000</td>\n",
       "      <td>nypost</td>\n",
       "      <td>Elon Musk body-checked Treasury Secretary Scot...</td>\n",
       "      <td>https://nypost.com/2025/06/07/us-news/elon-mus...</td>\n",
       "    </tr>\n",
       "    <tr>\n",
       "      <th>27</th>\n",
       "      <td>14</td>\n",
       "      <td>2025-06-07-16-59-12 +0000</td>\n",
       "      <td>nypost</td>\n",
       "      <td>Hillary, Huma and Amal walk into a bar: Newest...</td>\n",
       "      <td>https://nypost.com/2025/06/07/us-news/the-newe...</td>\n",
       "    </tr>\n",
       "    <tr>\n",
       "      <th>6</th>\n",
       "      <td>13</td>\n",
       "      <td>2025-06-08-13-18-29 +0000</td>\n",
       "      <td>nypost</td>\n",
       "      <td>ABC correspondent Terry Moran suspended after ...</td>\n",
       "      <td>https://nypost.com/2025/06/08/us-news/abc-news...</td>\n",
       "    </tr>\n",
       "    <tr>\n",
       "      <th>17</th>\n",
       "      <td>13</td>\n",
       "      <td>2025-06-08-01-00-00 +0000</td>\n",
       "      <td>wsj</td>\n",
       "      <td>Businesses are warning that constantly shiftin...</td>\n",
       "      <td>https://www.wsj.com/economy/trump-tariffs-us-e...</td>\n",
       "    </tr>\n",
       "    <tr>\n",
       "      <th>22</th>\n",
       "      <td>12</td>\n",
       "      <td>2025-06-07-19-48-33 +0000</td>\n",
       "      <td>nypost</td>\n",
       "      <td>Ex-NY Young Republicans leader endorsed by out...</td>\n",
       "      <td>https://nypost.com/2025/06/07/us-news/ex-ny-yo...</td>\n",
       "    </tr>\n",
       "    <tr>\n",
       "      <th>23</th>\n",
       "      <td>11</td>\n",
       "      <td>2025-06-07-18-07-28 +0000</td>\n",
       "      <td>nypost</td>\n",
       "      <td>Trump warns of possible military action if Ira...</td>\n",
       "      <td>https://nypost.com/2025/06/07/us-news/trump-wa...</td>\n",
       "    </tr>\n",
       "  </tbody>\n",
       "</table>\n",
       "</div>"
      ],
      "text/plain": [
       "    score                    pubdate  source  \\\n",
       "24     27  2025-06-07-17-19-14 +0000  nypost   \n",
       "13     18  2025-06-08-08-57-16 +0000  nypost   \n",
       "9      16  2025-06-08-09-30-00 +0000     wsj   \n",
       "5      16  2025-06-08-14-03-33 +0000     bbc   \n",
       "18     15  2025-06-08-00-53-31 +0000  nypost   \n",
       "27     14  2025-06-07-16-59-12 +0000  nypost   \n",
       "6      13  2025-06-08-13-18-29 +0000  nypost   \n",
       "17     13  2025-06-08-01-00-00 +0000     wsj   \n",
       "22     12  2025-06-07-19-48-33 +0000  nypost   \n",
       "23     11  2025-06-07-18-07-28 +0000  nypost   \n",
       "\n",
       "                                                title  \\\n",
       "24  Trump threatens Elon Musk with ‘very serious c...   \n",
       "13  Trump rips ‘incompetent’ Newsom, LA Mayor Bass...   \n",
       "9   Export controls—a major concern for industries...   \n",
       "5   Gaza health workers say four killed by Israeli...   \n",
       "18  Elon Musk body-checked Treasury Secretary Scot...   \n",
       "27  Hillary, Huma and Amal walk into a bar: Newest...   \n",
       "6   ABC correspondent Terry Moran suspended after ...   \n",
       "17  Businesses are warning that constantly shiftin...   \n",
       "22  Ex-NY Young Republicans leader endorsed by out...   \n",
       "23  Trump warns of possible military action if Ira...   \n",
       "\n",
       "                                                 link  \n",
       "24  https://nypost.com/2025/06/07/us-news/trump-sa...  \n",
       "13  https://nypost.com/2025/06/08/us-news/trump-ri...  \n",
       "9   https://www.wsj.com/economy/trade/export-contr...  \n",
       "5      https://www.bbc.com/news/articles/c5y5wpz49xlo  \n",
       "18  https://nypost.com/2025/06/07/us-news/elon-mus...  \n",
       "27  https://nypost.com/2025/06/07/us-news/the-newe...  \n",
       "6   https://nypost.com/2025/06/08/us-news/abc-news...  \n",
       "17  https://www.wsj.com/economy/trump-tariffs-us-e...  \n",
       "22  https://nypost.com/2025/06/07/us-news/ex-ny-yo...  \n",
       "23  https://nypost.com/2025/06/07/us-news/trump-wa...  "
      ]
     },
     "execution_count": 12,
     "metadata": {},
     "output_type": "execute_result"
    }
   ],
   "source": [
    "top_rows = []\n",
    "working = word_scores.copy()\n",
    "remaining = latest.copy()\n",
    "for _ in range(10):\n",
    "    ranked_loop = remaining.assign(score=remaining['title'].apply(\n",
    "        lambda t: sum(working.get(w.lower(), 0)\n",
    "                      for w in re.findall(r'[A-Za-z]+', t)\n",
    "                      if len(w) > 1)\n",
    "    )).sort_values('score', ascending=False)\n",
    "    if ranked_loop.empty:\n",
    "        break\n",
    "    top_story = ranked_loop.iloc[0]\n",
    "    top_rows.append(top_story[['score','pubdate','source','title','link']])\n",
    "    words = set(re.findall(r'[A-Za-z]+', top_story['title'].lower()))\n",
    "    for w in words:\n",
    "        working.pop(w, None)\n",
    "    remaining = remaining.drop(top_story.name)\n",
    "top_df = pd.DataFrame(top_rows)\n",
    "top_df.to_csv('top.csv', index=False)\n",
    "top_df.to_csv(f'top-{timestamp}.csv', index=False)\n",
    "top_df\n"
   ]
  },
  {
   "cell_type": "markdown",
   "id": "1a1d932c",
   "metadata": {},
   "source": [
    "## Next steps"
   ]
  }
 ],
 "metadata": {
  "kernelspec": {
   "display_name": "Python 3 (ipykernel)",
   "language": "python",
   "name": "python3"
  },
  "language_info": {
   "codemirror_mode": {
    "name": "ipython",
    "version": 3
   },
   "file_extension": ".py",
   "mimetype": "text/x-python",
   "name": "python",
   "nbconvert_exporter": "python",
   "pygments_lexer": "ipython3",
   "version": "3.8.20"
  }
 },
 "nbformat": 4,
 "nbformat_minor": 5
}
