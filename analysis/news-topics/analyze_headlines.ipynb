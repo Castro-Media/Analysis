{
  "cells": [
    {
      "cell_type": "markdown",
      "metadata": {},
      "source": [
        "## Load latest headlines"
      ]
    },
    {
      "cell_type": "code",
      "execution_count": 1,
      "metadata": {},
      "outputs": [
        {
          "data": {
            "text/html": [
              "<div>\n",
              "<style scoped>\n",
              "    .dataframe tbody tr th:only-of-type {\n",
              "        vertical-align: middle;\n",
              "    }\n",
              "\n",
              "    .dataframe tbody tr th {\n",
              "        vertical-align: top;\n",
              "    }\n",
              "\n",
              "    .dataframe thead th {\n",
              "        text-align: right;\n",
              "    }\n",
              "</style>\n",
              "<table border=\"1\" class=\"dataframe\">\n",
              "  <thead>\n",
              "    <tr style=\"text-align: right;\">\n",
              "      <th></th>\n",
              "      <th>pubdate</th>\n",
              "      <th>source</th>\n",
              "      <th>title</th>\n",
              "      <th>link</th>\n",
              "    </tr>\n",
              "  </thead>\n",
              "  <tbody>\n",
              "    <tr>\n",
              "      <th>0</th>\n",
              "      <td>2025-06-05-04-13-00 +0000</td>\n",
              "      <td>wsj</td>\n",
              "      <td>AUD’s Role as Economic Shock Absorber Might Fade</td>\n",
              "      <td>https://www.wsj.com/finance/currencies/asian-c...</td>\n",
              "    </tr>\n",
              "    <tr>\n",
              "      <th>1</th>\n",
              "      <td>2025-06-05-03-49-26 +0000</td>\n",
              "      <td>nyt</td>\n",
              "      <td>Drone Attacks Are the New Front in War. Can NA...</td>\n",
              "      <td>https://www.nytimes.com/2025/06/04/world/europ...</td>\n",
              "    </tr>\n",
              "    <tr>\n",
              "      <th>2</th>\n",
              "      <td>2025-06-05-03-22-03 +0000</td>\n",
              "      <td>nyt</td>\n",
              "      <td>Trump Travel Order Bans People From 12 Countri...</td>\n",
              "      <td>https://www.nytimes.com/2025/06/04/us/politics...</td>\n",
              "    </tr>\n",
              "    <tr>\n",
              "      <th>3</th>\n",
              "      <td>2025-06-05-03-22-00 +0000</td>\n",
              "      <td>wsj</td>\n",
              "      <td>Judge Blocks Deportation of Boulder Suspect’s ...</td>\n",
              "      <td>https://www.wsj.com/us-news/judge-blocks-depor...</td>\n",
              "    </tr>\n",
              "    <tr>\n",
              "      <th>4</th>\n",
              "      <td>2025-06-05-03-04-09 +0000</td>\n",
              "      <td>nyt</td>\n",
              "      <td>U.S. Brings Back Guatemalan Wrongly Deported t...</td>\n",
              "      <td>https://www.nytimes.com/2025/06/04/us/politics...</td>\n",
              "    </tr>\n",
              "  </tbody>\n",
              "</table>\n",
              "</div>"
            ],
            "text/plain": [
              "                     pubdate source  \\\n",
              "0  2025-06-05-04-13-00 +0000    wsj   \n",
              "1  2025-06-05-03-49-26 +0000    nyt   \n",
              "2  2025-06-05-03-22-03 +0000    nyt   \n",
              "3  2025-06-05-03-22-00 +0000    wsj   \n",
              "4  2025-06-05-03-04-09 +0000    nyt   \n",
              "\n",
              "                                               title  \\\n",
              "0   AUD’s Role as Economic Shock Absorber Might Fade   \n",
              "1  Drone Attacks Are the New Front in War. Can NA...   \n",
              "2  Trump Travel Order Bans People From 12 Countri...   \n",
              "3  Judge Blocks Deportation of Boulder Suspect’s ...   \n",
              "4  U.S. Brings Back Guatemalan Wrongly Deported t...   \n",
              "\n",
              "                                                link  \n",
              "0  https://www.wsj.com/finance/currencies/asian-c...  \n",
              "1  https://www.nytimes.com/2025/06/04/world/europ...  \n",
              "2  https://www.nytimes.com/2025/06/04/us/politics...  \n",
              "3  https://www.wsj.com/us-news/judge-blocks-depor...  \n",
              "4  https://www.nytimes.com/2025/06/04/us/politics...  "
            ]
          },
          "execution_count": 1,
          "metadata": {},
          "output_type": "execute_result"
        }
      ],
      "source": [
        "import pandas as pd\n",
        "latest = pd.read_csv('../headlines/latest.csv')\n",
        "latest.head()"
      ]
    },
    {
      "cell_type": "markdown",
      "metadata": {},
      "source": [
        "## Calculate word frequencies"
      ]
    },
    {
      "cell_type": "code",
      "execution_count": 2,
      "metadata": {},
      "outputs": [
        {
          "name": "stderr",
          "output_type": "stream",
          "text": [
            "C:\\Users\\CJ\\AppData\\Local\\Temp\\ipykernel_19180\\1787078784.py:11: DeprecationWarning: datetime.datetime.utcnow() is deprecated and scheduled for removal in a future version. Use timezone-aware objects to represent datetimes in UTC: datetime.datetime.now(datetime.UTC).\n",
            "  timestamp = datetime.utcnow().strftime('%Y-%m-%d-%H-%M-00')\n"
          ]
        },
        {
          "data": {
            "text/html": [
              "<div>\n",
              "<style scoped>\n",
              "    .dataframe tbody tr th:only-of-type {\n",
              "        vertical-align: middle;\n",
              "    }\n",
              "\n",
              "    .dataframe tbody tr th {\n",
              "        vertical-align: top;\n",
              "    }\n",
              "\n",
              "    .dataframe thead th {\n",
              "        text-align: right;\n",
              "    }\n",
              "</style>\n",
              "<table border=\"1\" class=\"dataframe\">\n",
              "  <thead>\n",
              "    <tr style=\"text-align: right;\">\n",
              "      <th></th>\n",
              "      <th>word</th>\n",
              "      <th>score</th>\n",
              "    </tr>\n",
              "  </thead>\n",
              "  <tbody>\n",
              "    <tr>\n",
              "      <th>1</th>\n",
              "      <td>s</td>\n",
              "      <td>76</td>\n",
              "    </tr>\n",
              "    <tr>\n",
              "      <th>17</th>\n",
              "      <td>trump</td>\n",
              "      <td>46</td>\n",
              "    </tr>\n",
              "    <tr>\n",
              "      <th>24</th>\n",
              "      <td>u</td>\n",
              "      <td>29</td>\n",
              "    </tr>\n",
              "    <tr>\n",
              "      <th>105</th>\n",
              "      <td>south</td>\n",
              "      <td>18</td>\n",
              "    </tr>\n",
              "    <tr>\n",
              "      <th>10</th>\n",
              "      <td>new</td>\n",
              "      <td>12</td>\n",
              "    </tr>\n",
              "  </tbody>\n",
              "</table>\n",
              "</div>"
            ],
            "text/plain": [
              "      word  score\n",
              "1        s     76\n",
              "17   trump     46\n",
              "24       u     29\n",
              "105  south     18\n",
              "10     new     12"
            ]
          },
          "execution_count": 2,
          "metadata": {},
          "output_type": "execute_result"
        }
      ],
      "source": [
        "import re\n",
        "from collections import Counter\n",
        "from datetime import datetime\n",
        "\n",
        "with open('exclude.txt') as f:\n",
        "    stop_words = set(w.strip() for w in f if w.strip())\n",
        "words = re.findall(r'[A-Za-z]+', ' '.join(latest['title']).lower())\n",
        "filtered = [w for w in words if w not in stop_words]\n",
        "counts = Counter(filtered)\n",
        "score_df = pd.DataFrame(counts.items(), columns=['word','score']).sort_values('score', ascending=False)\n",
        "score_df.to_csv('scores.csv', index=False)\n",
        "timestamp = datetime.utcnow().strftime('%Y-%m-%d-%H-%M-00')\n",
        "score_df.to_csv(f'scores-{timestamp}.csv', index=False)\n",
        "score_df.head()"
      ]
    },
    {
      "cell_type": "markdown",
      "metadata": {},
      "source": [
        "## Rank headlines by score"
      ]
    },
    {
      "cell_type": "code",
      "execution_count": 3,
      "metadata": {},
      "outputs": [
        {
          "data": {
            "text/html": [
              "<div>\n",
              "<style scoped>\n",
              "    .dataframe tbody tr th:only-of-type {\n",
              "        vertical-align: middle;\n",
              "    }\n",
              "\n",
              "    .dataframe tbody tr th {\n",
              "        vertical-align: top;\n",
              "    }\n",
              "\n",
              "    .dataframe thead th {\n",
              "        text-align: right;\n",
              "    }\n",
              "</style>\n",
              "<table border=\"1\" class=\"dataframe\">\n",
              "  <thead>\n",
              "    <tr style=\"text-align: right;\">\n",
              "      <th></th>\n",
              "      <th>pubdate</th>\n",
              "      <th>source</th>\n",
              "      <th>title</th>\n",
              "      <th>link</th>\n",
              "      <th>score</th>\n",
              "    </tr>\n",
              "  </thead>\n",
              "  <tbody>\n",
              "    <tr>\n",
              "      <th>133</th>\n",
              "      <td>2025-05-30-13-48-00 +0000</td>\n",
              "      <td>wsj</td>\n",
              "      <td>A court ruling that upends many of President T...</td>\n",
              "      <td>https://www.wsj.com/economy/trade/economists-c...</td>\n",
              "      <td>456</td>\n",
              "    </tr>\n",
              "    <tr>\n",
              "      <th>78</th>\n",
              "      <td>2025-06-03-17-56-00 +0000</td>\n",
              "      <td>wsj</td>\n",
              "      <td>President Trump’s tariffs threaten to crimp U....</td>\n",
              "      <td>https://www.wsj.com/economy/global/world-growt...</td>\n",
              "      <td>298</td>\n",
              "    </tr>\n",
              "    <tr>\n",
              "      <th>117</th>\n",
              "      <td>2025-05-31-15-29-09 +0000</td>\n",
              "      <td>nyt</td>\n",
              "      <td>A Library on the Canada-U.S.Border Is Ensnared...</td>\n",
              "      <td>https://www.nytimes.com/2025/05/30/world/canad...</td>\n",
              "      <td>255</td>\n",
              "    </tr>\n",
              "    <tr>\n",
              "      <th>124</th>\n",
              "      <td>2025-05-31-04-08-00 +0000</td>\n",
              "      <td>wsj</td>\n",
              "      <td>International Students Fear Leaving the U.S. a...</td>\n",
              "      <td>https://www.wsj.com/us-news/education/internat...</td>\n",
              "      <td>239</td>\n",
              "    </tr>\n",
              "    <tr>\n",
              "      <th>144</th>\n",
              "      <td>2025-05-29-19-51-00 +0000</td>\n",
              "      <td>wsj</td>\n",
              "      <td>President Trump claims tariffs will make the U...</td>\n",
              "      <td>https://www.wsj.com/economy/trade/the-economic...</td>\n",
              "      <td>225</td>\n",
              "    </tr>\n",
              "  </tbody>\n",
              "</table>\n",
              "</div>"
            ],
            "text/plain": [
              "                       pubdate source  \\\n",
              "133  2025-05-30-13-48-00 +0000    wsj   \n",
              "78   2025-06-03-17-56-00 +0000    wsj   \n",
              "117  2025-05-31-15-29-09 +0000    nyt   \n",
              "124  2025-05-31-04-08-00 +0000    wsj   \n",
              "144  2025-05-29-19-51-00 +0000    wsj   \n",
              "\n",
              "                                                 title  \\\n",
              "133  A court ruling that upends many of President T...   \n",
              "78   President Trump’s tariffs threaten to crimp U....   \n",
              "117  A Library on the Canada-U.S.Border Is Ensnared...   \n",
              "124  International Students Fear Leaving the U.S. a...   \n",
              "144  President Trump claims tariffs will make the U...   \n",
              "\n",
              "                                                  link  score  \n",
              "133  https://www.wsj.com/economy/trade/economists-c...    456  \n",
              "78   https://www.wsj.com/economy/global/world-growt...    298  \n",
              "117  https://www.nytimes.com/2025/05/30/world/canad...    255  \n",
              "124  https://www.wsj.com/us-news/education/internat...    239  \n",
              "144  https://www.wsj.com/economy/trade/the-economic...    225  "
            ]
          },
          "execution_count": 3,
          "metadata": {},
          "output_type": "execute_result"
        }
      ],
      "source": [
        "word_scores = dict(score_df.values)\n",
        "latest['score'] = latest['title'].apply(lambda t: sum(word_scores.get(w.lower(),0) for w in re.findall(r'[A-Za-z]+', t)))\n",
        "ranked = latest.sort_values('score', ascending=False)\n",
        "ranked.to_csv('rank.csv', index=False)\n",
        "ranked.to_csv(f'rank-{timestamp}.csv', index=False)\n",
        "ranked.head()"
      ]
    },
    {
      "cell_type": "markdown",
      "metadata": {},
      "source": [
        "## Next steps"
      ]
    }
  ],
  "metadata": {
    "kernelspec": {
      "display_name": "Python 3",
      "language": "python",
      "name": "python3"
    },
    "language_info": {
      "codemirror_mode": {
        "name": "ipython",
        "version": 3
      },
      "file_extension": ".py",
      "mimetype": "text/x-python",
      "name": "python",
      "nbconvert_exporter": "python",
      "pygments_lexer": "ipython3",
      "version": "3.12.0"
    }
  },
  "nbformat": 4,
  "nbformat_minor": 5
}
