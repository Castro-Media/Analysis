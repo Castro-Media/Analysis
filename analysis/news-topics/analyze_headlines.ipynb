{
 "cells": [
  {
   "cell_type": "markdown",
   "id": "f89ea7b0",
   "metadata": {},
   "source": [
    "## Load latest headlines"
   ]
  },
  {
   "cell_type": "code",
   "execution_count": 1,
   "id": "985031ce",
   "metadata": {
    "execution": {
     "iopub.execute_input": "2025-07-23T03:23:23.774684Z",
     "iopub.status.busy": "2025-07-23T03:23:23.774488Z",
     "iopub.status.idle": "2025-07-23T03:23:24.001291Z",
     "shell.execute_reply": "2025-07-23T03:23:24.000718Z"
    }
   },
   "outputs": [
    {
     "name": "stdout",
     "output_type": "stream",
     "text": [
      "All dependencies ready.\n",
      "\n"
     ]
    }
   ],
   "source": [
    "# ========== Bootstrap: ensure required Python packages are present =========\n",
    "import importlib, subprocess, sys\n",
    "from typing import Optional\n",
    "\n",
    "def _ensure(pkg_name: str, import_name: Optional[str] = None):\n",
    "    try:\n",
    "        importlib.import_module(import_name or pkg_name)\n",
    "    except ModuleNotFoundError:\n",
    "        subprocess.check_call([sys.executable, '-m', 'pip', 'install', pkg_name])\n",
    "    finally:\n",
    "        globals()[import_name or pkg_name] = importlib.import_module(import_name or pkg_name)\n",
    "\n",
    "_ensure('pandas')\n",
    "print('All dependencies ready.\\n')\n"
   ]
  },
  {
   "cell_type": "code",
   "execution_count": 2,
   "id": "7c58a61b",
   "metadata": {
    "execution": {
     "iopub.execute_input": "2025-07-23T03:23:24.003142Z",
     "iopub.status.busy": "2025-07-23T03:23:24.002901Z",
     "iopub.status.idle": "2025-07-23T03:23:24.015004Z",
     "shell.execute_reply": "2025-07-23T03:23:24.014426Z"
    },
    "tags": []
   },
   "outputs": [
    {
     "data": {
      "text/html": [
       "<div>\n",
       "<style scoped>\n",
       "    .dataframe tbody tr th:only-of-type {\n",
       "        vertical-align: middle;\n",
       "    }\n",
       "\n",
       "    .dataframe tbody tr th {\n",
       "        vertical-align: top;\n",
       "    }\n",
       "\n",
       "    .dataframe thead th {\n",
       "        text-align: right;\n",
       "    }\n",
       "</style>\n",
       "<table border=\"1\" class=\"dataframe\">\n",
       "  <thead>\n",
       "    <tr style=\"text-align: right;\">\n",
       "      <th></th>\n",
       "      <th>pubdate</th>\n",
       "      <th>source</th>\n",
       "      <th>title</th>\n",
       "      <th>link</th>\n",
       "    </tr>\n",
       "  </thead>\n",
       "  <tbody>\n",
       "    <tr>\n",
       "      <th>0</th>\n",
       "      <td>2025-07-23-01-38-06 +0000</td>\n",
       "      <td>business</td>\n",
       "      <td>Trump says U.S. has a deal with Japan to lower...</td>\n",
       "      <td>https://www.washingtonpost.com/business/2025/0...</td>\n",
       "    </tr>\n",
       "    <tr>\n",
       "      <th>1</th>\n",
       "      <td>2025-07-22-23-39-24 +0000</td>\n",
       "      <td>business</td>\n",
       "      <td>Tariffs hit U.S. companies hard, but businesse...</td>\n",
       "      <td>https://www.washingtonpost.com/business/2025/0...</td>\n",
       "    </tr>\n",
       "    <tr>\n",
       "      <th>2</th>\n",
       "      <td>2025-07-22-23-37-21 +0000</td>\n",
       "      <td>business</td>\n",
       "      <td>How much will you save or lose with Trump’s ‘b...</td>\n",
       "      <td>https://www.washingtonpost.com/business/intera...</td>\n",
       "    </tr>\n",
       "    <tr>\n",
       "      <th>3</th>\n",
       "      <td>2025-07-22-15-47-48 +0000</td>\n",
       "      <td>business</td>\n",
       "      <td>NPR news chief says she’s leaving, days after ...</td>\n",
       "      <td>https://www.washingtonpost.com/business/2025/0...</td>\n",
       "    </tr>\n",
       "    <tr>\n",
       "      <th>4</th>\n",
       "      <td>2025-07-22-13-44-34 +0000</td>\n",
       "      <td>business</td>\n",
       "      <td>A rule lifting medical debt from credit scores...</td>\n",
       "      <td>https://www.washingtonpost.com/business/2025/0...</td>\n",
       "    </tr>\n",
       "  </tbody>\n",
       "</table>\n",
       "</div>"
      ],
      "text/plain": [
       "                     pubdate    source  \\\n",
       "0  2025-07-23-01-38-06 +0000  business   \n",
       "1  2025-07-22-23-39-24 +0000  business   \n",
       "2  2025-07-22-23-37-21 +0000  business   \n",
       "3  2025-07-22-15-47-48 +0000  business   \n",
       "4  2025-07-22-13-44-34 +0000  business   \n",
       "\n",
       "                                               title  \\\n",
       "0  Trump says U.S. has a deal with Japan to lower...   \n",
       "1  Tariffs hit U.S. companies hard, but businesse...   \n",
       "2  How much will you save or lose with Trump’s ‘b...   \n",
       "3  NPR news chief says she’s leaving, days after ...   \n",
       "4  A rule lifting medical debt from credit scores...   \n",
       "\n",
       "                                                link  \n",
       "0  https://www.washingtonpost.com/business/2025/0...  \n",
       "1  https://www.washingtonpost.com/business/2025/0...  \n",
       "2  https://www.washingtonpost.com/business/intera...  \n",
       "3  https://www.washingtonpost.com/business/2025/0...  \n",
       "4  https://www.washingtonpost.com/business/2025/0...  "
      ]
     },
     "execution_count": 2,
     "metadata": {},
     "output_type": "execute_result"
    }
   ],
   "source": [
    "from pathlib import Path\n",
    "archive = Path('archive')\n",
    "archive.mkdir(exist_ok=True)\n",
    "import pandas as pd\n",
    "latest = pd.read_csv('../headlines/latest.csv')\n",
    "latest.head()"
   ]
  },
  {
   "cell_type": "markdown",
   "id": "833c1224",
   "metadata": {},
   "source": [
    "## Calculate word frequencies"
   ]
  },
  {
   "cell_type": "code",
   "execution_count": 3,
   "id": "a7188e2c",
   "metadata": {
    "execution": {
     "iopub.execute_input": "2025-07-23T03:23:24.016757Z",
     "iopub.status.busy": "2025-07-23T03:23:24.016569Z",
     "iopub.status.idle": "2025-07-23T03:23:24.028259Z",
     "shell.execute_reply": "2025-07-23T03:23:24.027705Z"
    },
    "tags": []
   },
   "outputs": [
    {
     "name": "stderr",
     "output_type": "stream",
     "text": [
      "/tmp/ipykernel_2319/2220774760.py:15: DeprecationWarning: datetime.datetime.utcnow() is deprecated and scheduled for removal in a future version. Use timezone-aware objects to represent datetimes in UTC: datetime.datetime.now(datetime.UTC).\n",
      "  timestamp = datetime.utcnow().strftime('%Y-%m-%d-%H-00-00')\n"
     ]
    },
    {
     "data": {
      "text/html": [
       "<div>\n",
       "<style scoped>\n",
       "    .dataframe tbody tr th:only-of-type {\n",
       "        vertical-align: middle;\n",
       "    }\n",
       "\n",
       "    .dataframe tbody tr th {\n",
       "        vertical-align: top;\n",
       "    }\n",
       "\n",
       "    .dataframe thead th {\n",
       "        text-align: right;\n",
       "    }\n",
       "</style>\n",
       "<table border=\"1\" class=\"dataframe\">\n",
       "  <thead>\n",
       "    <tr style=\"text-align: right;\">\n",
       "      <th></th>\n",
       "      <th>word</th>\n",
       "      <th>score</th>\n",
       "    </tr>\n",
       "  </thead>\n",
       "  <tbody>\n",
       "    <tr>\n",
       "      <th>0</th>\n",
       "      <td>trump</td>\n",
       "      <td>2</td>\n",
       "    </tr>\n",
       "    <tr>\n",
       "      <th>4</th>\n",
       "      <td>tariffs</td>\n",
       "      <td>2</td>\n",
       "    </tr>\n",
       "    <tr>\n",
       "      <th>11</th>\n",
       "      <td>will</td>\n",
       "      <td>2</td>\n",
       "    </tr>\n",
       "    <tr>\n",
       "      <th>1</th>\n",
       "      <td>deal</td>\n",
       "      <td>1</td>\n",
       "    </tr>\n",
       "    <tr>\n",
       "      <th>3</th>\n",
       "      <td>proposed</td>\n",
       "      <td>1</td>\n",
       "    </tr>\n",
       "  </tbody>\n",
       "</table>\n",
       "</div>"
      ],
      "text/plain": [
       "        word  score\n",
       "0      trump      2\n",
       "4    tariffs      2\n",
       "11      will      2\n",
       "1       deal      1\n",
       "3   proposed      1"
      ]
     },
     "execution_count": 3,
     "metadata": {},
     "output_type": "execute_result"
    }
   ],
   "source": [
    "import re\n",
    "from collections import Counter\n",
    "from datetime import datetime\n",
    "\n",
    "with open('exclude.txt') as f:\n",
    "    stop_words = set(w.strip() for w in f if w.strip())\n",
    "words = re.findall(r'[A-Za-z]+', ' '.join(latest['title']).lower())\n",
    "filtered = [w for w in words if w not in stop_words and len(w) > 1]\n",
    "counts = Counter(filtered)\n",
    "score_df = (\n",
    "    pd.DataFrame(counts.items(), columns=['word','score'])\n",
    "    .sort_values('score', ascending=False)\n",
    ")\n",
    "score_df[['score','word']].to_csv('scores.csv', index=False)\n",
    "timestamp = datetime.utcnow().strftime('%Y-%m-%d-%H-00-00')\n",
    "score_df[['score','word']].to_csv(archive / f'scores-{timestamp}.csv', index=False)\n",
    "score_df.head()\n"
   ]
  },
  {
   "cell_type": "markdown",
   "id": "c5e8edb2",
   "metadata": {},
   "source": [
    "## Rank headlines by score"
   ]
  },
  {
   "cell_type": "code",
   "execution_count": 4,
   "id": "693d409d",
   "metadata": {
    "execution": {
     "iopub.execute_input": "2025-07-23T03:23:24.029990Z",
     "iopub.status.busy": "2025-07-23T03:23:24.029818Z",
     "iopub.status.idle": "2025-07-23T03:23:24.040658Z",
     "shell.execute_reply": "2025-07-23T03:23:24.040083Z"
    },
    "tags": []
   },
   "outputs": [
    {
     "data": {
      "text/html": [
       "<div>\n",
       "<style scoped>\n",
       "    .dataframe tbody tr th:only-of-type {\n",
       "        vertical-align: middle;\n",
       "    }\n",
       "\n",
       "    .dataframe tbody tr th {\n",
       "        vertical-align: top;\n",
       "    }\n",
       "\n",
       "    .dataframe thead th {\n",
       "        text-align: right;\n",
       "    }\n",
       "</style>\n",
       "<table border=\"1\" class=\"dataframe\">\n",
       "  <thead>\n",
       "    <tr style=\"text-align: right;\">\n",
       "      <th></th>\n",
       "      <th>pubdate</th>\n",
       "      <th>source</th>\n",
       "      <th>title</th>\n",
       "      <th>link</th>\n",
       "      <th>score</th>\n",
       "    </tr>\n",
       "  </thead>\n",
       "  <tbody>\n",
       "    <tr>\n",
       "      <th>4</th>\n",
       "      <td>2025-07-22-13-44-34 +0000</td>\n",
       "      <td>business</td>\n",
       "      <td>A rule lifting medical debt from credit scores...</td>\n",
       "      <td>https://www.washingtonpost.com/business/2025/0...</td>\n",
       "      <td>11</td>\n",
       "    </tr>\n",
       "    <tr>\n",
       "      <th>2</th>\n",
       "      <td>2025-07-22-23-37-21 +0000</td>\n",
       "      <td>business</td>\n",
       "      <td>How much will you save or lose with Trump’s ‘b...</td>\n",
       "      <td>https://www.washingtonpost.com/business/intera...</td>\n",
       "      <td>9</td>\n",
       "    </tr>\n",
       "    <tr>\n",
       "      <th>1</th>\n",
       "      <td>2025-07-22-23-39-24 +0000</td>\n",
       "      <td>business</td>\n",
       "      <td>Tariffs hit U.S. companies hard, but businesse...</td>\n",
       "      <td>https://www.washingtonpost.com/business/2025/0...</td>\n",
       "      <td>8</td>\n",
       "    </tr>\n",
       "    <tr>\n",
       "      <th>3</th>\n",
       "      <td>2025-07-22-15-47-48 +0000</td>\n",
       "      <td>business</td>\n",
       "      <td>NPR news chief says she’s leaving, days after ...</td>\n",
       "      <td>https://www.washingtonpost.com/business/2025/0...</td>\n",
       "      <td>8</td>\n",
       "    </tr>\n",
       "    <tr>\n",
       "      <th>0</th>\n",
       "      <td>2025-07-23-01-38-06 +0000</td>\n",
       "      <td>business</td>\n",
       "      <td>Trump says U.S. has a deal with Japan to lower...</td>\n",
       "      <td>https://www.washingtonpost.com/business/2025/0...</td>\n",
       "      <td>7</td>\n",
       "    </tr>\n",
       "  </tbody>\n",
       "</table>\n",
       "</div>"
      ],
      "text/plain": [
       "                     pubdate    source  \\\n",
       "4  2025-07-22-13-44-34 +0000  business   \n",
       "2  2025-07-22-23-37-21 +0000  business   \n",
       "1  2025-07-22-23-39-24 +0000  business   \n",
       "3  2025-07-22-15-47-48 +0000  business   \n",
       "0  2025-07-23-01-38-06 +0000  business   \n",
       "\n",
       "                                               title  \\\n",
       "4  A rule lifting medical debt from credit scores...   \n",
       "2  How much will you save or lose with Trump’s ‘b...   \n",
       "1  Tariffs hit U.S. companies hard, but businesse...   \n",
       "3  NPR news chief says she’s leaving, days after ...   \n",
       "0  Trump says U.S. has a deal with Japan to lower...   \n",
       "\n",
       "                                                link  score  \n",
       "4  https://www.washingtonpost.com/business/2025/0...     11  \n",
       "2  https://www.washingtonpost.com/business/intera...      9  \n",
       "1  https://www.washingtonpost.com/business/2025/0...      8  \n",
       "3  https://www.washingtonpost.com/business/2025/0...      8  \n",
       "0  https://www.washingtonpost.com/business/2025/0...      7  "
      ]
     },
     "execution_count": 4,
     "metadata": {},
     "output_type": "execute_result"
    }
   ],
   "source": [
    "word_scores = dict(score_df[['word','score']].values)\n",
    "latest['score'] = latest['title'].apply(\n",
    "    lambda t: sum(\n",
    "        word_scores.get(w.lower(), 0)\n",
    "        for w in re.findall(r'[A-Za-z]+', t)\n",
    "        if len(w) > 1\n",
    "    )\n",
    ")\n",
    "ranked = latest.sort_values('score', ascending=False)\n",
    "ranked[['score','pubdate','source','title','link']].to_csv('rank.csv', index=False)\n",
    "ranked[['score','pubdate','source','title','link']].to_csv(archive / f'rank-{timestamp}.csv', index=False)\n",
    "ranked.head()\n"
   ]
  },
  {
   "cell_type": "markdown",
   "id": "3227bcb4",
   "metadata": {},
   "source": [
    "## Select top headlines"
   ]
  },
  {
   "cell_type": "code",
   "execution_count": 5,
   "id": "5a503efd",
   "metadata": {
    "execution": {
     "iopub.execute_input": "2025-07-23T03:23:24.042464Z",
     "iopub.status.busy": "2025-07-23T03:23:24.042288Z",
     "iopub.status.idle": "2025-07-23T03:23:24.058107Z",
     "shell.execute_reply": "2025-07-23T03:23:24.057539Z"
    },
    "tags": []
   },
   "outputs": [
    {
     "data": {
      "text/html": [
       "<div>\n",
       "<style scoped>\n",
       "    .dataframe tbody tr th:only-of-type {\n",
       "        vertical-align: middle;\n",
       "    }\n",
       "\n",
       "    .dataframe tbody tr th {\n",
       "        vertical-align: top;\n",
       "    }\n",
       "\n",
       "    .dataframe thead th {\n",
       "        text-align: right;\n",
       "    }\n",
       "</style>\n",
       "<table border=\"1\" class=\"dataframe\">\n",
       "  <thead>\n",
       "    <tr style=\"text-align: right;\">\n",
       "      <th></th>\n",
       "      <th>score</th>\n",
       "      <th>pubdate</th>\n",
       "      <th>source</th>\n",
       "      <th>title</th>\n",
       "      <th>link</th>\n",
       "    </tr>\n",
       "  </thead>\n",
       "  <tbody>\n",
       "    <tr>\n",
       "      <th>4</th>\n",
       "      <td>11</td>\n",
       "      <td>2025-07-22-13-44-34 +0000</td>\n",
       "      <td>business</td>\n",
       "      <td>A rule lifting medical debt from credit scores...</td>\n",
       "      <td>https://www.washingtonpost.com/business/2025/0...</td>\n",
       "    </tr>\n",
       "    <tr>\n",
       "      <th>1</th>\n",
       "      <td>8</td>\n",
       "      <td>2025-07-22-23-39-24 +0000</td>\n",
       "      <td>business</td>\n",
       "      <td>Tariffs hit U.S. companies hard, but businesse...</td>\n",
       "      <td>https://www.washingtonpost.com/business/2025/0...</td>\n",
       "    </tr>\n",
       "    <tr>\n",
       "      <th>3</th>\n",
       "      <td>8</td>\n",
       "      <td>2025-07-22-15-47-48 +0000</td>\n",
       "      <td>business</td>\n",
       "      <td>NPR news chief says she’s leaving, days after ...</td>\n",
       "      <td>https://www.washingtonpost.com/business/2025/0...</td>\n",
       "    </tr>\n",
       "    <tr>\n",
       "      <th>2</th>\n",
       "      <td>7</td>\n",
       "      <td>2025-07-22-23-37-21 +0000</td>\n",
       "      <td>business</td>\n",
       "      <td>How much will you save or lose with Trump’s ‘b...</td>\n",
       "      <td>https://www.washingtonpost.com/business/intera...</td>\n",
       "    </tr>\n",
       "    <tr>\n",
       "      <th>0</th>\n",
       "      <td>3</td>\n",
       "      <td>2025-07-23-01-38-06 +0000</td>\n",
       "      <td>business</td>\n",
       "      <td>Trump says U.S. has a deal with Japan to lower...</td>\n",
       "      <td>https://www.washingtonpost.com/business/2025/0...</td>\n",
       "    </tr>\n",
       "  </tbody>\n",
       "</table>\n",
       "</div>"
      ],
      "text/plain": [
       "   score                    pubdate    source  \\\n",
       "4     11  2025-07-22-13-44-34 +0000  business   \n",
       "1      8  2025-07-22-23-39-24 +0000  business   \n",
       "3      8  2025-07-22-15-47-48 +0000  business   \n",
       "2      7  2025-07-22-23-37-21 +0000  business   \n",
       "0      3  2025-07-23-01-38-06 +0000  business   \n",
       "\n",
       "                                               title  \\\n",
       "4  A rule lifting medical debt from credit scores...   \n",
       "1  Tariffs hit U.S. companies hard, but businesse...   \n",
       "3  NPR news chief says she’s leaving, days after ...   \n",
       "2  How much will you save or lose with Trump’s ‘b...   \n",
       "0  Trump says U.S. has a deal with Japan to lower...   \n",
       "\n",
       "                                                link  \n",
       "4  https://www.washingtonpost.com/business/2025/0...  \n",
       "1  https://www.washingtonpost.com/business/2025/0...  \n",
       "3  https://www.washingtonpost.com/business/2025/0...  \n",
       "2  https://www.washingtonpost.com/business/intera...  \n",
       "0  https://www.washingtonpost.com/business/2025/0...  "
      ]
     },
     "execution_count": 5,
     "metadata": {},
     "output_type": "execute_result"
    }
   ],
   "source": [
    "top_rows = []\n",
    "working = word_scores.copy()\n",
    "remaining = latest.copy()\n",
    "for _ in range(10):\n",
    "    ranked_loop = remaining.assign(score=remaining['title'].apply(\n",
    "        lambda t: sum(working.get(w.lower(), 0)\n",
    "                      for w in re.findall(r'[A-Za-z]+', t)\n",
    "                      if len(w) > 1)\n",
    "    )).sort_values('score', ascending=False)\n",
    "    if ranked_loop.empty:\n",
    "        break\n",
    "    top_story = ranked_loop.iloc[0]\n",
    "    top_rows.append(top_story[['score','pubdate','source','title','link']])\n",
    "    words = set(re.findall(r'[A-Za-z]+', top_story['title'].lower()))\n",
    "    for w in words:\n",
    "        working.pop(w, None)\n",
    "    remaining = remaining.drop(top_story.name)\n",
    "top_df = pd.DataFrame(top_rows)\n",
    "top_df.to_csv('top.csv', index=False)\n",
    "top_df.to_csv(archive / f'top-{timestamp}.csv', index=False)\n",
    "top_df\n"
   ]
  },
  {
   "cell_type": "markdown",
   "id": "1a1d932c",
   "metadata": {},
   "source": [
    "## Create JSON version of top headlines"
   ]
  },
  {
   "cell_type": "code",
   "execution_count": 6,
   "id": "1114b600",
   "metadata": {
    "execution": {
     "iopub.execute_input": "2025-07-23T03:23:24.059834Z",
     "iopub.status.busy": "2025-07-23T03:23:24.059650Z",
     "iopub.status.idle": "2025-07-23T03:23:24.063989Z",
     "shell.execute_reply": "2025-07-23T03:23:24.063403Z"
    }
   },
   "outputs": [],
   "source": [
    "import pandas as pd\n",
    "pd.read_csv('top.csv').to_json('top.json', orient='records', indent=2)\n"
   ]
  },
  {
   "cell_type": "code",
   "execution_count": null,
   "id": "a78c0c88-10ab-4da5-ae0a-872fe6b83585",
   "metadata": {},
   "outputs": [],
   "source": []
  }
 ],
 "metadata": {
  "kernelspec": {
   "display_name": "Python 3",
   "language": "python",
   "name": "python3"
  },
  "language_info": {
   "codemirror_mode": {
    "name": "ipython",
    "version": 3
   },
   "file_extension": ".py",
   "mimetype": "text/x-python",
   "name": "python",
   "nbconvert_exporter": "python",
   "pygments_lexer": "ipython3",
   "version": "3.13.5"
  }
 },
 "nbformat": 4,
 "nbformat_minor": 5
}
