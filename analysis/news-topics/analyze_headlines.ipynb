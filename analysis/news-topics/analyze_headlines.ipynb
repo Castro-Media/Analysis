{
 "cells": [
  {
   "cell_type": "markdown",
   "id": "f89ea7b0",
   "metadata": {},
   "source": [
    "## Load latest headlines"
   ]
  },
  {
   "cell_type": "code",
   "execution_count": 1,
   "id": "985031ce",
   "metadata": {
    "execution": {
     "iopub.execute_input": "2025-07-20T19:52:50.341158Z",
     "iopub.status.busy": "2025-07-20T19:52:50.340967Z",
     "iopub.status.idle": "2025-07-20T19:52:50.567858Z",
     "shell.execute_reply": "2025-07-20T19:52:50.567291Z"
    }
   },
   "outputs": [
    {
     "name": "stdout",
     "output_type": "stream",
     "text": [
      "All dependencies ready.\n",
      "\n"
     ]
    }
   ],
   "source": [
    "# ========== Bootstrap: ensure required Python packages are present =========\n",
    "import importlib, subprocess, sys\n",
    "from typing import Optional\n",
    "\n",
    "def _ensure(pkg_name: str, import_name: Optional[str] = None):\n",
    "    try:\n",
    "        importlib.import_module(import_name or pkg_name)\n",
    "    except ModuleNotFoundError:\n",
    "        subprocess.check_call([sys.executable, '-m', 'pip', 'install', pkg_name])\n",
    "    finally:\n",
    "        globals()[import_name or pkg_name] = importlib.import_module(import_name or pkg_name)\n",
    "\n",
    "_ensure('pandas')\n",
    "print('All dependencies ready.\\n')\n"
   ]
  },
  {
   "cell_type": "code",
   "execution_count": 2,
   "id": "7c58a61b",
   "metadata": {
    "execution": {
     "iopub.execute_input": "2025-07-20T19:52:50.569910Z",
     "iopub.status.busy": "2025-07-20T19:52:50.569641Z",
     "iopub.status.idle": "2025-07-20T19:52:50.582262Z",
     "shell.execute_reply": "2025-07-20T19:52:50.581752Z"
    },
    "tags": []
   },
   "outputs": [
    {
     "data": {
      "text/html": [
       "<div>\n",
       "<style scoped>\n",
       "    .dataframe tbody tr th:only-of-type {\n",
       "        vertical-align: middle;\n",
       "    }\n",
       "\n",
       "    .dataframe tbody tr th {\n",
       "        vertical-align: top;\n",
       "    }\n",
       "\n",
       "    .dataframe thead th {\n",
       "        text-align: right;\n",
       "    }\n",
       "</style>\n",
       "<table border=\"1\" class=\"dataframe\">\n",
       "  <thead>\n",
       "    <tr style=\"text-align: right;\">\n",
       "      <th></th>\n",
       "      <th>pubdate</th>\n",
       "      <th>source</th>\n",
       "      <th>title</th>\n",
       "      <th>link</th>\n",
       "    </tr>\n",
       "  </thead>\n",
       "  <tbody>\n",
       "    <tr>\n",
       "      <th>0</th>\n",
       "      <td>2025-07-20-13-19-00 +0000</td>\n",
       "      <td>world</td>\n",
       "      <td>Opinion | Giving China Chips Derails Trump Dec...</td>\n",
       "      <td>https://www.wsj.com/opinion/giving-china-chips...</td>\n",
       "    </tr>\n",
       "    <tr>\n",
       "      <th>1</th>\n",
       "      <td>2025-07-20-13-16-00 +0000</td>\n",
       "      <td>world</td>\n",
       "      <td>Opinion | The Senate Rescinded Vital Unicef Fu...</td>\n",
       "      <td>https://www.wsj.com/opinion/the-senate-rescind...</td>\n",
       "    </tr>\n",
       "    <tr>\n",
       "      <th>2</th>\n",
       "      <td>2025-07-20-13-15-00 +0000</td>\n",
       "      <td>world</td>\n",
       "      <td>Opinion | Zohran Mamdani and the Jews</td>\n",
       "      <td>https://www.wsj.com/opinion/zohran-mamdani-and...</td>\n",
       "    </tr>\n",
       "    <tr>\n",
       "      <th>3</th>\n",
       "      <td>2025-07-20-03-59-00 +0000</td>\n",
       "      <td>world</td>\n",
       "      <td>Chinese Rare-Earth Magnet Exports Surge After ...</td>\n",
       "      <td>https://www.wsj.com/world/asia/chinese-rare-ea...</td>\n",
       "    </tr>\n",
       "  </tbody>\n",
       "</table>\n",
       "</div>"
      ],
      "text/plain": [
       "                     pubdate source  \\\n",
       "0  2025-07-20-13-19-00 +0000  world   \n",
       "1  2025-07-20-13-16-00 +0000  world   \n",
       "2  2025-07-20-13-15-00 +0000  world   \n",
       "3  2025-07-20-03-59-00 +0000  world   \n",
       "\n",
       "                                               title  \\\n",
       "0  Opinion | Giving China Chips Derails Trump Dec...   \n",
       "1  Opinion | The Senate Rescinded Vital Unicef Fu...   \n",
       "2              Opinion | Zohran Mamdani and the Jews   \n",
       "3  Chinese Rare-Earth Magnet Exports Surge After ...   \n",
       "\n",
       "                                                link  \n",
       "0  https://www.wsj.com/opinion/giving-china-chips...  \n",
       "1  https://www.wsj.com/opinion/the-senate-rescind...  \n",
       "2  https://www.wsj.com/opinion/zohran-mamdani-and...  \n",
       "3  https://www.wsj.com/world/asia/chinese-rare-ea...  "
      ]
     },
     "execution_count": 2,
     "metadata": {},
     "output_type": "execute_result"
    }
   ],
   "source": [
    "from pathlib import Path\n",
    "archive = Path('archive')\n",
    "archive.mkdir(exist_ok=True)\n",
    "import pandas as pd\n",
    "latest = pd.read_csv('../headlines/latest.csv')\n",
    "latest.head()"
   ]
  },
  {
   "cell_type": "markdown",
   "id": "833c1224",
   "metadata": {},
   "source": [
    "## Calculate word frequencies"
   ]
  },
  {
   "cell_type": "code",
   "execution_count": 3,
   "id": "a7188e2c",
   "metadata": {
    "execution": {
     "iopub.execute_input": "2025-07-20T19:52:50.584034Z",
     "iopub.status.busy": "2025-07-20T19:52:50.583841Z",
     "iopub.status.idle": "2025-07-20T19:52:50.595838Z",
     "shell.execute_reply": "2025-07-20T19:52:50.595269Z"
    },
    "tags": []
   },
   "outputs": [
    {
     "name": "stderr",
     "output_type": "stream",
     "text": [
      "/tmp/ipykernel_2354/2220774760.py:15: DeprecationWarning: datetime.datetime.utcnow() is deprecated and scheduled for removal in a future version. Use timezone-aware objects to represent datetimes in UTC: datetime.datetime.now(datetime.UTC).\n",
      "  timestamp = datetime.utcnow().strftime('%Y-%m-%d-%H-00-00')\n"
     ]
    },
    {
     "data": {
      "text/html": [
       "<div>\n",
       "<style scoped>\n",
       "    .dataframe tbody tr th:only-of-type {\n",
       "        vertical-align: middle;\n",
       "    }\n",
       "\n",
       "    .dataframe tbody tr th {\n",
       "        vertical-align: top;\n",
       "    }\n",
       "\n",
       "    .dataframe thead th {\n",
       "        text-align: right;\n",
       "    }\n",
       "</style>\n",
       "<table border=\"1\" class=\"dataframe\">\n",
       "  <thead>\n",
       "    <tr style=\"text-align: right;\">\n",
       "      <th></th>\n",
       "      <th>word</th>\n",
       "      <th>score</th>\n",
       "    </tr>\n",
       "  </thead>\n",
       "  <tbody>\n",
       "    <tr>\n",
       "      <th>0</th>\n",
       "      <td>giving</td>\n",
       "      <td>1</td>\n",
       "    </tr>\n",
       "    <tr>\n",
       "      <th>1</th>\n",
       "      <td>china</td>\n",
       "      <td>1</td>\n",
       "    </tr>\n",
       "    <tr>\n",
       "      <th>2</th>\n",
       "      <td>chips</td>\n",
       "      <td>1</td>\n",
       "    </tr>\n",
       "    <tr>\n",
       "      <th>3</th>\n",
       "      <td>derails</td>\n",
       "      <td>1</td>\n",
       "    </tr>\n",
       "    <tr>\n",
       "      <th>4</th>\n",
       "      <td>trump</td>\n",
       "      <td>1</td>\n",
       "    </tr>\n",
       "  </tbody>\n",
       "</table>\n",
       "</div>"
      ],
      "text/plain": [
       "      word  score\n",
       "0   giving      1\n",
       "1    china      1\n",
       "2    chips      1\n",
       "3  derails      1\n",
       "4    trump      1"
      ]
     },
     "execution_count": 3,
     "metadata": {},
     "output_type": "execute_result"
    }
   ],
   "source": [
    "import re\n",
    "from collections import Counter\n",
    "from datetime import datetime\n",
    "\n",
    "with open('exclude.txt') as f:\n",
    "    stop_words = set(w.strip() for w in f if w.strip())\n",
    "words = re.findall(r'[A-Za-z]+', ' '.join(latest['title']).lower())\n",
    "filtered = [w for w in words if w not in stop_words and len(w) > 1]\n",
    "counts = Counter(filtered)\n",
    "score_df = (\n",
    "    pd.DataFrame(counts.items(), columns=['word','score'])\n",
    "    .sort_values('score', ascending=False)\n",
    ")\n",
    "score_df[['score','word']].to_csv('scores.csv', index=False)\n",
    "timestamp = datetime.utcnow().strftime('%Y-%m-%d-%H-00-00')\n",
    "score_df[['score','word']].to_csv(archive / f'scores-{timestamp}.csv', index=False)\n",
    "score_df.head()\n"
   ]
  },
  {
   "cell_type": "markdown",
   "id": "c5e8edb2",
   "metadata": {},
   "source": [
    "## Rank headlines by score"
   ]
  },
  {
   "cell_type": "code",
   "execution_count": 4,
   "id": "693d409d",
   "metadata": {
    "execution": {
     "iopub.execute_input": "2025-07-20T19:52:50.597687Z",
     "iopub.status.busy": "2025-07-20T19:52:50.597492Z",
     "iopub.status.idle": "2025-07-20T19:52:50.608788Z",
     "shell.execute_reply": "2025-07-20T19:52:50.608307Z"
    },
    "tags": []
   },
   "outputs": [
    {
     "data": {
      "text/html": [
       "<div>\n",
       "<style scoped>\n",
       "    .dataframe tbody tr th:only-of-type {\n",
       "        vertical-align: middle;\n",
       "    }\n",
       "\n",
       "    .dataframe tbody tr th {\n",
       "        vertical-align: top;\n",
       "    }\n",
       "\n",
       "    .dataframe thead th {\n",
       "        text-align: right;\n",
       "    }\n",
       "</style>\n",
       "<table border=\"1\" class=\"dataframe\">\n",
       "  <thead>\n",
       "    <tr style=\"text-align: right;\">\n",
       "      <th></th>\n",
       "      <th>pubdate</th>\n",
       "      <th>source</th>\n",
       "      <th>title</th>\n",
       "      <th>link</th>\n",
       "      <th>score</th>\n",
       "    </tr>\n",
       "  </thead>\n",
       "  <tbody>\n",
       "    <tr>\n",
       "      <th>3</th>\n",
       "      <td>2025-07-20-03-59-00 +0000</td>\n",
       "      <td>world</td>\n",
       "      <td>Chinese Rare-Earth Magnet Exports Surge After ...</td>\n",
       "      <td>https://www.wsj.com/world/asia/chinese-rare-ea...</td>\n",
       "      <td>8</td>\n",
       "    </tr>\n",
       "    <tr>\n",
       "      <th>0</th>\n",
       "      <td>2025-07-20-13-19-00 +0000</td>\n",
       "      <td>world</td>\n",
       "      <td>Opinion | Giving China Chips Derails Trump Dec...</td>\n",
       "      <td>https://www.wsj.com/opinion/giving-china-chips...</td>\n",
       "      <td>6</td>\n",
       "    </tr>\n",
       "    <tr>\n",
       "      <th>1</th>\n",
       "      <td>2025-07-20-13-16-00 +0000</td>\n",
       "      <td>world</td>\n",
       "      <td>Opinion | The Senate Rescinded Vital Unicef Fu...</td>\n",
       "      <td>https://www.wsj.com/opinion/the-senate-rescind...</td>\n",
       "      <td>5</td>\n",
       "    </tr>\n",
       "    <tr>\n",
       "      <th>2</th>\n",
       "      <td>2025-07-20-13-15-00 +0000</td>\n",
       "      <td>world</td>\n",
       "      <td>Opinion | Zohran Mamdani and the Jews</td>\n",
       "      <td>https://www.wsj.com/opinion/zohran-mamdani-and...</td>\n",
       "      <td>3</td>\n",
       "    </tr>\n",
       "  </tbody>\n",
       "</table>\n",
       "</div>"
      ],
      "text/plain": [
       "                     pubdate source  \\\n",
       "3  2025-07-20-03-59-00 +0000  world   \n",
       "0  2025-07-20-13-19-00 +0000  world   \n",
       "1  2025-07-20-13-16-00 +0000  world   \n",
       "2  2025-07-20-13-15-00 +0000  world   \n",
       "\n",
       "                                               title  \\\n",
       "3  Chinese Rare-Earth Magnet Exports Surge After ...   \n",
       "0  Opinion | Giving China Chips Derails Trump Dec...   \n",
       "1  Opinion | The Senate Rescinded Vital Unicef Fu...   \n",
       "2              Opinion | Zohran Mamdani and the Jews   \n",
       "\n",
       "                                                link  score  \n",
       "3  https://www.wsj.com/world/asia/chinese-rare-ea...      8  \n",
       "0  https://www.wsj.com/opinion/giving-china-chips...      6  \n",
       "1  https://www.wsj.com/opinion/the-senate-rescind...      5  \n",
       "2  https://www.wsj.com/opinion/zohran-mamdani-and...      3  "
      ]
     },
     "execution_count": 4,
     "metadata": {},
     "output_type": "execute_result"
    }
   ],
   "source": [
    "word_scores = dict(score_df[['word','score']].values)\n",
    "latest['score'] = latest['title'].apply(\n",
    "    lambda t: sum(\n",
    "        word_scores.get(w.lower(), 0)\n",
    "        for w in re.findall(r'[A-Za-z]+', t)\n",
    "        if len(w) > 1\n",
    "    )\n",
    ")\n",
    "ranked = latest.sort_values('score', ascending=False)\n",
    "ranked[['score','pubdate','source','title','link']].to_csv('rank.csv', index=False)\n",
    "ranked[['score','pubdate','source','title','link']].to_csv(archive / f'rank-{timestamp}.csv', index=False)\n",
    "ranked.head()\n"
   ]
  },
  {
   "cell_type": "markdown",
   "id": "3227bcb4",
   "metadata": {},
   "source": [
    "## Select top headlines"
   ]
  },
  {
   "cell_type": "code",
   "execution_count": 5,
   "id": "5a503efd",
   "metadata": {
    "execution": {
     "iopub.execute_input": "2025-07-20T19:52:50.610694Z",
     "iopub.status.busy": "2025-07-20T19:52:50.610489Z",
     "iopub.status.idle": "2025-07-20T19:52:50.626168Z",
     "shell.execute_reply": "2025-07-20T19:52:50.625650Z"
    },
    "tags": []
   },
   "outputs": [
    {
     "data": {
      "text/html": [
       "<div>\n",
       "<style scoped>\n",
       "    .dataframe tbody tr th:only-of-type {\n",
       "        vertical-align: middle;\n",
       "    }\n",
       "\n",
       "    .dataframe tbody tr th {\n",
       "        vertical-align: top;\n",
       "    }\n",
       "\n",
       "    .dataframe thead th {\n",
       "        text-align: right;\n",
       "    }\n",
       "</style>\n",
       "<table border=\"1\" class=\"dataframe\">\n",
       "  <thead>\n",
       "    <tr style=\"text-align: right;\">\n",
       "      <th></th>\n",
       "      <th>score</th>\n",
       "      <th>pubdate</th>\n",
       "      <th>source</th>\n",
       "      <th>title</th>\n",
       "      <th>link</th>\n",
       "    </tr>\n",
       "  </thead>\n",
       "  <tbody>\n",
       "    <tr>\n",
       "      <th>3</th>\n",
       "      <td>8</td>\n",
       "      <td>2025-07-20-03-59-00 +0000</td>\n",
       "      <td>world</td>\n",
       "      <td>Chinese Rare-Earth Magnet Exports Surge After ...</td>\n",
       "      <td>https://www.wsj.com/world/asia/chinese-rare-ea...</td>\n",
       "    </tr>\n",
       "    <tr>\n",
       "      <th>0</th>\n",
       "      <td>6</td>\n",
       "      <td>2025-07-20-13-19-00 +0000</td>\n",
       "      <td>world</td>\n",
       "      <td>Opinion | Giving China Chips Derails Trump Dec...</td>\n",
       "      <td>https://www.wsj.com/opinion/giving-china-chips...</td>\n",
       "    </tr>\n",
       "    <tr>\n",
       "      <th>1</th>\n",
       "      <td>5</td>\n",
       "      <td>2025-07-20-13-16-00 +0000</td>\n",
       "      <td>world</td>\n",
       "      <td>Opinion | The Senate Rescinded Vital Unicef Fu...</td>\n",
       "      <td>https://www.wsj.com/opinion/the-senate-rescind...</td>\n",
       "    </tr>\n",
       "    <tr>\n",
       "      <th>2</th>\n",
       "      <td>3</td>\n",
       "      <td>2025-07-20-13-15-00 +0000</td>\n",
       "      <td>world</td>\n",
       "      <td>Opinion | Zohran Mamdani and the Jews</td>\n",
       "      <td>https://www.wsj.com/opinion/zohran-mamdani-and...</td>\n",
       "    </tr>\n",
       "  </tbody>\n",
       "</table>\n",
       "</div>"
      ],
      "text/plain": [
       "   score                    pubdate source  \\\n",
       "3      8  2025-07-20-03-59-00 +0000  world   \n",
       "0      6  2025-07-20-13-19-00 +0000  world   \n",
       "1      5  2025-07-20-13-16-00 +0000  world   \n",
       "2      3  2025-07-20-13-15-00 +0000  world   \n",
       "\n",
       "                                               title  \\\n",
       "3  Chinese Rare-Earth Magnet Exports Surge After ...   \n",
       "0  Opinion | Giving China Chips Derails Trump Dec...   \n",
       "1  Opinion | The Senate Rescinded Vital Unicef Fu...   \n",
       "2              Opinion | Zohran Mamdani and the Jews   \n",
       "\n",
       "                                                link  \n",
       "3  https://www.wsj.com/world/asia/chinese-rare-ea...  \n",
       "0  https://www.wsj.com/opinion/giving-china-chips...  \n",
       "1  https://www.wsj.com/opinion/the-senate-rescind...  \n",
       "2  https://www.wsj.com/opinion/zohran-mamdani-and...  "
      ]
     },
     "execution_count": 5,
     "metadata": {},
     "output_type": "execute_result"
    }
   ],
   "source": [
    "top_rows = []\n",
    "working = word_scores.copy()\n",
    "remaining = latest.copy()\n",
    "for _ in range(10):\n",
    "    ranked_loop = remaining.assign(score=remaining['title'].apply(\n",
    "        lambda t: sum(working.get(w.lower(), 0)\n",
    "                      for w in re.findall(r'[A-Za-z]+', t)\n",
    "                      if len(w) > 1)\n",
    "    )).sort_values('score', ascending=False)\n",
    "    if ranked_loop.empty:\n",
    "        break\n",
    "    top_story = ranked_loop.iloc[0]\n",
    "    top_rows.append(top_story[['score','pubdate','source','title','link']])\n",
    "    words = set(re.findall(r'[A-Za-z]+', top_story['title'].lower()))\n",
    "    for w in words:\n",
    "        working.pop(w, None)\n",
    "    remaining = remaining.drop(top_story.name)\n",
    "top_df = pd.DataFrame(top_rows)\n",
    "top_df.to_csv('top.csv', index=False)\n",
    "top_df.to_csv(archive / f'top-{timestamp}.csv', index=False)\n",
    "top_df\n"
   ]
  },
  {
   "cell_type": "markdown",
   "id": "1a1d932c",
   "metadata": {},
   "source": [
    "## Create JSON version of top headlines"
   ]
  },
  {
   "cell_type": "code",
   "execution_count": 6,
   "id": "1114b600",
   "metadata": {
    "execution": {
     "iopub.execute_input": "2025-07-20T19:52:50.628002Z",
     "iopub.status.busy": "2025-07-20T19:52:50.627806Z",
     "iopub.status.idle": "2025-07-20T19:52:50.632251Z",
     "shell.execute_reply": "2025-07-20T19:52:50.631787Z"
    }
   },
   "outputs": [],
   "source": [
    "import pandas as pd\n",
    "pd.read_csv('top.csv').to_json('top.json', orient='records', indent=2)\n"
   ]
  },
  {
   "cell_type": "code",
   "execution_count": null,
   "id": "a78c0c88-10ab-4da5-ae0a-872fe6b83585",
   "metadata": {},
   "outputs": [],
   "source": []
  }
 ],
 "metadata": {
  "kernelspec": {
   "display_name": "Python 3",
   "language": "python",
   "name": "python3"
  },
  "language_info": {
   "codemirror_mode": {
    "name": "ipython",
    "version": 3
   },
   "file_extension": ".py",
   "mimetype": "text/x-python",
   "name": "python",
   "nbconvert_exporter": "python",
   "pygments_lexer": "ipython3",
   "version": "3.13.5"
  }
 },
 "nbformat": 4,
 "nbformat_minor": 5
}
