{
 "cells": [
  {
   "cell_type": "markdown",
   "id": "f89ea7b0",
   "metadata": {},
   "source": [
    "## Load latest headlines"
   ]
  },
  {
   "cell_type": "code",
   "execution_count": 1,
   "id": "985031ce",
   "metadata": {
    "execution": {
     "iopub.execute_input": "2025-07-20T17:53:55.678684Z",
     "iopub.status.busy": "2025-07-20T17:53:55.678469Z",
     "iopub.status.idle": "2025-07-20T17:53:55.911178Z",
     "shell.execute_reply": "2025-07-20T17:53:55.910632Z"
    }
   },
   "outputs": [
    {
     "name": "stdout",
     "output_type": "stream",
     "text": [
      "All dependencies ready.\n",
      "\n"
     ]
    }
   ],
   "source": [
    "# ========== Bootstrap: ensure required Python packages are present =========\n",
    "import importlib, subprocess, sys\n",
    "from typing import Optional\n",
    "\n",
    "def _ensure(pkg_name: str, import_name: Optional[str] = None):\n",
    "    try:\n",
    "        importlib.import_module(import_name or pkg_name)\n",
    "    except ModuleNotFoundError:\n",
    "        subprocess.check_call([sys.executable, '-m', 'pip', 'install', pkg_name])\n",
    "    finally:\n",
    "        globals()[import_name or pkg_name] = importlib.import_module(import_name or pkg_name)\n",
    "\n",
    "_ensure('pandas')\n",
    "print('All dependencies ready.\\n')\n"
   ]
  },
  {
   "cell_type": "code",
   "execution_count": 2,
   "id": "7c58a61b",
   "metadata": {
    "execution": {
     "iopub.execute_input": "2025-07-20T17:53:55.913379Z",
     "iopub.status.busy": "2025-07-20T17:53:55.912945Z",
     "iopub.status.idle": "2025-07-20T17:53:55.925042Z",
     "shell.execute_reply": "2025-07-20T17:53:55.924527Z"
    },
    "tags": []
   },
   "outputs": [
    {
     "data": {
      "text/html": [
       "<div>\n",
       "<style scoped>\n",
       "    .dataframe tbody tr th:only-of-type {\n",
       "        vertical-align: middle;\n",
       "    }\n",
       "\n",
       "    .dataframe tbody tr th {\n",
       "        vertical-align: top;\n",
       "    }\n",
       "\n",
       "    .dataframe thead th {\n",
       "        text-align: right;\n",
       "    }\n",
       "</style>\n",
       "<table border=\"1\" class=\"dataframe\">\n",
       "  <thead>\n",
       "    <tr style=\"text-align: right;\">\n",
       "      <th></th>\n",
       "      <th>pubdate</th>\n",
       "      <th>source</th>\n",
       "      <th>title</th>\n",
       "      <th>link</th>\n",
       "    </tr>\n",
       "  </thead>\n",
       "  <tbody>\n",
       "    <tr>\n",
       "      <th>0</th>\n",
       "      <td>2025-07-20-17-19-12 +0000</td>\n",
       "      <td>world</td>\n",
       "      <td>Japan’s ruling party projected to lose majorit...</td>\n",
       "      <td>https://www.washingtonpost.com/world/2025/07/2...</td>\n",
       "    </tr>\n",
       "    <tr>\n",
       "      <th>1</th>\n",
       "      <td>2025-07-20-16-06-54 +0000</td>\n",
       "      <td>world</td>\n",
       "      <td>Trump’s bullying of Brazil is backfiring</td>\n",
       "      <td>https://www.washingtonpost.com/world/2025/07/2...</td>\n",
       "    </tr>\n",
       "    <tr>\n",
       "      <th>2</th>\n",
       "      <td>2025-07-20-11-49-34 +0000</td>\n",
       "      <td>world</td>\n",
       "      <td>Typhoon Wipha hits mainland China after disrup...</td>\n",
       "      <td>https://www.washingtonpost.com/world/2025/07/2...</td>\n",
       "    </tr>\n",
       "    <tr>\n",
       "      <th>3</th>\n",
       "      <td>2025-07-20-09-00-00 +0000</td>\n",
       "      <td>world</td>\n",
       "      <td>U.S. citizen who works for Commerce Dept. ensn...</td>\n",
       "      <td>https://www.washingtonpost.com/national-securi...</td>\n",
       "    </tr>\n",
       "    <tr>\n",
       "      <th>4</th>\n",
       "      <td>2025-07-20-08-00-49 +0000</td>\n",
       "      <td>world</td>\n",
       "      <td>See how Nigeria’s economic crisis has changed ...</td>\n",
       "      <td>https://www.washingtonpost.com/world/interacti...</td>\n",
       "    </tr>\n",
       "  </tbody>\n",
       "</table>\n",
       "</div>"
      ],
      "text/plain": [
       "                     pubdate source  \\\n",
       "0  2025-07-20-17-19-12 +0000  world   \n",
       "1  2025-07-20-16-06-54 +0000  world   \n",
       "2  2025-07-20-11-49-34 +0000  world   \n",
       "3  2025-07-20-09-00-00 +0000  world   \n",
       "4  2025-07-20-08-00-49 +0000  world   \n",
       "\n",
       "                                               title  \\\n",
       "0  Japan’s ruling party projected to lose majorit...   \n",
       "1           Trump’s bullying of Brazil is backfiring   \n",
       "2  Typhoon Wipha hits mainland China after disrup...   \n",
       "3  U.S. citizen who works for Commerce Dept. ensn...   \n",
       "4  See how Nigeria’s economic crisis has changed ...   \n",
       "\n",
       "                                                link  \n",
       "0  https://www.washingtonpost.com/world/2025/07/2...  \n",
       "1  https://www.washingtonpost.com/world/2025/07/2...  \n",
       "2  https://www.washingtonpost.com/world/2025/07/2...  \n",
       "3  https://www.washingtonpost.com/national-securi...  \n",
       "4  https://www.washingtonpost.com/world/interacti...  "
      ]
     },
     "execution_count": 2,
     "metadata": {},
     "output_type": "execute_result"
    }
   ],
   "source": [
    "from pathlib import Path\n",
    "archive = Path('archive')\n",
    "archive.mkdir(exist_ok=True)\n",
    "import pandas as pd\n",
    "latest = pd.read_csv('../headlines/latest.csv')\n",
    "latest.head()"
   ]
  },
  {
   "cell_type": "markdown",
   "id": "833c1224",
   "metadata": {},
   "source": [
    "## Calculate word frequencies"
   ]
  },
  {
   "cell_type": "code",
   "execution_count": 3,
   "id": "a7188e2c",
   "metadata": {
    "execution": {
     "iopub.execute_input": "2025-07-20T17:53:55.927003Z",
     "iopub.status.busy": "2025-07-20T17:53:55.926633Z",
     "iopub.status.idle": "2025-07-20T17:53:55.938569Z",
     "shell.execute_reply": "2025-07-20T17:53:55.938006Z"
    },
    "tags": []
   },
   "outputs": [
    {
     "name": "stderr",
     "output_type": "stream",
     "text": [
      "/tmp/ipykernel_2291/2220774760.py:15: DeprecationWarning: datetime.datetime.utcnow() is deprecated and scheduled for removal in a future version. Use timezone-aware objects to represent datetimes in UTC: datetime.datetime.now(datetime.UTC).\n",
      "  timestamp = datetime.utcnow().strftime('%Y-%m-%d-%H-00-00')\n"
     ]
    },
    {
     "data": {
      "text/html": [
       "<div>\n",
       "<style scoped>\n",
       "    .dataframe tbody tr th:only-of-type {\n",
       "        vertical-align: middle;\n",
       "    }\n",
       "\n",
       "    .dataframe tbody tr th {\n",
       "        vertical-align: top;\n",
       "    }\n",
       "\n",
       "    .dataframe thead th {\n",
       "        text-align: right;\n",
       "    }\n",
       "</style>\n",
       "<table border=\"1\" class=\"dataframe\">\n",
       "  <thead>\n",
       "    <tr style=\"text-align: right;\">\n",
       "      <th></th>\n",
       "      <th>word</th>\n",
       "      <th>score</th>\n",
       "    </tr>\n",
       "  </thead>\n",
       "  <tbody>\n",
       "    <tr>\n",
       "      <th>34</th>\n",
       "      <td>village</td>\n",
       "      <td>2</td>\n",
       "    </tr>\n",
       "    <tr>\n",
       "      <th>0</th>\n",
       "      <td>japan</td>\n",
       "      <td>1</td>\n",
       "    </tr>\n",
       "    <tr>\n",
       "      <th>2</th>\n",
       "      <td>party</td>\n",
       "      <td>1</td>\n",
       "    </tr>\n",
       "    <tr>\n",
       "      <th>1</th>\n",
       "      <td>ruling</td>\n",
       "      <td>1</td>\n",
       "    </tr>\n",
       "    <tr>\n",
       "      <th>4</th>\n",
       "      <td>lose</td>\n",
       "      <td>1</td>\n",
       "    </tr>\n",
       "  </tbody>\n",
       "</table>\n",
       "</div>"
      ],
      "text/plain": [
       "       word  score\n",
       "34  village      2\n",
       "0     japan      1\n",
       "2     party      1\n",
       "1    ruling      1\n",
       "4      lose      1"
      ]
     },
     "execution_count": 3,
     "metadata": {},
     "output_type": "execute_result"
    }
   ],
   "source": [
    "import re\n",
    "from collections import Counter\n",
    "from datetime import datetime\n",
    "\n",
    "with open('exclude.txt') as f:\n",
    "    stop_words = set(w.strip() for w in f if w.strip())\n",
    "words = re.findall(r'[A-Za-z]+', ' '.join(latest['title']).lower())\n",
    "filtered = [w for w in words if w not in stop_words and len(w) > 1]\n",
    "counts = Counter(filtered)\n",
    "score_df = (\n",
    "    pd.DataFrame(counts.items(), columns=['word','score'])\n",
    "    .sort_values('score', ascending=False)\n",
    ")\n",
    "score_df[['score','word']].to_csv('scores.csv', index=False)\n",
    "timestamp = datetime.utcnow().strftime('%Y-%m-%d-%H-00-00')\n",
    "score_df[['score','word']].to_csv(archive / f'scores-{timestamp}.csv', index=False)\n",
    "score_df.head()\n"
   ]
  },
  {
   "cell_type": "markdown",
   "id": "c5e8edb2",
   "metadata": {},
   "source": [
    "## Rank headlines by score"
   ]
  },
  {
   "cell_type": "code",
   "execution_count": 4,
   "id": "693d409d",
   "metadata": {
    "execution": {
     "iopub.execute_input": "2025-07-20T17:53:55.940525Z",
     "iopub.status.busy": "2025-07-20T17:53:55.940340Z",
     "iopub.status.idle": "2025-07-20T17:53:55.951793Z",
     "shell.execute_reply": "2025-07-20T17:53:55.951191Z"
    },
    "tags": []
   },
   "outputs": [
    {
     "data": {
      "text/html": [
       "<div>\n",
       "<style scoped>\n",
       "    .dataframe tbody tr th:only-of-type {\n",
       "        vertical-align: middle;\n",
       "    }\n",
       "\n",
       "    .dataframe tbody tr th {\n",
       "        vertical-align: top;\n",
       "    }\n",
       "\n",
       "    .dataframe thead th {\n",
       "        text-align: right;\n",
       "    }\n",
       "</style>\n",
       "<table border=\"1\" class=\"dataframe\">\n",
       "  <thead>\n",
       "    <tr style=\"text-align: right;\">\n",
       "      <th></th>\n",
       "      <th>pubdate</th>\n",
       "      <th>source</th>\n",
       "      <th>title</th>\n",
       "      <th>link</th>\n",
       "      <th>score</th>\n",
       "    </tr>\n",
       "  </thead>\n",
       "  <tbody>\n",
       "    <tr>\n",
       "      <th>5</th>\n",
       "      <td>2025-07-20-06-00-38 +0000</td>\n",
       "      <td>world</td>\n",
       "      <td>Killings near a West Bank village show even Am...</td>\n",
       "      <td>https://www.washingtonpost.com/world/2025/07/2...</td>\n",
       "      <td>11</td>\n",
       "    </tr>\n",
       "    <tr>\n",
       "      <th>0</th>\n",
       "      <td>2025-07-20-17-19-12 +0000</td>\n",
       "      <td>world</td>\n",
       "      <td>Japan’s ruling party projected to lose majorit...</td>\n",
       "      <td>https://www.washingtonpost.com/world/2025/07/2...</td>\n",
       "      <td>9</td>\n",
       "    </tr>\n",
       "    <tr>\n",
       "      <th>6</th>\n",
       "      <td>2025-07-20-04-30-39 +0000</td>\n",
       "      <td>world</td>\n",
       "      <td>Tourist boat capsizes in Vietnam’s Ha Long Bay...</td>\n",
       "      <td>https://www.washingtonpost.com/world/2025/07/2...</td>\n",
       "      <td>9</td>\n",
       "    </tr>\n",
       "    <tr>\n",
       "      <th>2</th>\n",
       "      <td>2025-07-20-11-49-34 +0000</td>\n",
       "      <td>world</td>\n",
       "      <td>Typhoon Wipha hits mainland China after disrup...</td>\n",
       "      <td>https://www.washingtonpost.com/world/2025/07/2...</td>\n",
       "      <td>9</td>\n",
       "    </tr>\n",
       "    <tr>\n",
       "      <th>3</th>\n",
       "      <td>2025-07-20-09-00-00 +0000</td>\n",
       "      <td>world</td>\n",
       "      <td>U.S. citizen who works for Commerce Dept. ensn...</td>\n",
       "      <td>https://www.washingtonpost.com/national-securi...</td>\n",
       "      <td>8</td>\n",
       "    </tr>\n",
       "  </tbody>\n",
       "</table>\n",
       "</div>"
      ],
      "text/plain": [
       "                     pubdate source  \\\n",
       "5  2025-07-20-06-00-38 +0000  world   \n",
       "0  2025-07-20-17-19-12 +0000  world   \n",
       "6  2025-07-20-04-30-39 +0000  world   \n",
       "2  2025-07-20-11-49-34 +0000  world   \n",
       "3  2025-07-20-09-00-00 +0000  world   \n",
       "\n",
       "                                               title  \\\n",
       "5  Killings near a West Bank village show even Am...   \n",
       "0  Japan’s ruling party projected to lose majorit...   \n",
       "6  Tourist boat capsizes in Vietnam’s Ha Long Bay...   \n",
       "2  Typhoon Wipha hits mainland China after disrup...   \n",
       "3  U.S. citizen who works for Commerce Dept. ensn...   \n",
       "\n",
       "                                                link  score  \n",
       "5  https://www.washingtonpost.com/world/2025/07/2...     11  \n",
       "0  https://www.washingtonpost.com/world/2025/07/2...      9  \n",
       "6  https://www.washingtonpost.com/world/2025/07/2...      9  \n",
       "2  https://www.washingtonpost.com/world/2025/07/2...      9  \n",
       "3  https://www.washingtonpost.com/national-securi...      8  "
      ]
     },
     "execution_count": 4,
     "metadata": {},
     "output_type": "execute_result"
    }
   ],
   "source": [
    "word_scores = dict(score_df[['word','score']].values)\n",
    "latest['score'] = latest['title'].apply(\n",
    "    lambda t: sum(\n",
    "        word_scores.get(w.lower(), 0)\n",
    "        for w in re.findall(r'[A-Za-z]+', t)\n",
    "        if len(w) > 1\n",
    "    )\n",
    ")\n",
    "ranked = latest.sort_values('score', ascending=False)\n",
    "ranked[['score','pubdate','source','title','link']].to_csv('rank.csv', index=False)\n",
    "ranked[['score','pubdate','source','title','link']].to_csv(archive / f'rank-{timestamp}.csv', index=False)\n",
    "ranked.head()\n"
   ]
  },
  {
   "cell_type": "markdown",
   "id": "3227bcb4",
   "metadata": {},
   "source": [
    "## Select top headlines"
   ]
  },
  {
   "cell_type": "code",
   "execution_count": 5,
   "id": "5a503efd",
   "metadata": {
    "execution": {
     "iopub.execute_input": "2025-07-20T17:53:55.953699Z",
     "iopub.status.busy": "2025-07-20T17:53:55.953489Z",
     "iopub.status.idle": "2025-07-20T17:53:55.974107Z",
     "shell.execute_reply": "2025-07-20T17:53:55.973624Z"
    },
    "tags": []
   },
   "outputs": [
    {
     "data": {
      "text/html": [
       "<div>\n",
       "<style scoped>\n",
       "    .dataframe tbody tr th:only-of-type {\n",
       "        vertical-align: middle;\n",
       "    }\n",
       "\n",
       "    .dataframe tbody tr th {\n",
       "        vertical-align: top;\n",
       "    }\n",
       "\n",
       "    .dataframe thead th {\n",
       "        text-align: right;\n",
       "    }\n",
       "</style>\n",
       "<table border=\"1\" class=\"dataframe\">\n",
       "  <thead>\n",
       "    <tr style=\"text-align: right;\">\n",
       "      <th></th>\n",
       "      <th>score</th>\n",
       "      <th>pubdate</th>\n",
       "      <th>source</th>\n",
       "      <th>title</th>\n",
       "      <th>link</th>\n",
       "    </tr>\n",
       "  </thead>\n",
       "  <tbody>\n",
       "    <tr>\n",
       "      <th>5</th>\n",
       "      <td>11</td>\n",
       "      <td>2025-07-20-06-00-38 +0000</td>\n",
       "      <td>world</td>\n",
       "      <td>Killings near a West Bank village show even Am...</td>\n",
       "      <td>https://www.washingtonpost.com/world/2025/07/2...</td>\n",
       "    </tr>\n",
       "    <tr>\n",
       "      <th>0</th>\n",
       "      <td>9</td>\n",
       "      <td>2025-07-20-17-19-12 +0000</td>\n",
       "      <td>world</td>\n",
       "      <td>Japan’s ruling party projected to lose majorit...</td>\n",
       "      <td>https://www.washingtonpost.com/world/2025/07/2...</td>\n",
       "    </tr>\n",
       "    <tr>\n",
       "      <th>2</th>\n",
       "      <td>9</td>\n",
       "      <td>2025-07-20-11-49-34 +0000</td>\n",
       "      <td>world</td>\n",
       "      <td>Typhoon Wipha hits mainland China after disrup...</td>\n",
       "      <td>https://www.washingtonpost.com/world/2025/07/2...</td>\n",
       "    </tr>\n",
       "    <tr>\n",
       "      <th>6</th>\n",
       "      <td>9</td>\n",
       "      <td>2025-07-20-04-30-39 +0000</td>\n",
       "      <td>world</td>\n",
       "      <td>Tourist boat capsizes in Vietnam’s Ha Long Bay...</td>\n",
       "      <td>https://www.washingtonpost.com/world/2025/07/2...</td>\n",
       "    </tr>\n",
       "    <tr>\n",
       "      <th>3</th>\n",
       "      <td>8</td>\n",
       "      <td>2025-07-20-09-00-00 +0000</td>\n",
       "      <td>world</td>\n",
       "      <td>U.S. citizen who works for Commerce Dept. ensn...</td>\n",
       "      <td>https://www.washingtonpost.com/national-securi...</td>\n",
       "    </tr>\n",
       "    <tr>\n",
       "      <th>7</th>\n",
       "      <td>7</td>\n",
       "      <td>2025-07-19-18-13-54 +0000</td>\n",
       "      <td>world</td>\n",
       "      <td>As U.S. hails Syria ceasefire, Sweida resident...</td>\n",
       "      <td>https://www.washingtonpost.com/world/2025/07/1...</td>\n",
       "    </tr>\n",
       "    <tr>\n",
       "      <th>1</th>\n",
       "      <td>4</td>\n",
       "      <td>2025-07-20-16-06-54 +0000</td>\n",
       "      <td>world</td>\n",
       "      <td>Trump’s bullying of Brazil is backfiring</td>\n",
       "      <td>https://www.washingtonpost.com/world/2025/07/2...</td>\n",
       "    </tr>\n",
       "    <tr>\n",
       "      <th>4</th>\n",
       "      <td>4</td>\n",
       "      <td>2025-07-20-08-00-49 +0000</td>\n",
       "      <td>world</td>\n",
       "      <td>See how Nigeria’s economic crisis has changed ...</td>\n",
       "      <td>https://www.washingtonpost.com/world/interacti...</td>\n",
       "    </tr>\n",
       "  </tbody>\n",
       "</table>\n",
       "</div>"
      ],
      "text/plain": [
       "   score                    pubdate source  \\\n",
       "5     11  2025-07-20-06-00-38 +0000  world   \n",
       "0      9  2025-07-20-17-19-12 +0000  world   \n",
       "2      9  2025-07-20-11-49-34 +0000  world   \n",
       "6      9  2025-07-20-04-30-39 +0000  world   \n",
       "3      8  2025-07-20-09-00-00 +0000  world   \n",
       "7      7  2025-07-19-18-13-54 +0000  world   \n",
       "1      4  2025-07-20-16-06-54 +0000  world   \n",
       "4      4  2025-07-20-08-00-49 +0000  world   \n",
       "\n",
       "                                               title  \\\n",
       "5  Killings near a West Bank village show even Am...   \n",
       "0  Japan’s ruling party projected to lose majorit...   \n",
       "2  Typhoon Wipha hits mainland China after disrup...   \n",
       "6  Tourist boat capsizes in Vietnam’s Ha Long Bay...   \n",
       "3  U.S. citizen who works for Commerce Dept. ensn...   \n",
       "7  As U.S. hails Syria ceasefire, Sweida resident...   \n",
       "1           Trump’s bullying of Brazil is backfiring   \n",
       "4  See how Nigeria’s economic crisis has changed ...   \n",
       "\n",
       "                                                link  \n",
       "5  https://www.washingtonpost.com/world/2025/07/2...  \n",
       "0  https://www.washingtonpost.com/world/2025/07/2...  \n",
       "2  https://www.washingtonpost.com/world/2025/07/2...  \n",
       "6  https://www.washingtonpost.com/world/2025/07/2...  \n",
       "3  https://www.washingtonpost.com/national-securi...  \n",
       "7  https://www.washingtonpost.com/world/2025/07/1...  \n",
       "1  https://www.washingtonpost.com/world/2025/07/2...  \n",
       "4  https://www.washingtonpost.com/world/interacti...  "
      ]
     },
     "execution_count": 5,
     "metadata": {},
     "output_type": "execute_result"
    }
   ],
   "source": [
    "top_rows = []\n",
    "working = word_scores.copy()\n",
    "remaining = latest.copy()\n",
    "for _ in range(10):\n",
    "    ranked_loop = remaining.assign(score=remaining['title'].apply(\n",
    "        lambda t: sum(working.get(w.lower(), 0)\n",
    "                      for w in re.findall(r'[A-Za-z]+', t)\n",
    "                      if len(w) > 1)\n",
    "    )).sort_values('score', ascending=False)\n",
    "    if ranked_loop.empty:\n",
    "        break\n",
    "    top_story = ranked_loop.iloc[0]\n",
    "    top_rows.append(top_story[['score','pubdate','source','title','link']])\n",
    "    words = set(re.findall(r'[A-Za-z]+', top_story['title'].lower()))\n",
    "    for w in words:\n",
    "        working.pop(w, None)\n",
    "    remaining = remaining.drop(top_story.name)\n",
    "top_df = pd.DataFrame(top_rows)\n",
    "top_df.to_csv('top.csv', index=False)\n",
    "top_df.to_csv(archive / f'top-{timestamp}.csv', index=False)\n",
    "top_df\n"
   ]
  },
  {
   "cell_type": "markdown",
   "id": "1a1d932c",
   "metadata": {},
   "source": [
    "## Create JSON version of top headlines"
   ]
  },
  {
   "cell_type": "code",
   "execution_count": 6,
   "id": "1114b600",
   "metadata": {
    "execution": {
     "iopub.execute_input": "2025-07-20T17:53:55.975900Z",
     "iopub.status.busy": "2025-07-20T17:53:55.975712Z",
     "iopub.status.idle": "2025-07-20T17:53:55.980167Z",
     "shell.execute_reply": "2025-07-20T17:53:55.979695Z"
    }
   },
   "outputs": [],
   "source": [
    "import pandas as pd\n",
    "pd.read_csv('top.csv').to_json('top.json', orient='records', indent=2)\n"
   ]
  },
  {
   "cell_type": "code",
   "execution_count": null,
   "id": "a78c0c88-10ab-4da5-ae0a-872fe6b83585",
   "metadata": {},
   "outputs": [],
   "source": []
  }
 ],
 "metadata": {
  "kernelspec": {
   "display_name": "Python 3",
   "language": "python",
   "name": "python3"
  },
  "language_info": {
   "codemirror_mode": {
    "name": "ipython",
    "version": 3
   },
   "file_extension": ".py",
   "mimetype": "text/x-python",
   "name": "python",
   "nbconvert_exporter": "python",
   "pygments_lexer": "ipython3",
   "version": "3.13.5"
  }
 },
 "nbformat": 4,
 "nbformat_minor": 5
}
