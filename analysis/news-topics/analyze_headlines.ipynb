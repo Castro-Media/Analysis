{
 "cells": [
  {
   "cell_type": "markdown",
   "id": "f89ea7b0",
   "metadata": {},
   "source": [
    "## Load latest headlines"
   ]
  },
  {
   "cell_type": "code",
   "execution_count": 1,
   "id": "985031ce",
   "metadata": {
    "execution": {
     "iopub.execute_input": "2025-07-21T13:59:00.933910Z",
     "iopub.status.busy": "2025-07-21T13:59:00.933636Z",
     "iopub.status.idle": "2025-07-21T13:59:01.177364Z",
     "shell.execute_reply": "2025-07-21T13:59:01.176803Z"
    }
   },
   "outputs": [
    {
     "name": "stdout",
     "output_type": "stream",
     "text": [
      "All dependencies ready.\n",
      "\n"
     ]
    }
   ],
   "source": [
    "# ========== Bootstrap: ensure required Python packages are present =========\n",
    "import importlib, subprocess, sys\n",
    "from typing import Optional\n",
    "\n",
    "def _ensure(pkg_name: str, import_name: Optional[str] = None):\n",
    "    try:\n",
    "        importlib.import_module(import_name or pkg_name)\n",
    "    except ModuleNotFoundError:\n",
    "        subprocess.check_call([sys.executable, '-m', 'pip', 'install', pkg_name])\n",
    "    finally:\n",
    "        globals()[import_name or pkg_name] = importlib.import_module(import_name or pkg_name)\n",
    "\n",
    "_ensure('pandas')\n",
    "print('All dependencies ready.\\n')\n"
   ]
  },
  {
   "cell_type": "code",
   "execution_count": 2,
   "id": "7c58a61b",
   "metadata": {
    "execution": {
     "iopub.execute_input": "2025-07-21T13:59:01.179314Z",
     "iopub.status.busy": "2025-07-21T13:59:01.179068Z",
     "iopub.status.idle": "2025-07-21T13:59:01.191950Z",
     "shell.execute_reply": "2025-07-21T13:59:01.191410Z"
    },
    "tags": []
   },
   "outputs": [
    {
     "data": {
      "text/html": [
       "<div>\n",
       "<style scoped>\n",
       "    .dataframe tbody tr th:only-of-type {\n",
       "        vertical-align: middle;\n",
       "    }\n",
       "\n",
       "    .dataframe tbody tr th {\n",
       "        vertical-align: top;\n",
       "    }\n",
       "\n",
       "    .dataframe thead th {\n",
       "        text-align: right;\n",
       "    }\n",
       "</style>\n",
       "<table border=\"1\" class=\"dataframe\">\n",
       "  <thead>\n",
       "    <tr style=\"text-align: right;\">\n",
       "      <th></th>\n",
       "      <th>pubdate</th>\n",
       "      <th>source</th>\n",
       "      <th>title</th>\n",
       "      <th>link</th>\n",
       "    </tr>\n",
       "  </thead>\n",
       "  <tbody>\n",
       "    <tr>\n",
       "      <th>0</th>\n",
       "      <td>2025-07-21-02-59-47 +0000</td>\n",
       "      <td>world</td>\n",
       "      <td>Police say driver shot, attacked by crowd in L...</td>\n",
       "      <td>https://www.cbc.ca/news/world/fernando-ramirez...</td>\n",
       "    </tr>\n",
       "    <tr>\n",
       "      <th>1</th>\n",
       "      <td>2025-07-21-01-28-11 +0000</td>\n",
       "      <td>world</td>\n",
       "      <td>Father of Canadian girl who was found dead in ...</td>\n",
       "      <td>https://www.cbc.ca/news/canada/montreal/missin...</td>\n",
       "    </tr>\n",
       "    <tr>\n",
       "      <th>2</th>\n",
       "      <td>2025-07-20-18-32-37 +0000</td>\n",
       "      <td>world</td>\n",
       "      <td>Trump threatens to hold up stadium deal if Was...</td>\n",
       "      <td>https://www.cbc.ca/sports/trump-washington-foo...</td>\n",
       "    </tr>\n",
       "    <tr>\n",
       "      <th>3</th>\n",
       "      <td>2025-07-20-18-17-50 +0000</td>\n",
       "      <td>world</td>\n",
       "      <td>Scheffler cruises to British Open title, has U...</td>\n",
       "      <td>https://www.cbc.ca/sports/golf/scottie-scheffl...</td>\n",
       "    </tr>\n",
       "    <tr>\n",
       "      <th>4</th>\n",
       "      <td>2025-07-20-14-54-09 +0000</td>\n",
       "      <td>world</td>\n",
       "      <td>Israeli gunfire blamed for 85 fatalities in de...</td>\n",
       "      <td>https://www.cbc.ca/news/world/73-palestinians-...</td>\n",
       "    </tr>\n",
       "  </tbody>\n",
       "</table>\n",
       "</div>"
      ],
      "text/plain": [
       "                     pubdate source  \\\n",
       "0  2025-07-21-02-59-47 +0000  world   \n",
       "1  2025-07-21-01-28-11 +0000  world   \n",
       "2  2025-07-20-18-32-37 +0000  world   \n",
       "3  2025-07-20-18-17-50 +0000  world   \n",
       "4  2025-07-20-14-54-09 +0000  world   \n",
       "\n",
       "                                               title  \\\n",
       "0  Police say driver shot, attacked by crowd in L...   \n",
       "1  Father of Canadian girl who was found dead in ...   \n",
       "2  Trump threatens to hold up stadium deal if Was...   \n",
       "3  Scheffler cruises to British Open title, has U...   \n",
       "4  Israeli gunfire blamed for 85 fatalities in de...   \n",
       "\n",
       "                                                link  \n",
       "0  https://www.cbc.ca/news/world/fernando-ramirez...  \n",
       "1  https://www.cbc.ca/news/canada/montreal/missin...  \n",
       "2  https://www.cbc.ca/sports/trump-washington-foo...  \n",
       "3  https://www.cbc.ca/sports/golf/scottie-scheffl...  \n",
       "4  https://www.cbc.ca/news/world/73-palestinians-...  "
      ]
     },
     "execution_count": 2,
     "metadata": {},
     "output_type": "execute_result"
    }
   ],
   "source": [
    "from pathlib import Path\n",
    "archive = Path('archive')\n",
    "archive.mkdir(exist_ok=True)\n",
    "import pandas as pd\n",
    "latest = pd.read_csv('../headlines/latest.csv')\n",
    "latest.head()"
   ]
  },
  {
   "cell_type": "markdown",
   "id": "833c1224",
   "metadata": {},
   "source": [
    "## Calculate word frequencies"
   ]
  },
  {
   "cell_type": "code",
   "execution_count": 3,
   "id": "a7188e2c",
   "metadata": {
    "execution": {
     "iopub.execute_input": "2025-07-21T13:59:01.193832Z",
     "iopub.status.busy": "2025-07-21T13:59:01.193646Z",
     "iopub.status.idle": "2025-07-21T13:59:01.206072Z",
     "shell.execute_reply": "2025-07-21T13:59:01.205480Z"
    },
    "tags": []
   },
   "outputs": [
    {
     "name": "stderr",
     "output_type": "stream",
     "text": [
      "/tmp/ipykernel_2319/2220774760.py:15: DeprecationWarning: datetime.datetime.utcnow() is deprecated and scheduled for removal in a future version. Use timezone-aware objects to represent datetimes in UTC: datetime.datetime.now(datetime.UTC).\n",
      "  timestamp = datetime.utcnow().strftime('%Y-%m-%d-%H-00-00')\n"
     ]
    },
    {
     "data": {
      "text/html": [
       "<div>\n",
       "<style scoped>\n",
       "    .dataframe tbody tr th:only-of-type {\n",
       "        vertical-align: middle;\n",
       "    }\n",
       "\n",
       "    .dataframe tbody tr th {\n",
       "        vertical-align: top;\n",
       "    }\n",
       "\n",
       "    .dataframe thead th {\n",
       "        text-align: right;\n",
       "    }\n",
       "</style>\n",
       "<table border=\"1\" class=\"dataframe\">\n",
       "  <thead>\n",
       "    <tr style=\"text-align: right;\">\n",
       "      <th></th>\n",
       "      <th>word</th>\n",
       "      <th>score</th>\n",
       "    </tr>\n",
       "  </thead>\n",
       "  <tbody>\n",
       "    <tr>\n",
       "      <th>32</th>\n",
       "      <td>open</td>\n",
       "      <td>2</td>\n",
       "    </tr>\n",
       "    <tr>\n",
       "      <th>1</th>\n",
       "      <td>driver</td>\n",
       "      <td>1</td>\n",
       "    </tr>\n",
       "    <tr>\n",
       "      <th>2</th>\n",
       "      <td>shot</td>\n",
       "      <td>1</td>\n",
       "    </tr>\n",
       "    <tr>\n",
       "      <th>3</th>\n",
       "      <td>attacked</td>\n",
       "      <td>1</td>\n",
       "    </tr>\n",
       "    <tr>\n",
       "      <th>4</th>\n",
       "      <td>crowd</td>\n",
       "      <td>1</td>\n",
       "    </tr>\n",
       "  </tbody>\n",
       "</table>\n",
       "</div>"
      ],
      "text/plain": [
       "        word  score\n",
       "32      open      2\n",
       "1     driver      1\n",
       "2       shot      1\n",
       "3   attacked      1\n",
       "4      crowd      1"
      ]
     },
     "execution_count": 3,
     "metadata": {},
     "output_type": "execute_result"
    }
   ],
   "source": [
    "import re\n",
    "from collections import Counter\n",
    "from datetime import datetime\n",
    "\n",
    "with open('exclude.txt') as f:\n",
    "    stop_words = set(w.strip() for w in f if w.strip())\n",
    "words = re.findall(r'[A-Za-z]+', ' '.join(latest['title']).lower())\n",
    "filtered = [w for w in words if w not in stop_words and len(w) > 1]\n",
    "counts = Counter(filtered)\n",
    "score_df = (\n",
    "    pd.DataFrame(counts.items(), columns=['word','score'])\n",
    "    .sort_values('score', ascending=False)\n",
    ")\n",
    "score_df[['score','word']].to_csv('scores.csv', index=False)\n",
    "timestamp = datetime.utcnow().strftime('%Y-%m-%d-%H-00-00')\n",
    "score_df[['score','word']].to_csv(archive / f'scores-{timestamp}.csv', index=False)\n",
    "score_df.head()\n"
   ]
  },
  {
   "cell_type": "markdown",
   "id": "c5e8edb2",
   "metadata": {},
   "source": [
    "## Rank headlines by score"
   ]
  },
  {
   "cell_type": "code",
   "execution_count": 4,
   "id": "693d409d",
   "metadata": {
    "execution": {
     "iopub.execute_input": "2025-07-21T13:59:01.207998Z",
     "iopub.status.busy": "2025-07-21T13:59:01.207809Z",
     "iopub.status.idle": "2025-07-21T13:59:01.219899Z",
     "shell.execute_reply": "2025-07-21T13:59:01.219356Z"
    },
    "tags": []
   },
   "outputs": [
    {
     "data": {
      "text/html": [
       "<div>\n",
       "<style scoped>\n",
       "    .dataframe tbody tr th:only-of-type {\n",
       "        vertical-align: middle;\n",
       "    }\n",
       "\n",
       "    .dataframe tbody tr th {\n",
       "        vertical-align: top;\n",
       "    }\n",
       "\n",
       "    .dataframe thead th {\n",
       "        text-align: right;\n",
       "    }\n",
       "</style>\n",
       "<table border=\"1\" class=\"dataframe\">\n",
       "  <thead>\n",
       "    <tr style=\"text-align: right;\">\n",
       "      <th></th>\n",
       "      <th>pubdate</th>\n",
       "      <th>source</th>\n",
       "      <th>title</th>\n",
       "      <th>link</th>\n",
       "      <th>score</th>\n",
       "    </tr>\n",
       "  </thead>\n",
       "  <tbody>\n",
       "    <tr>\n",
       "      <th>3</th>\n",
       "      <td>2025-07-20-18-17-50 +0000</td>\n",
       "      <td>world</td>\n",
       "      <td>Scheffler cruises to British Open title, has U...</td>\n",
       "      <td>https://www.cbc.ca/sports/golf/scottie-scheffl...</td>\n",
       "      <td>13</td>\n",
       "    </tr>\n",
       "    <tr>\n",
       "      <th>0</th>\n",
       "      <td>2025-07-21-02-59-47 +0000</td>\n",
       "      <td>world</td>\n",
       "      <td>Police say driver shot, attacked by crowd in L...</td>\n",
       "      <td>https://www.cbc.ca/news/world/fernando-ramirez...</td>\n",
       "      <td>11</td>\n",
       "    </tr>\n",
       "    <tr>\n",
       "      <th>2</th>\n",
       "      <td>2025-07-20-18-32-37 +0000</td>\n",
       "      <td>world</td>\n",
       "      <td>Trump threatens to hold up stadium deal if Was...</td>\n",
       "      <td>https://www.cbc.ca/sports/trump-washington-foo...</td>\n",
       "      <td>11</td>\n",
       "    </tr>\n",
       "    <tr>\n",
       "      <th>4</th>\n",
       "      <td>2025-07-20-14-54-09 +0000</td>\n",
       "      <td>world</td>\n",
       "      <td>Israeli gunfire blamed for 85 fatalities in de...</td>\n",
       "      <td>https://www.cbc.ca/news/world/73-palestinians-...</td>\n",
       "      <td>10</td>\n",
       "    </tr>\n",
       "    <tr>\n",
       "      <th>1</th>\n",
       "      <td>2025-07-21-01-28-11 +0000</td>\n",
       "      <td>world</td>\n",
       "      <td>Father of Canadian girl who was found dead in ...</td>\n",
       "      <td>https://www.cbc.ca/news/canada/montreal/missin...</td>\n",
       "      <td>7</td>\n",
       "    </tr>\n",
       "  </tbody>\n",
       "</table>\n",
       "</div>"
      ],
      "text/plain": [
       "                     pubdate source  \\\n",
       "3  2025-07-20-18-17-50 +0000  world   \n",
       "0  2025-07-21-02-59-47 +0000  world   \n",
       "2  2025-07-20-18-32-37 +0000  world   \n",
       "4  2025-07-20-14-54-09 +0000  world   \n",
       "1  2025-07-21-01-28-11 +0000  world   \n",
       "\n",
       "                                               title  \\\n",
       "3  Scheffler cruises to British Open title, has U...   \n",
       "0  Police say driver shot, attacked by crowd in L...   \n",
       "2  Trump threatens to hold up stadium deal if Was...   \n",
       "4  Israeli gunfire blamed for 85 fatalities in de...   \n",
       "1  Father of Canadian girl who was found dead in ...   \n",
       "\n",
       "                                                link  score  \n",
       "3  https://www.cbc.ca/sports/golf/scottie-scheffl...     13  \n",
       "0  https://www.cbc.ca/news/world/fernando-ramirez...     11  \n",
       "2  https://www.cbc.ca/sports/trump-washington-foo...     11  \n",
       "4  https://www.cbc.ca/news/world/73-palestinians-...     10  \n",
       "1  https://www.cbc.ca/news/canada/montreal/missin...      7  "
      ]
     },
     "execution_count": 4,
     "metadata": {},
     "output_type": "execute_result"
    }
   ],
   "source": [
    "word_scores = dict(score_df[['word','score']].values)\n",
    "latest['score'] = latest['title'].apply(\n",
    "    lambda t: sum(\n",
    "        word_scores.get(w.lower(), 0)\n",
    "        for w in re.findall(r'[A-Za-z]+', t)\n",
    "        if len(w) > 1\n",
    "    )\n",
    ")\n",
    "ranked = latest.sort_values('score', ascending=False)\n",
    "ranked[['score','pubdate','source','title','link']].to_csv('rank.csv', index=False)\n",
    "ranked[['score','pubdate','source','title','link']].to_csv(archive / f'rank-{timestamp}.csv', index=False)\n",
    "ranked.head()\n"
   ]
  },
  {
   "cell_type": "markdown",
   "id": "3227bcb4",
   "metadata": {},
   "source": [
    "## Select top headlines"
   ]
  },
  {
   "cell_type": "code",
   "execution_count": 5,
   "id": "5a503efd",
   "metadata": {
    "execution": {
     "iopub.execute_input": "2025-07-21T13:59:01.221785Z",
     "iopub.status.busy": "2025-07-21T13:59:01.221587Z",
     "iopub.status.idle": "2025-07-21T13:59:01.239645Z",
     "shell.execute_reply": "2025-07-21T13:59:01.238966Z"
    },
    "tags": []
   },
   "outputs": [
    {
     "data": {
      "text/html": [
       "<div>\n",
       "<style scoped>\n",
       "    .dataframe tbody tr th:only-of-type {\n",
       "        vertical-align: middle;\n",
       "    }\n",
       "\n",
       "    .dataframe tbody tr th {\n",
       "        vertical-align: top;\n",
       "    }\n",
       "\n",
       "    .dataframe thead th {\n",
       "        text-align: right;\n",
       "    }\n",
       "</style>\n",
       "<table border=\"1\" class=\"dataframe\">\n",
       "  <thead>\n",
       "    <tr style=\"text-align: right;\">\n",
       "      <th></th>\n",
       "      <th>score</th>\n",
       "      <th>pubdate</th>\n",
       "      <th>source</th>\n",
       "      <th>title</th>\n",
       "      <th>link</th>\n",
       "    </tr>\n",
       "  </thead>\n",
       "  <tbody>\n",
       "    <tr>\n",
       "      <th>3</th>\n",
       "      <td>13</td>\n",
       "      <td>2025-07-20-18-17-50 +0000</td>\n",
       "      <td>world</td>\n",
       "      <td>Scheffler cruises to British Open title, has U...</td>\n",
       "      <td>https://www.cbc.ca/sports/golf/scottie-scheffl...</td>\n",
       "    </tr>\n",
       "    <tr>\n",
       "      <th>0</th>\n",
       "      <td>11</td>\n",
       "      <td>2025-07-21-02-59-47 +0000</td>\n",
       "      <td>world</td>\n",
       "      <td>Police say driver shot, attacked by crowd in L...</td>\n",
       "      <td>https://www.cbc.ca/news/world/fernando-ramirez...</td>\n",
       "    </tr>\n",
       "    <tr>\n",
       "      <th>2</th>\n",
       "      <td>11</td>\n",
       "      <td>2025-07-20-18-32-37 +0000</td>\n",
       "      <td>world</td>\n",
       "      <td>Trump threatens to hold up stadium deal if Was...</td>\n",
       "      <td>https://www.cbc.ca/sports/trump-washington-foo...</td>\n",
       "    </tr>\n",
       "    <tr>\n",
       "      <th>4</th>\n",
       "      <td>10</td>\n",
       "      <td>2025-07-20-14-54-09 +0000</td>\n",
       "      <td>world</td>\n",
       "      <td>Israeli gunfire blamed for 85 fatalities in de...</td>\n",
       "      <td>https://www.cbc.ca/news/world/73-palestinians-...</td>\n",
       "    </tr>\n",
       "    <tr>\n",
       "      <th>1</th>\n",
       "      <td>7</td>\n",
       "      <td>2025-07-21-01-28-11 +0000</td>\n",
       "      <td>world</td>\n",
       "      <td>Father of Canadian girl who was found dead in ...</td>\n",
       "      <td>https://www.cbc.ca/news/canada/montreal/missin...</td>\n",
       "    </tr>\n",
       "  </tbody>\n",
       "</table>\n",
       "</div>"
      ],
      "text/plain": [
       "   score                    pubdate source  \\\n",
       "3     13  2025-07-20-18-17-50 +0000  world   \n",
       "0     11  2025-07-21-02-59-47 +0000  world   \n",
       "2     11  2025-07-20-18-32-37 +0000  world   \n",
       "4     10  2025-07-20-14-54-09 +0000  world   \n",
       "1      7  2025-07-21-01-28-11 +0000  world   \n",
       "\n",
       "                                               title  \\\n",
       "3  Scheffler cruises to British Open title, has U...   \n",
       "0  Police say driver shot, attacked by crowd in L...   \n",
       "2  Trump threatens to hold up stadium deal if Was...   \n",
       "4  Israeli gunfire blamed for 85 fatalities in de...   \n",
       "1  Father of Canadian girl who was found dead in ...   \n",
       "\n",
       "                                                link  \n",
       "3  https://www.cbc.ca/sports/golf/scottie-scheffl...  \n",
       "0  https://www.cbc.ca/news/world/fernando-ramirez...  \n",
       "2  https://www.cbc.ca/sports/trump-washington-foo...  \n",
       "4  https://www.cbc.ca/news/world/73-palestinians-...  \n",
       "1  https://www.cbc.ca/news/canada/montreal/missin...  "
      ]
     },
     "execution_count": 5,
     "metadata": {},
     "output_type": "execute_result"
    }
   ],
   "source": [
    "top_rows = []\n",
    "working = word_scores.copy()\n",
    "remaining = latest.copy()\n",
    "for _ in range(10):\n",
    "    ranked_loop = remaining.assign(score=remaining['title'].apply(\n",
    "        lambda t: sum(working.get(w.lower(), 0)\n",
    "                      for w in re.findall(r'[A-Za-z]+', t)\n",
    "                      if len(w) > 1)\n",
    "    )).sort_values('score', ascending=False)\n",
    "    if ranked_loop.empty:\n",
    "        break\n",
    "    top_story = ranked_loop.iloc[0]\n",
    "    top_rows.append(top_story[['score','pubdate','source','title','link']])\n",
    "    words = set(re.findall(r'[A-Za-z]+', top_story['title'].lower()))\n",
    "    for w in words:\n",
    "        working.pop(w, None)\n",
    "    remaining = remaining.drop(top_story.name)\n",
    "top_df = pd.DataFrame(top_rows)\n",
    "top_df.to_csv('top.csv', index=False)\n",
    "top_df.to_csv(archive / f'top-{timestamp}.csv', index=False)\n",
    "top_df\n"
   ]
  },
  {
   "cell_type": "markdown",
   "id": "1a1d932c",
   "metadata": {},
   "source": [
    "## Create JSON version of top headlines"
   ]
  },
  {
   "cell_type": "code",
   "execution_count": 6,
   "id": "1114b600",
   "metadata": {
    "execution": {
     "iopub.execute_input": "2025-07-21T13:59:01.241607Z",
     "iopub.status.busy": "2025-07-21T13:59:01.241385Z",
     "iopub.status.idle": "2025-07-21T13:59:01.245808Z",
     "shell.execute_reply": "2025-07-21T13:59:01.245336Z"
    }
   },
   "outputs": [],
   "source": [
    "import pandas as pd\n",
    "pd.read_csv('top.csv').to_json('top.json', orient='records', indent=2)\n"
   ]
  },
  {
   "cell_type": "code",
   "execution_count": null,
   "id": "a78c0c88-10ab-4da5-ae0a-872fe6b83585",
   "metadata": {},
   "outputs": [],
   "source": []
  }
 ],
 "metadata": {
  "kernelspec": {
   "display_name": "Python 3",
   "language": "python",
   "name": "python3"
  },
  "language_info": {
   "codemirror_mode": {
    "name": "ipython",
    "version": 3
   },
   "file_extension": ".py",
   "mimetype": "text/x-python",
   "name": "python",
   "nbconvert_exporter": "python",
   "pygments_lexer": "ipython3",
   "version": "3.13.5"
  }
 },
 "nbformat": 4,
 "nbformat_minor": 5
}
