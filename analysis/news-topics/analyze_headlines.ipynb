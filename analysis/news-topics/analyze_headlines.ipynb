{
 "cells": [
  {
   "cell_type": "markdown",
   "id": "f89ea7b0",
   "metadata": {},
   "source": [
    "## Load latest headlines"
   ]
  },
  {
   "cell_type": "code",
   "execution_count": 1,
   "id": "985031ce",
   "metadata": {
    "execution": {
     "iopub.execute_input": "2025-07-22T01:17:19.700547Z",
     "iopub.status.busy": "2025-07-22T01:17:19.700369Z",
     "iopub.status.idle": "2025-07-22T01:17:19.924833Z",
     "shell.execute_reply": "2025-07-22T01:17:19.924258Z"
    }
   },
   "outputs": [
    {
     "name": "stdout",
     "output_type": "stream",
     "text": [
      "All dependencies ready.\n",
      "\n"
     ]
    }
   ],
   "source": [
    "# ========== Bootstrap: ensure required Python packages are present =========\n",
    "import importlib, subprocess, sys\n",
    "from typing import Optional\n",
    "\n",
    "def _ensure(pkg_name: str, import_name: Optional[str] = None):\n",
    "    try:\n",
    "        importlib.import_module(import_name or pkg_name)\n",
    "    except ModuleNotFoundError:\n",
    "        subprocess.check_call([sys.executable, '-m', 'pip', 'install', pkg_name])\n",
    "    finally:\n",
    "        globals()[import_name or pkg_name] = importlib.import_module(import_name or pkg_name)\n",
    "\n",
    "_ensure('pandas')\n",
    "print('All dependencies ready.\\n')\n"
   ]
  },
  {
   "cell_type": "code",
   "execution_count": 2,
   "id": "7c58a61b",
   "metadata": {
    "execution": {
     "iopub.execute_input": "2025-07-22T01:17:19.926795Z",
     "iopub.status.busy": "2025-07-22T01:17:19.926555Z",
     "iopub.status.idle": "2025-07-22T01:17:19.938281Z",
     "shell.execute_reply": "2025-07-22T01:17:19.937799Z"
    },
    "tags": []
   },
   "outputs": [
    {
     "data": {
      "text/html": [
       "<div>\n",
       "<style scoped>\n",
       "    .dataframe tbody tr th:only-of-type {\n",
       "        vertical-align: middle;\n",
       "    }\n",
       "\n",
       "    .dataframe tbody tr th {\n",
       "        vertical-align: top;\n",
       "    }\n",
       "\n",
       "    .dataframe thead th {\n",
       "        text-align: right;\n",
       "    }\n",
       "</style>\n",
       "<table border=\"1\" class=\"dataframe\">\n",
       "  <thead>\n",
       "    <tr style=\"text-align: right;\">\n",
       "      <th></th>\n",
       "      <th>pubdate</th>\n",
       "      <th>source</th>\n",
       "      <th>title</th>\n",
       "      <th>link</th>\n",
       "    </tr>\n",
       "  </thead>\n",
       "  <tbody>\n",
       "    <tr>\n",
       "      <th>0</th>\n",
       "      <td>2025-07-21-23-53-17 +0000</td>\n",
       "      <td>world</td>\n",
       "      <td>Trump administration releases MLK Jr.'s FBI re...</td>\n",
       "      <td>https://www.cbc.ca/news/world/trump-releases-f...</td>\n",
       "    </tr>\n",
       "    <tr>\n",
       "      <th>1</th>\n",
       "      <td>2025-07-21-22-58-25 +0000</td>\n",
       "      <td>world</td>\n",
       "      <td>Ex-police officer sentenced to 33 months for v...</td>\n",
       "      <td>https://www.cbc.ca/news/world/breonna-taylor-h...</td>\n",
       "    </tr>\n",
       "    <tr>\n",
       "      <th>2</th>\n",
       "      <td>2025-07-21-21-20-37 +0000</td>\n",
       "      <td>world</td>\n",
       "      <td>Trump is serious about wanting Washington Comm...</td>\n",
       "      <td>https://www.cbc.ca/sports/football/nfl/donald-...</td>\n",
       "    </tr>\n",
       "    <tr>\n",
       "      <th>3</th>\n",
       "      <td>2025-07-21-19-57-20 +0000</td>\n",
       "      <td>world</td>\n",
       "      <td>Father of Montreal girl who was found dead in ...</td>\n",
       "      <td>https://www.cbc.ca/news/canada/montreal/missin...</td>\n",
       "    </tr>\n",
       "    <tr>\n",
       "      <th>4</th>\n",
       "      <td>2025-07-21-18-40-07 +0000</td>\n",
       "      <td>world</td>\n",
       "      <td>The Cosby Show star Malcolm-Jamal Warner dead ...</td>\n",
       "      <td>https://www.cbc.ca/news/entertainment/malcolm-...</td>\n",
       "    </tr>\n",
       "  </tbody>\n",
       "</table>\n",
       "</div>"
      ],
      "text/plain": [
       "                     pubdate source  \\\n",
       "0  2025-07-21-23-53-17 +0000  world   \n",
       "1  2025-07-21-22-58-25 +0000  world   \n",
       "2  2025-07-21-21-20-37 +0000  world   \n",
       "3  2025-07-21-19-57-20 +0000  world   \n",
       "4  2025-07-21-18-40-07 +0000  world   \n",
       "\n",
       "                                               title  \\\n",
       "0  Trump administration releases MLK Jr.'s FBI re...   \n",
       "1  Ex-police officer sentenced to 33 months for v...   \n",
       "2  Trump is serious about wanting Washington Comm...   \n",
       "3  Father of Montreal girl who was found dead in ...   \n",
       "4  The Cosby Show star Malcolm-Jamal Warner dead ...   \n",
       "\n",
       "                                                link  \n",
       "0  https://www.cbc.ca/news/world/trump-releases-f...  \n",
       "1  https://www.cbc.ca/news/world/breonna-taylor-h...  \n",
       "2  https://www.cbc.ca/sports/football/nfl/donald-...  \n",
       "3  https://www.cbc.ca/news/canada/montreal/missin...  \n",
       "4  https://www.cbc.ca/news/entertainment/malcolm-...  "
      ]
     },
     "execution_count": 2,
     "metadata": {},
     "output_type": "execute_result"
    }
   ],
   "source": [
    "from pathlib import Path\n",
    "archive = Path('archive')\n",
    "archive.mkdir(exist_ok=True)\n",
    "import pandas as pd\n",
    "latest = pd.read_csv('../headlines/latest.csv')\n",
    "latest.head()"
   ]
  },
  {
   "cell_type": "markdown",
   "id": "833c1224",
   "metadata": {},
   "source": [
    "## Calculate word frequencies"
   ]
  },
  {
   "cell_type": "code",
   "execution_count": 3,
   "id": "a7188e2c",
   "metadata": {
    "execution": {
     "iopub.execute_input": "2025-07-22T01:17:19.939914Z",
     "iopub.status.busy": "2025-07-22T01:17:19.939730Z",
     "iopub.status.idle": "2025-07-22T01:17:19.951286Z",
     "shell.execute_reply": "2025-07-22T01:17:19.950760Z"
    },
    "tags": []
   },
   "outputs": [
    {
     "name": "stderr",
     "output_type": "stream",
     "text": [
      "/tmp/ipykernel_2301/2220774760.py:15: DeprecationWarning: datetime.datetime.utcnow() is deprecated and scheduled for removal in a future version. Use timezone-aware objects to represent datetimes in UTC: datetime.datetime.now(datetime.UTC).\n",
      "  timestamp = datetime.utcnow().strftime('%Y-%m-%d-%H-00-00')\n"
     ]
    },
    {
     "data": {
      "text/html": [
       "<div>\n",
       "<style scoped>\n",
       "    .dataframe tbody tr th:only-of-type {\n",
       "        vertical-align: middle;\n",
       "    }\n",
       "\n",
       "    .dataframe tbody tr th {\n",
       "        vertical-align: top;\n",
       "    }\n",
       "\n",
       "    .dataframe thead th {\n",
       "        text-align: right;\n",
       "    }\n",
       "</style>\n",
       "<table border=\"1\" class=\"dataframe\">\n",
       "  <thead>\n",
       "    <tr style=\"text-align: right;\">\n",
       "      <th></th>\n",
       "      <th>word</th>\n",
       "      <th>score</th>\n",
       "    </tr>\n",
       "  </thead>\n",
       "  <tbody>\n",
       "    <tr>\n",
       "      <th>0</th>\n",
       "      <td>trump</td>\n",
       "      <td>2</td>\n",
       "    </tr>\n",
       "    <tr>\n",
       "      <th>11</th>\n",
       "      <td>police</td>\n",
       "      <td>2</td>\n",
       "    </tr>\n",
       "    <tr>\n",
       "      <th>26</th>\n",
       "      <td>house</td>\n",
       "      <td>2</td>\n",
       "    </tr>\n",
       "    <tr>\n",
       "      <th>32</th>\n",
       "      <td>dead</td>\n",
       "      <td>2</td>\n",
       "    </tr>\n",
       "    <tr>\n",
       "      <th>2</th>\n",
       "      <td>releases</td>\n",
       "      <td>1</td>\n",
       "    </tr>\n",
       "  </tbody>\n",
       "</table>\n",
       "</div>"
      ],
      "text/plain": [
       "        word  score\n",
       "0      trump      2\n",
       "11    police      2\n",
       "26     house      2\n",
       "32      dead      2\n",
       "2   releases      1"
      ]
     },
     "execution_count": 3,
     "metadata": {},
     "output_type": "execute_result"
    }
   ],
   "source": [
    "import re\n",
    "from collections import Counter\n",
    "from datetime import datetime\n",
    "\n",
    "with open('exclude.txt') as f:\n",
    "    stop_words = set(w.strip() for w in f if w.strip())\n",
    "words = re.findall(r'[A-Za-z]+', ' '.join(latest['title']).lower())\n",
    "filtered = [w for w in words if w not in stop_words and len(w) > 1]\n",
    "counts = Counter(filtered)\n",
    "score_df = (\n",
    "    pd.DataFrame(counts.items(), columns=['word','score'])\n",
    "    .sort_values('score', ascending=False)\n",
    ")\n",
    "score_df[['score','word']].to_csv('scores.csv', index=False)\n",
    "timestamp = datetime.utcnow().strftime('%Y-%m-%d-%H-00-00')\n",
    "score_df[['score','word']].to_csv(archive / f'scores-{timestamp}.csv', index=False)\n",
    "score_df.head()\n"
   ]
  },
  {
   "cell_type": "markdown",
   "id": "c5e8edb2",
   "metadata": {},
   "source": [
    "## Rank headlines by score"
   ]
  },
  {
   "cell_type": "code",
   "execution_count": 4,
   "id": "693d409d",
   "metadata": {
    "execution": {
     "iopub.execute_input": "2025-07-22T01:17:19.952982Z",
     "iopub.status.busy": "2025-07-22T01:17:19.952819Z",
     "iopub.status.idle": "2025-07-22T01:17:19.963266Z",
     "shell.execute_reply": "2025-07-22T01:17:19.962685Z"
    },
    "tags": []
   },
   "outputs": [
    {
     "data": {
      "text/html": [
       "<div>\n",
       "<style scoped>\n",
       "    .dataframe tbody tr th:only-of-type {\n",
       "        vertical-align: middle;\n",
       "    }\n",
       "\n",
       "    .dataframe tbody tr th {\n",
       "        vertical-align: top;\n",
       "    }\n",
       "\n",
       "    .dataframe thead th {\n",
       "        text-align: right;\n",
       "    }\n",
       "</style>\n",
       "<table border=\"1\" class=\"dataframe\">\n",
       "  <thead>\n",
       "    <tr style=\"text-align: right;\">\n",
       "      <th></th>\n",
       "      <th>pubdate</th>\n",
       "      <th>source</th>\n",
       "      <th>title</th>\n",
       "      <th>link</th>\n",
       "      <th>score</th>\n",
       "    </tr>\n",
       "  </thead>\n",
       "  <tbody>\n",
       "    <tr>\n",
       "      <th>6</th>\n",
       "      <td>2025-07-21-11-12-30 +0000</td>\n",
       "      <td>world</td>\n",
       "      <td>Japan PM Ishiba vows to stay on after party lo...</td>\n",
       "      <td>https://www.cbc.ca/news/world/japan-house-elec...</td>\n",
       "      <td>12</td>\n",
       "    </tr>\n",
       "    <tr>\n",
       "      <th>7</th>\n",
       "      <td>2025-07-21-02-59-47 +0000</td>\n",
       "      <td>world</td>\n",
       "      <td>Police say driver shot, attacked by crowd in L...</td>\n",
       "      <td>https://www.cbc.ca/news/world/fernando-ramirez...</td>\n",
       "      <td>12</td>\n",
       "    </tr>\n",
       "    <tr>\n",
       "      <th>0</th>\n",
       "      <td>2025-07-21-23-53-17 +0000</td>\n",
       "      <td>world</td>\n",
       "      <td>Trump administration releases MLK Jr.'s FBI re...</td>\n",
       "      <td>https://www.cbc.ca/news/world/trump-releases-f...</td>\n",
       "      <td>11</td>\n",
       "    </tr>\n",
       "    <tr>\n",
       "      <th>2</th>\n",
       "      <td>2025-07-21-21-20-37 +0000</td>\n",
       "      <td>world</td>\n",
       "      <td>Trump is serious about wanting Washington Comm...</td>\n",
       "      <td>https://www.cbc.ca/sports/football/nfl/donald-...</td>\n",
       "      <td>11</td>\n",
       "    </tr>\n",
       "    <tr>\n",
       "      <th>3</th>\n",
       "      <td>2025-07-21-19-57-20 +0000</td>\n",
       "      <td>world</td>\n",
       "      <td>Father of Montreal girl who was found dead in ...</td>\n",
       "      <td>https://www.cbc.ca/news/canada/montreal/missin...</td>\n",
       "      <td>11</td>\n",
       "    </tr>\n",
       "  </tbody>\n",
       "</table>\n",
       "</div>"
      ],
      "text/plain": [
       "                     pubdate source  \\\n",
       "6  2025-07-21-11-12-30 +0000  world   \n",
       "7  2025-07-21-02-59-47 +0000  world   \n",
       "0  2025-07-21-23-53-17 +0000  world   \n",
       "2  2025-07-21-21-20-37 +0000  world   \n",
       "3  2025-07-21-19-57-20 +0000  world   \n",
       "\n",
       "                                               title  \\\n",
       "6  Japan PM Ishiba vows to stay on after party lo...   \n",
       "7  Police say driver shot, attacked by crowd in L...   \n",
       "0  Trump administration releases MLK Jr.'s FBI re...   \n",
       "2  Trump is serious about wanting Washington Comm...   \n",
       "3  Father of Montreal girl who was found dead in ...   \n",
       "\n",
       "                                                link  score  \n",
       "6  https://www.cbc.ca/news/world/japan-house-elec...     12  \n",
       "7  https://www.cbc.ca/news/world/fernando-ramirez...     12  \n",
       "0  https://www.cbc.ca/news/world/trump-releases-f...     11  \n",
       "2  https://www.cbc.ca/sports/football/nfl/donald-...     11  \n",
       "3  https://www.cbc.ca/news/canada/montreal/missin...     11  "
      ]
     },
     "execution_count": 4,
     "metadata": {},
     "output_type": "execute_result"
    }
   ],
   "source": [
    "word_scores = dict(score_df[['word','score']].values)\n",
    "latest['score'] = latest['title'].apply(\n",
    "    lambda t: sum(\n",
    "        word_scores.get(w.lower(), 0)\n",
    "        for w in re.findall(r'[A-Za-z]+', t)\n",
    "        if len(w) > 1\n",
    "    )\n",
    ")\n",
    "ranked = latest.sort_values('score', ascending=False)\n",
    "ranked[['score','pubdate','source','title','link']].to_csv('rank.csv', index=False)\n",
    "ranked[['score','pubdate','source','title','link']].to_csv(archive / f'rank-{timestamp}.csv', index=False)\n",
    "ranked.head()\n"
   ]
  },
  {
   "cell_type": "markdown",
   "id": "3227bcb4",
   "metadata": {},
   "source": [
    "## Select top headlines"
   ]
  },
  {
   "cell_type": "code",
   "execution_count": 5,
   "id": "5a503efd",
   "metadata": {
    "execution": {
     "iopub.execute_input": "2025-07-22T01:17:19.964952Z",
     "iopub.status.busy": "2025-07-22T01:17:19.964783Z",
     "iopub.status.idle": "2025-07-22T01:17:19.983663Z",
     "shell.execute_reply": "2025-07-22T01:17:19.983103Z"
    },
    "tags": []
   },
   "outputs": [
    {
     "data": {
      "text/html": [
       "<div>\n",
       "<style scoped>\n",
       "    .dataframe tbody tr th:only-of-type {\n",
       "        vertical-align: middle;\n",
       "    }\n",
       "\n",
       "    .dataframe tbody tr th {\n",
       "        vertical-align: top;\n",
       "    }\n",
       "\n",
       "    .dataframe thead th {\n",
       "        text-align: right;\n",
       "    }\n",
       "</style>\n",
       "<table border=\"1\" class=\"dataframe\">\n",
       "  <thead>\n",
       "    <tr style=\"text-align: right;\">\n",
       "      <th></th>\n",
       "      <th>score</th>\n",
       "      <th>pubdate</th>\n",
       "      <th>source</th>\n",
       "      <th>title</th>\n",
       "      <th>link</th>\n",
       "    </tr>\n",
       "  </thead>\n",
       "  <tbody>\n",
       "    <tr>\n",
       "      <th>6</th>\n",
       "      <td>12</td>\n",
       "      <td>2025-07-21-11-12-30 +0000</td>\n",
       "      <td>world</td>\n",
       "      <td>Japan PM Ishiba vows to stay on after party lo...</td>\n",
       "      <td>https://www.cbc.ca/news/world/japan-house-elec...</td>\n",
       "    </tr>\n",
       "    <tr>\n",
       "      <th>7</th>\n",
       "      <td>12</td>\n",
       "      <td>2025-07-21-02-59-47 +0000</td>\n",
       "      <td>world</td>\n",
       "      <td>Police say driver shot, attacked by crowd in L...</td>\n",
       "      <td>https://www.cbc.ca/news/world/fernando-ramirez...</td>\n",
       "    </tr>\n",
       "    <tr>\n",
       "      <th>0</th>\n",
       "      <td>11</td>\n",
       "      <td>2025-07-21-23-53-17 +0000</td>\n",
       "      <td>world</td>\n",
       "      <td>Trump administration releases MLK Jr.'s FBI re...</td>\n",
       "      <td>https://www.cbc.ca/news/world/trump-releases-f...</td>\n",
       "    </tr>\n",
       "    <tr>\n",
       "      <th>3</th>\n",
       "      <td>11</td>\n",
       "      <td>2025-07-21-19-57-20 +0000</td>\n",
       "      <td>world</td>\n",
       "      <td>Father of Montreal girl who was found dead in ...</td>\n",
       "      <td>https://www.cbc.ca/news/canada/montreal/missin...</td>\n",
       "    </tr>\n",
       "    <tr>\n",
       "      <th>5</th>\n",
       "      <td>9</td>\n",
       "      <td>2025-07-21-12-18-11 +0000</td>\n",
       "      <td>world</td>\n",
       "      <td>At least 19 killed after Bangladesh air force ...</td>\n",
       "      <td>https://www.cbc.ca/news/world/bangladesh-air-f...</td>\n",
       "    </tr>\n",
       "    <tr>\n",
       "      <th>1</th>\n",
       "      <td>8</td>\n",
       "      <td>2025-07-21-22-58-25 +0000</td>\n",
       "      <td>world</td>\n",
       "      <td>Ex-police officer sentenced to 33 months for v...</td>\n",
       "      <td>https://www.cbc.ca/news/world/breonna-taylor-h...</td>\n",
       "    </tr>\n",
       "    <tr>\n",
       "      <th>4</th>\n",
       "      <td>8</td>\n",
       "      <td>2025-07-21-18-40-07 +0000</td>\n",
       "      <td>world</td>\n",
       "      <td>The Cosby Show star Malcolm-Jamal Warner dead ...</td>\n",
       "      <td>https://www.cbc.ca/news/entertainment/malcolm-...</td>\n",
       "    </tr>\n",
       "    <tr>\n",
       "      <th>2</th>\n",
       "      <td>7</td>\n",
       "      <td>2025-07-21-21-20-37 +0000</td>\n",
       "      <td>world</td>\n",
       "      <td>Trump is serious about wanting Washington Comm...</td>\n",
       "      <td>https://www.cbc.ca/sports/football/nfl/donald-...</td>\n",
       "    </tr>\n",
       "  </tbody>\n",
       "</table>\n",
       "</div>"
      ],
      "text/plain": [
       "   score                    pubdate source  \\\n",
       "6     12  2025-07-21-11-12-30 +0000  world   \n",
       "7     12  2025-07-21-02-59-47 +0000  world   \n",
       "0     11  2025-07-21-23-53-17 +0000  world   \n",
       "3     11  2025-07-21-19-57-20 +0000  world   \n",
       "5      9  2025-07-21-12-18-11 +0000  world   \n",
       "1      8  2025-07-21-22-58-25 +0000  world   \n",
       "4      8  2025-07-21-18-40-07 +0000  world   \n",
       "2      7  2025-07-21-21-20-37 +0000  world   \n",
       "\n",
       "                                               title  \\\n",
       "6  Japan PM Ishiba vows to stay on after party lo...   \n",
       "7  Police say driver shot, attacked by crowd in L...   \n",
       "0  Trump administration releases MLK Jr.'s FBI re...   \n",
       "3  Father of Montreal girl who was found dead in ...   \n",
       "5  At least 19 killed after Bangladesh air force ...   \n",
       "1  Ex-police officer sentenced to 33 months for v...   \n",
       "4  The Cosby Show star Malcolm-Jamal Warner dead ...   \n",
       "2  Trump is serious about wanting Washington Comm...   \n",
       "\n",
       "                                                link  \n",
       "6  https://www.cbc.ca/news/world/japan-house-elec...  \n",
       "7  https://www.cbc.ca/news/world/fernando-ramirez...  \n",
       "0  https://www.cbc.ca/news/world/trump-releases-f...  \n",
       "3  https://www.cbc.ca/news/canada/montreal/missin...  \n",
       "5  https://www.cbc.ca/news/world/bangladesh-air-f...  \n",
       "1  https://www.cbc.ca/news/world/breonna-taylor-h...  \n",
       "4  https://www.cbc.ca/news/entertainment/malcolm-...  \n",
       "2  https://www.cbc.ca/sports/football/nfl/donald-...  "
      ]
     },
     "execution_count": 5,
     "metadata": {},
     "output_type": "execute_result"
    }
   ],
   "source": [
    "top_rows = []\n",
    "working = word_scores.copy()\n",
    "remaining = latest.copy()\n",
    "for _ in range(10):\n",
    "    ranked_loop = remaining.assign(score=remaining['title'].apply(\n",
    "        lambda t: sum(working.get(w.lower(), 0)\n",
    "                      for w in re.findall(r'[A-Za-z]+', t)\n",
    "                      if len(w) > 1)\n",
    "    )).sort_values('score', ascending=False)\n",
    "    if ranked_loop.empty:\n",
    "        break\n",
    "    top_story = ranked_loop.iloc[0]\n",
    "    top_rows.append(top_story[['score','pubdate','source','title','link']])\n",
    "    words = set(re.findall(r'[A-Za-z]+', top_story['title'].lower()))\n",
    "    for w in words:\n",
    "        working.pop(w, None)\n",
    "    remaining = remaining.drop(top_story.name)\n",
    "top_df = pd.DataFrame(top_rows)\n",
    "top_df.to_csv('top.csv', index=False)\n",
    "top_df.to_csv(archive / f'top-{timestamp}.csv', index=False)\n",
    "top_df\n"
   ]
  },
  {
   "cell_type": "markdown",
   "id": "1a1d932c",
   "metadata": {},
   "source": [
    "## Create JSON version of top headlines"
   ]
  },
  {
   "cell_type": "code",
   "execution_count": 6,
   "id": "1114b600",
   "metadata": {
    "execution": {
     "iopub.execute_input": "2025-07-22T01:17:19.985393Z",
     "iopub.status.busy": "2025-07-22T01:17:19.985208Z",
     "iopub.status.idle": "2025-07-22T01:17:19.989286Z",
     "shell.execute_reply": "2025-07-22T01:17:19.988839Z"
    }
   },
   "outputs": [],
   "source": [
    "import pandas as pd\n",
    "pd.read_csv('top.csv').to_json('top.json', orient='records', indent=2)\n"
   ]
  },
  {
   "cell_type": "code",
   "execution_count": null,
   "id": "a78c0c88-10ab-4da5-ae0a-872fe6b83585",
   "metadata": {},
   "outputs": [],
   "source": []
  }
 ],
 "metadata": {
  "kernelspec": {
   "display_name": "Python 3",
   "language": "python",
   "name": "python3"
  },
  "language_info": {
   "codemirror_mode": {
    "name": "ipython",
    "version": 3
   },
   "file_extension": ".py",
   "mimetype": "text/x-python",
   "name": "python",
   "nbconvert_exporter": "python",
   "pygments_lexer": "ipython3",
   "version": "3.13.5"
  }
 },
 "nbformat": 4,
 "nbformat_minor": 5
}
