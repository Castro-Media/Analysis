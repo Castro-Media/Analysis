{
 "cells": [
  {
   "cell_type": "markdown",
   "id": "f89ea7b0",
   "metadata": {},
   "source": [
    "## Load latest headlines"
   ]
  },
  {
   "cell_type": "code",
   "execution_count": 1,
   "id": "985031ce",
   "metadata": {
    "execution": {
     "iopub.execute_input": "2025-07-23T04:09:42.454650Z",
     "iopub.status.busy": "2025-07-23T04:09:42.454359Z",
     "iopub.status.idle": "2025-07-23T04:09:42.693534Z",
     "shell.execute_reply": "2025-07-23T04:09:42.692923Z"
    }
   },
   "outputs": [
    {
     "name": "stdout",
     "output_type": "stream",
     "text": [
      "All dependencies ready.\n",
      "\n"
     ]
    }
   ],
   "source": [
    "# ========== Bootstrap: ensure required Python packages are present =========\n",
    "import importlib, subprocess, sys\n",
    "from typing import Optional\n",
    "\n",
    "def _ensure(pkg_name: str, import_name: Optional[str] = None):\n",
    "    try:\n",
    "        importlib.import_module(import_name or pkg_name)\n",
    "    except ModuleNotFoundError:\n",
    "        subprocess.check_call([sys.executable, '-m', 'pip', 'install', pkg_name])\n",
    "    finally:\n",
    "        globals()[import_name or pkg_name] = importlib.import_module(import_name or pkg_name)\n",
    "\n",
    "_ensure('pandas')\n",
    "print('All dependencies ready.\\n')\n"
   ]
  },
  {
   "cell_type": "code",
   "execution_count": 2,
   "id": "7c58a61b",
   "metadata": {
    "execution": {
     "iopub.execute_input": "2025-07-23T04:09:42.695671Z",
     "iopub.status.busy": "2025-07-23T04:09:42.695382Z",
     "iopub.status.idle": "2025-07-23T04:09:42.708602Z",
     "shell.execute_reply": "2025-07-23T04:09:42.707982Z"
    },
    "tags": []
   },
   "outputs": [
    {
     "data": {
      "text/html": [
       "<div>\n",
       "<style scoped>\n",
       "    .dataframe tbody tr th:only-of-type {\n",
       "        vertical-align: middle;\n",
       "    }\n",
       "\n",
       "    .dataframe tbody tr th {\n",
       "        vertical-align: top;\n",
       "    }\n",
       "\n",
       "    .dataframe thead th {\n",
       "        text-align: right;\n",
       "    }\n",
       "</style>\n",
       "<table border=\"1\" class=\"dataframe\">\n",
       "  <thead>\n",
       "    <tr style=\"text-align: right;\">\n",
       "      <th></th>\n",
       "      <th>pubdate</th>\n",
       "      <th>source</th>\n",
       "      <th>title</th>\n",
       "      <th>link</th>\n",
       "    </tr>\n",
       "  </thead>\n",
       "  <tbody>\n",
       "    <tr>\n",
       "      <th>0</th>\n",
       "      <td>2025-07-23-02-37-38 +0000</td>\n",
       "      <td>world</td>\n",
       "      <td>Trump announces trade deal with Japan that wou...</td>\n",
       "      <td>https://www.cbc.ca/news/world/trump-japan-trad...</td>\n",
       "    </tr>\n",
       "    <tr>\n",
       "      <th>1</th>\n",
       "      <td>2025-07-22-22-50-27 +0000</td>\n",
       "      <td>world</td>\n",
       "      <td>South Australia algal bloom a 'natural disaste...</td>\n",
       "      <td>https://www.cbc.ca/news/climate/south-australi...</td>\n",
       "    </tr>\n",
       "    <tr>\n",
       "      <th>2</th>\n",
       "      <td>2025-07-22-21-22-45 +0000</td>\n",
       "      <td>world</td>\n",
       "      <td>Green energy has passed 'positive tipping poin...</td>\n",
       "      <td>https://www.cbc.ca/news/climate/green-energy-r...</td>\n",
       "    </tr>\n",
       "    <tr>\n",
       "      <th>3</th>\n",
       "      <td>2025-07-22-19-49-19 +0000</td>\n",
       "      <td>world</td>\n",
       "      <td>'Go f--k yourself!': What Stephen Colbert and ...</td>\n",
       "      <td>https://www.cbc.ca/news/entertainment/colbert-...</td>\n",
       "    </tr>\n",
       "    <tr>\n",
       "      <th>4</th>\n",
       "      <td>2025-07-22-18-56-32 +0000</td>\n",
       "      <td>world</td>\n",
       "      <td>Ozzy Osbourne, godfather of heavy metal who fo...</td>\n",
       "      <td>https://www.cbc.ca/news/entertainment/ozzy-osb...</td>\n",
       "    </tr>\n",
       "  </tbody>\n",
       "</table>\n",
       "</div>"
      ],
      "text/plain": [
       "                     pubdate source  \\\n",
       "0  2025-07-23-02-37-38 +0000  world   \n",
       "1  2025-07-22-22-50-27 +0000  world   \n",
       "2  2025-07-22-21-22-45 +0000  world   \n",
       "3  2025-07-22-19-49-19 +0000  world   \n",
       "4  2025-07-22-18-56-32 +0000  world   \n",
       "\n",
       "                                               title  \\\n",
       "0  Trump announces trade deal with Japan that wou...   \n",
       "1  South Australia algal bloom a 'natural disaste...   \n",
       "2  Green energy has passed 'positive tipping poin...   \n",
       "3  'Go f--k yourself!': What Stephen Colbert and ...   \n",
       "4  Ozzy Osbourne, godfather of heavy metal who fo...   \n",
       "\n",
       "                                                link  \n",
       "0  https://www.cbc.ca/news/world/trump-japan-trad...  \n",
       "1  https://www.cbc.ca/news/climate/south-australi...  \n",
       "2  https://www.cbc.ca/news/climate/green-energy-r...  \n",
       "3  https://www.cbc.ca/news/entertainment/colbert-...  \n",
       "4  https://www.cbc.ca/news/entertainment/ozzy-osb...  "
      ]
     },
     "execution_count": 2,
     "metadata": {},
     "output_type": "execute_result"
    }
   ],
   "source": [
    "from pathlib import Path\n",
    "archive = Path('archive')\n",
    "archive.mkdir(exist_ok=True)\n",
    "import pandas as pd\n",
    "latest = pd.read_csv('../headlines/latest.csv')\n",
    "latest.head()"
   ]
  },
  {
   "cell_type": "markdown",
   "id": "833c1224",
   "metadata": {},
   "source": [
    "## Calculate word frequencies"
   ]
  },
  {
   "cell_type": "code",
   "execution_count": 3,
   "id": "a7188e2c",
   "metadata": {
    "execution": {
     "iopub.execute_input": "2025-07-23T04:09:42.710537Z",
     "iopub.status.busy": "2025-07-23T04:09:42.710347Z",
     "iopub.status.idle": "2025-07-23T04:09:42.722843Z",
     "shell.execute_reply": "2025-07-23T04:09:42.722293Z"
    },
    "tags": []
   },
   "outputs": [
    {
     "name": "stderr",
     "output_type": "stream",
     "text": [
      "/tmp/ipykernel_2385/2220774760.py:15: DeprecationWarning: datetime.datetime.utcnow() is deprecated and scheduled for removal in a future version. Use timezone-aware objects to represent datetimes in UTC: datetime.datetime.now(datetime.UTC).\n",
      "  timestamp = datetime.utcnow().strftime('%Y-%m-%d-%H-00-00')\n"
     ]
    },
    {
     "data": {
      "text/html": [
       "<div>\n",
       "<style scoped>\n",
       "    .dataframe tbody tr th:only-of-type {\n",
       "        vertical-align: middle;\n",
       "    }\n",
       "\n",
       "    .dataframe tbody tr th {\n",
       "        vertical-align: top;\n",
       "    }\n",
       "\n",
       "    .dataframe thead th {\n",
       "        text-align: right;\n",
       "    }\n",
       "</style>\n",
       "<table border=\"1\" class=\"dataframe\">\n",
       "  <thead>\n",
       "    <tr style=\"text-align: right;\">\n",
       "      <th></th>\n",
       "      <th>word</th>\n",
       "      <th>score</th>\n",
       "    </tr>\n",
       "  </thead>\n",
       "  <tbody>\n",
       "    <tr>\n",
       "      <th>10</th>\n",
       "      <td>south</td>\n",
       "      <td>2</td>\n",
       "    </tr>\n",
       "    <tr>\n",
       "      <th>35</th>\n",
       "      <td>late</td>\n",
       "      <td>2</td>\n",
       "    </tr>\n",
       "    <tr>\n",
       "      <th>59</th>\n",
       "      <td>crash</td>\n",
       "      <td>2</td>\n",
       "    </tr>\n",
       "    <tr>\n",
       "      <th>1</th>\n",
       "      <td>announces</td>\n",
       "      <td>1</td>\n",
       "    </tr>\n",
       "    <tr>\n",
       "      <th>0</th>\n",
       "      <td>trump</td>\n",
       "      <td>1</td>\n",
       "    </tr>\n",
       "  </tbody>\n",
       "</table>\n",
       "</div>"
      ],
      "text/plain": [
       "         word  score\n",
       "10      south      2\n",
       "35       late      2\n",
       "59      crash      2\n",
       "1   announces      1\n",
       "0       trump      1"
      ]
     },
     "execution_count": 3,
     "metadata": {},
     "output_type": "execute_result"
    }
   ],
   "source": [
    "import re\n",
    "from collections import Counter\n",
    "from datetime import datetime\n",
    "\n",
    "with open('exclude.txt') as f:\n",
    "    stop_words = set(w.strip() for w in f if w.strip())\n",
    "words = re.findall(r'[A-Za-z]+', ' '.join(latest['title']).lower())\n",
    "filtered = [w for w in words if w not in stop_words and len(w) > 1]\n",
    "counts = Counter(filtered)\n",
    "score_df = (\n",
    "    pd.DataFrame(counts.items(), columns=['word','score'])\n",
    "    .sort_values('score', ascending=False)\n",
    ")\n",
    "score_df[['score','word']].to_csv('scores.csv', index=False)\n",
    "timestamp = datetime.utcnow().strftime('%Y-%m-%d-%H-00-00')\n",
    "score_df[['score','word']].to_csv(archive / f'scores-{timestamp}.csv', index=False)\n",
    "score_df.head()\n"
   ]
  },
  {
   "cell_type": "markdown",
   "id": "c5e8edb2",
   "metadata": {},
   "source": [
    "## Rank headlines by score"
   ]
  },
  {
   "cell_type": "code",
   "execution_count": 4,
   "id": "693d409d",
   "metadata": {
    "execution": {
     "iopub.execute_input": "2025-07-23T04:09:42.724761Z",
     "iopub.status.busy": "2025-07-23T04:09:42.724537Z",
     "iopub.status.idle": "2025-07-23T04:09:42.735987Z",
     "shell.execute_reply": "2025-07-23T04:09:42.735388Z"
    },
    "tags": []
   },
   "outputs": [
    {
     "data": {
      "text/html": [
       "<div>\n",
       "<style scoped>\n",
       "    .dataframe tbody tr th:only-of-type {\n",
       "        vertical-align: middle;\n",
       "    }\n",
       "\n",
       "    .dataframe tbody tr th {\n",
       "        vertical-align: top;\n",
       "    }\n",
       "\n",
       "    .dataframe thead th {\n",
       "        text-align: right;\n",
       "    }\n",
       "</style>\n",
       "<table border=\"1\" class=\"dataframe\">\n",
       "  <thead>\n",
       "    <tr style=\"text-align: right;\">\n",
       "      <th></th>\n",
       "      <th>pubdate</th>\n",
       "      <th>source</th>\n",
       "      <th>title</th>\n",
       "      <th>link</th>\n",
       "      <th>score</th>\n",
       "    </tr>\n",
       "  </thead>\n",
       "  <tbody>\n",
       "    <tr>\n",
       "      <th>3</th>\n",
       "      <td>2025-07-22-19-49-19 +0000</td>\n",
       "      <td>world</td>\n",
       "      <td>'Go f--k yourself!': What Stephen Colbert and ...</td>\n",
       "      <td>https://www.cbc.ca/news/entertainment/colbert-...</td>\n",
       "      <td>14</td>\n",
       "    </tr>\n",
       "    <tr>\n",
       "      <th>5</th>\n",
       "      <td>2025-07-22-18-14-33 +0000</td>\n",
       "      <td>world</td>\n",
       "      <td>South Korean pilot may have shut off less-dama...</td>\n",
       "      <td>https://www.cbc.ca/news/world/south-korea-angr...</td>\n",
       "      <td>13</td>\n",
       "    </tr>\n",
       "    <tr>\n",
       "      <th>1</th>\n",
       "      <td>2025-07-22-22-50-27 +0000</td>\n",
       "      <td>world</td>\n",
       "      <td>South Australia algal bloom a 'natural disaste...</td>\n",
       "      <td>https://www.cbc.ca/news/climate/south-australi...</td>\n",
       "      <td>11</td>\n",
       "    </tr>\n",
       "    <tr>\n",
       "      <th>2</th>\n",
       "      <td>2025-07-22-21-22-45 +0000</td>\n",
       "      <td>world</td>\n",
       "      <td>Green energy has passed 'positive tipping poin...</td>\n",
       "      <td>https://www.cbc.ca/news/climate/green-energy-r...</td>\n",
       "      <td>10</td>\n",
       "    </tr>\n",
       "    <tr>\n",
       "      <th>0</th>\n",
       "      <td>2025-07-23-02-37-38 +0000</td>\n",
       "      <td>world</td>\n",
       "      <td>Trump announces trade deal with Japan that wou...</td>\n",
       "      <td>https://www.cbc.ca/news/world/trump-japan-trad...</td>\n",
       "      <td>10</td>\n",
       "    </tr>\n",
       "  </tbody>\n",
       "</table>\n",
       "</div>"
      ],
      "text/plain": [
       "                     pubdate source  \\\n",
       "3  2025-07-22-19-49-19 +0000  world   \n",
       "5  2025-07-22-18-14-33 +0000  world   \n",
       "1  2025-07-22-22-50-27 +0000  world   \n",
       "2  2025-07-22-21-22-45 +0000  world   \n",
       "0  2025-07-23-02-37-38 +0000  world   \n",
       "\n",
       "                                               title  \\\n",
       "3  'Go f--k yourself!': What Stephen Colbert and ...   \n",
       "5  South Korean pilot may have shut off less-dama...   \n",
       "1  South Australia algal bloom a 'natural disaste...   \n",
       "2  Green energy has passed 'positive tipping poin...   \n",
       "0  Trump announces trade deal with Japan that wou...   \n",
       "\n",
       "                                                link  score  \n",
       "3  https://www.cbc.ca/news/entertainment/colbert-...     14  \n",
       "5  https://www.cbc.ca/news/world/south-korea-angr...     13  \n",
       "1  https://www.cbc.ca/news/climate/south-australi...     11  \n",
       "2  https://www.cbc.ca/news/climate/green-energy-r...     10  \n",
       "0  https://www.cbc.ca/news/world/trump-japan-trad...     10  "
      ]
     },
     "execution_count": 4,
     "metadata": {},
     "output_type": "execute_result"
    }
   ],
   "source": [
    "word_scores = dict(score_df[['word','score']].values)\n",
    "latest['score'] = latest['title'].apply(\n",
    "    lambda t: sum(\n",
    "        word_scores.get(w.lower(), 0)\n",
    "        for w in re.findall(r'[A-Za-z]+', t)\n",
    "        if len(w) > 1\n",
    "    )\n",
    ")\n",
    "ranked = latest.sort_values('score', ascending=False)\n",
    "ranked[['score','pubdate','source','title','link']].to_csv('rank.csv', index=False)\n",
    "ranked[['score','pubdate','source','title','link']].to_csv(archive / f'rank-{timestamp}.csv', index=False)\n",
    "ranked.head()\n"
   ]
  },
  {
   "cell_type": "markdown",
   "id": "3227bcb4",
   "metadata": {},
   "source": [
    "## Select top headlines"
   ]
  },
  {
   "cell_type": "code",
   "execution_count": 5,
   "id": "5a503efd",
   "metadata": {
    "execution": {
     "iopub.execute_input": "2025-07-23T04:09:42.737791Z",
     "iopub.status.busy": "2025-07-23T04:09:42.737603Z",
     "iopub.status.idle": "2025-07-23T04:09:42.757234Z",
     "shell.execute_reply": "2025-07-23T04:09:42.756744Z"
    },
    "tags": []
   },
   "outputs": [
    {
     "data": {
      "text/html": [
       "<div>\n",
       "<style scoped>\n",
       "    .dataframe tbody tr th:only-of-type {\n",
       "        vertical-align: middle;\n",
       "    }\n",
       "\n",
       "    .dataframe tbody tr th {\n",
       "        vertical-align: top;\n",
       "    }\n",
       "\n",
       "    .dataframe thead th {\n",
       "        text-align: right;\n",
       "    }\n",
       "</style>\n",
       "<table border=\"1\" class=\"dataframe\">\n",
       "  <thead>\n",
       "    <tr style=\"text-align: right;\">\n",
       "      <th></th>\n",
       "      <th>score</th>\n",
       "      <th>pubdate</th>\n",
       "      <th>source</th>\n",
       "      <th>title</th>\n",
       "      <th>link</th>\n",
       "    </tr>\n",
       "  </thead>\n",
       "  <tbody>\n",
       "    <tr>\n",
       "      <th>3</th>\n",
       "      <td>14</td>\n",
       "      <td>2025-07-22-19-49-19 +0000</td>\n",
       "      <td>world</td>\n",
       "      <td>'Go f--k yourself!': What Stephen Colbert and ...</td>\n",
       "      <td>https://www.cbc.ca/news/entertainment/colbert-...</td>\n",
       "    </tr>\n",
       "    <tr>\n",
       "      <th>5</th>\n",
       "      <td>13</td>\n",
       "      <td>2025-07-22-18-14-33 +0000</td>\n",
       "      <td>world</td>\n",
       "      <td>South Korean pilot may have shut off less-dama...</td>\n",
       "      <td>https://www.cbc.ca/news/world/south-korea-angr...</td>\n",
       "    </tr>\n",
       "    <tr>\n",
       "      <th>0</th>\n",
       "      <td>10</td>\n",
       "      <td>2025-07-23-02-37-38 +0000</td>\n",
       "      <td>world</td>\n",
       "      <td>Trump announces trade deal with Japan that wou...</td>\n",
       "      <td>https://www.cbc.ca/news/world/trump-japan-trad...</td>\n",
       "    </tr>\n",
       "    <tr>\n",
       "      <th>2</th>\n",
       "      <td>10</td>\n",
       "      <td>2025-07-22-21-22-45 +0000</td>\n",
       "      <td>world</td>\n",
       "      <td>Green energy has passed 'positive tipping poin...</td>\n",
       "      <td>https://www.cbc.ca/news/climate/green-energy-r...</td>\n",
       "    </tr>\n",
       "    <tr>\n",
       "      <th>4</th>\n",
       "      <td>10</td>\n",
       "      <td>2025-07-22-18-56-32 +0000</td>\n",
       "      <td>world</td>\n",
       "      <td>Ozzy Osbourne, godfather of heavy metal who fo...</td>\n",
       "      <td>https://www.cbc.ca/news/entertainment/ozzy-osb...</td>\n",
       "    </tr>\n",
       "    <tr>\n",
       "      <th>1</th>\n",
       "      <td>9</td>\n",
       "      <td>2025-07-22-22-50-27 +0000</td>\n",
       "      <td>world</td>\n",
       "      <td>South Australia algal bloom a 'natural disaste...</td>\n",
       "      <td>https://www.cbc.ca/news/climate/south-australi...</td>\n",
       "    </tr>\n",
       "    <tr>\n",
       "      <th>6</th>\n",
       "      <td>8</td>\n",
       "      <td>2025-07-22-10-09-26 +0000</td>\n",
       "      <td>world</td>\n",
       "      <td>Angry students confront Bangladesh officials a...</td>\n",
       "      <td>https://www.cbc.ca/news/world/bangladesh-air-f...</td>\n",
       "    </tr>\n",
       "  </tbody>\n",
       "</table>\n",
       "</div>"
      ],
      "text/plain": [
       "   score                    pubdate source  \\\n",
       "3     14  2025-07-22-19-49-19 +0000  world   \n",
       "5     13  2025-07-22-18-14-33 +0000  world   \n",
       "0     10  2025-07-23-02-37-38 +0000  world   \n",
       "2     10  2025-07-22-21-22-45 +0000  world   \n",
       "4     10  2025-07-22-18-56-32 +0000  world   \n",
       "1      9  2025-07-22-22-50-27 +0000  world   \n",
       "6      8  2025-07-22-10-09-26 +0000  world   \n",
       "\n",
       "                                               title  \\\n",
       "3  'Go f--k yourself!': What Stephen Colbert and ...   \n",
       "5  South Korean pilot may have shut off less-dama...   \n",
       "0  Trump announces trade deal with Japan that wou...   \n",
       "2  Green energy has passed 'positive tipping poin...   \n",
       "4  Ozzy Osbourne, godfather of heavy metal who fo...   \n",
       "1  South Australia algal bloom a 'natural disaste...   \n",
       "6  Angry students confront Bangladesh officials a...   \n",
       "\n",
       "                                                link  \n",
       "3  https://www.cbc.ca/news/entertainment/colbert-...  \n",
       "5  https://www.cbc.ca/news/world/south-korea-angr...  \n",
       "0  https://www.cbc.ca/news/world/trump-japan-trad...  \n",
       "2  https://www.cbc.ca/news/climate/green-energy-r...  \n",
       "4  https://www.cbc.ca/news/entertainment/ozzy-osb...  \n",
       "1  https://www.cbc.ca/news/climate/south-australi...  \n",
       "6  https://www.cbc.ca/news/world/bangladesh-air-f...  "
      ]
     },
     "execution_count": 5,
     "metadata": {},
     "output_type": "execute_result"
    }
   ],
   "source": [
    "top_rows = []\n",
    "working = word_scores.copy()\n",
    "remaining = latest.copy()\n",
    "for _ in range(10):\n",
    "    ranked_loop = remaining.assign(score=remaining['title'].apply(\n",
    "        lambda t: sum(working.get(w.lower(), 0)\n",
    "                      for w in re.findall(r'[A-Za-z]+', t)\n",
    "                      if len(w) > 1)\n",
    "    )).sort_values('score', ascending=False)\n",
    "    if ranked_loop.empty:\n",
    "        break\n",
    "    top_story = ranked_loop.iloc[0]\n",
    "    top_rows.append(top_story[['score','pubdate','source','title','link']])\n",
    "    words = set(re.findall(r'[A-Za-z]+', top_story['title'].lower()))\n",
    "    for w in words:\n",
    "        working.pop(w, None)\n",
    "    remaining = remaining.drop(top_story.name)\n",
    "top_df = pd.DataFrame(top_rows)\n",
    "top_df.to_csv('top.csv', index=False)\n",
    "top_df.to_csv(archive / f'top-{timestamp}.csv', index=False)\n",
    "top_df\n"
   ]
  },
  {
   "cell_type": "markdown",
   "id": "1a1d932c",
   "metadata": {},
   "source": [
    "## Create JSON version of top headlines"
   ]
  },
  {
   "cell_type": "code",
   "execution_count": 6,
   "id": "1114b600",
   "metadata": {
    "execution": {
     "iopub.execute_input": "2025-07-23T04:09:42.759043Z",
     "iopub.status.busy": "2025-07-23T04:09:42.758847Z",
     "iopub.status.idle": "2025-07-23T04:09:42.763236Z",
     "shell.execute_reply": "2025-07-23T04:09:42.762780Z"
    }
   },
   "outputs": [],
   "source": [
    "import pandas as pd\n",
    "pd.read_csv('top.csv').to_json('top.json', orient='records', indent=2)\n"
   ]
  },
  {
   "cell_type": "code",
   "execution_count": null,
   "id": "a78c0c88-10ab-4da5-ae0a-872fe6b83585",
   "metadata": {},
   "outputs": [],
   "source": []
  }
 ],
 "metadata": {
  "kernelspec": {
   "display_name": "Python 3",
   "language": "python",
   "name": "python3"
  },
  "language_info": {
   "codemirror_mode": {
    "name": "ipython",
    "version": 3
   },
   "file_extension": ".py",
   "mimetype": "text/x-python",
   "name": "python",
   "nbconvert_exporter": "python",
   "pygments_lexer": "ipython3",
   "version": "3.13.5"
  }
 },
 "nbformat": 4,
 "nbformat_minor": 5
}
