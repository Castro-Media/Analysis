{
 "cells": [
  {
   "cell_type": "markdown",
   "id": "f89ea7b0",
   "metadata": {},
   "source": [
    "## Load latest headlines"
   ]
  },
  {
   "cell_type": "code",
   "execution_count": 1,
   "id": "985031ce",
   "metadata": {
    "execution": {
     "iopub.execute_input": "2025-07-20T02:40:01.820571Z",
     "iopub.status.busy": "2025-07-20T02:40:01.820388Z",
     "iopub.status.idle": "2025-07-20T02:40:02.065899Z",
     "shell.execute_reply": "2025-07-20T02:40:02.065359Z"
    }
   },
   "outputs": [
    {
     "name": "stdout",
     "output_type": "stream",
     "text": [
      "All dependencies ready.\n",
      "\n"
     ]
    }
   ],
   "source": [
    "# ========== Bootstrap: ensure required Python packages are present =========\n",
    "import importlib, subprocess, sys\n",
    "from typing import Optional\n",
    "\n",
    "def _ensure(pkg_name: str, import_name: Optional[str] = None):\n",
    "    try:\n",
    "        importlib.import_module(import_name or pkg_name)\n",
    "    except ModuleNotFoundError:\n",
    "        subprocess.check_call([sys.executable, '-m', 'pip', 'install', pkg_name])\n",
    "    finally:\n",
    "        globals()[import_name or pkg_name] = importlib.import_module(import_name or pkg_name)\n",
    "\n",
    "_ensure('pandas')\n",
    "print('All dependencies ready.\\n')\n"
   ]
  },
  {
   "cell_type": "code",
   "execution_count": 2,
   "id": "7c58a61b",
   "metadata": {
    "execution": {
     "iopub.execute_input": "2025-07-20T02:40:02.067985Z",
     "iopub.status.busy": "2025-07-20T02:40:02.067710Z",
     "iopub.status.idle": "2025-07-20T02:40:02.080723Z",
     "shell.execute_reply": "2025-07-20T02:40:02.080105Z"
    },
    "tags": []
   },
   "outputs": [
    {
     "data": {
      "text/html": [
       "<div>\n",
       "<style scoped>\n",
       "    .dataframe tbody tr th:only-of-type {\n",
       "        vertical-align: middle;\n",
       "    }\n",
       "\n",
       "    .dataframe tbody tr th {\n",
       "        vertical-align: top;\n",
       "    }\n",
       "\n",
       "    .dataframe thead th {\n",
       "        text-align: right;\n",
       "    }\n",
       "</style>\n",
       "<table border=\"1\" class=\"dataframe\">\n",
       "  <thead>\n",
       "    <tr style=\"text-align: right;\">\n",
       "      <th></th>\n",
       "      <th>pubdate</th>\n",
       "      <th>source</th>\n",
       "      <th>title</th>\n",
       "      <th>link</th>\n",
       "    </tr>\n",
       "  </thead>\n",
       "  <tbody>\n",
       "    <tr>\n",
       "      <th>0</th>\n",
       "      <td>2025-07-19-19-02-43 +0000</td>\n",
       "      <td>world</td>\n",
       "      <td>Canadian woman dies after falling ill at Belgi...</td>\n",
       "      <td>https://www.cbc.ca/news/world/tomorrowland-dea...</td>\n",
       "    </tr>\n",
       "    <tr>\n",
       "      <th>1</th>\n",
       "      <td>2025-07-19-18-54-55 +0000</td>\n",
       "      <td>world</td>\n",
       "      <td>Israeli troops fatally shoot 32 Palestinians t...</td>\n",
       "      <td>https://www.cbc.ca/news/world/aid-site-shootin...</td>\n",
       "    </tr>\n",
       "    <tr>\n",
       "      <th>2</th>\n",
       "      <td>2025-07-19-17-13-12 +0000</td>\n",
       "      <td>world</td>\n",
       "      <td>Tour boat in Vietnam capsizes during storm, ki...</td>\n",
       "      <td>https://www.cbc.ca/news/world/vietnam-tour-boa...</td>\n",
       "    </tr>\n",
       "    <tr>\n",
       "      <th>3</th>\n",
       "      <td>2025-07-19-14-38-28 +0000</td>\n",
       "      <td>world</td>\n",
       "      <td>Congo, M23 rebels pledge to reach peace deal n...</td>\n",
       "      <td>https://www.cbc.ca/news/world/congo-m23-rebels...</td>\n",
       "    </tr>\n",
       "    <tr>\n",
       "      <th>4</th>\n",
       "      <td>2025-07-19-13-47-44 +0000</td>\n",
       "      <td>world</td>\n",
       "      <td>Vehicle strikes people waiting to enter L.A. n...</td>\n",
       "      <td>https://www.cbc.ca/news/world/los-angeles-car-...</td>\n",
       "    </tr>\n",
       "  </tbody>\n",
       "</table>\n",
       "</div>"
      ],
      "text/plain": [
       "                     pubdate source  \\\n",
       "0  2025-07-19-19-02-43 +0000  world   \n",
       "1  2025-07-19-18-54-55 +0000  world   \n",
       "2  2025-07-19-17-13-12 +0000  world   \n",
       "3  2025-07-19-14-38-28 +0000  world   \n",
       "4  2025-07-19-13-47-44 +0000  world   \n",
       "\n",
       "                                               title  \\\n",
       "0  Canadian woman dies after falling ill at Belgi...   \n",
       "1  Israeli troops fatally shoot 32 Palestinians t...   \n",
       "2  Tour boat in Vietnam capsizes during storm, ki...   \n",
       "3  Congo, M23 rebels pledge to reach peace deal n...   \n",
       "4  Vehicle strikes people waiting to enter L.A. n...   \n",
       "\n",
       "                                                link  \n",
       "0  https://www.cbc.ca/news/world/tomorrowland-dea...  \n",
       "1  https://www.cbc.ca/news/world/aid-site-shootin...  \n",
       "2  https://www.cbc.ca/news/world/vietnam-tour-boa...  \n",
       "3  https://www.cbc.ca/news/world/congo-m23-rebels...  \n",
       "4  https://www.cbc.ca/news/world/los-angeles-car-...  "
      ]
     },
     "execution_count": 2,
     "metadata": {},
     "output_type": "execute_result"
    }
   ],
   "source": [
    "from pathlib import Path\n",
    "archive = Path('archive')\n",
    "archive.mkdir(exist_ok=True)\n",
    "import pandas as pd\n",
    "latest = pd.read_csv('../headlines/latest.csv')\n",
    "latest.head()"
   ]
  },
  {
   "cell_type": "markdown",
   "id": "833c1224",
   "metadata": {},
   "source": [
    "## Calculate word frequencies"
   ]
  },
  {
   "cell_type": "code",
   "execution_count": 3,
   "id": "a7188e2c",
   "metadata": {
    "execution": {
     "iopub.execute_input": "2025-07-20T02:40:02.082927Z",
     "iopub.status.busy": "2025-07-20T02:40:02.082546Z",
     "iopub.status.idle": "2025-07-20T02:40:02.095341Z",
     "shell.execute_reply": "2025-07-20T02:40:02.094726Z"
    },
    "tags": []
   },
   "outputs": [
    {
     "name": "stderr",
     "output_type": "stream",
     "text": [
      "/tmp/ipykernel_2421/2220774760.py:15: DeprecationWarning: datetime.datetime.utcnow() is deprecated and scheduled for removal in a future version. Use timezone-aware objects to represent datetimes in UTC: datetime.datetime.now(datetime.UTC).\n",
      "  timestamp = datetime.utcnow().strftime('%Y-%m-%d-%H-00-00')\n"
     ]
    },
    {
     "data": {
      "text/html": [
       "<div>\n",
       "<style scoped>\n",
       "    .dataframe tbody tr th:only-of-type {\n",
       "        vertical-align: middle;\n",
       "    }\n",
       "\n",
       "    .dataframe tbody tr th {\n",
       "        vertical-align: top;\n",
       "    }\n",
       "\n",
       "    .dataframe thead th {\n",
       "        text-align: right;\n",
       "    }\n",
       "</style>\n",
       "<table border=\"1\" class=\"dataframe\">\n",
       "  <thead>\n",
       "    <tr style=\"text-align: right;\">\n",
       "      <th></th>\n",
       "      <th>word</th>\n",
       "      <th>score</th>\n",
       "    </tr>\n",
       "  </thead>\n",
       "  <tbody>\n",
       "    <tr>\n",
       "      <th>15</th>\n",
       "      <td>reach</td>\n",
       "      <td>2</td>\n",
       "    </tr>\n",
       "    <tr>\n",
       "      <th>0</th>\n",
       "      <td>canadian</td>\n",
       "      <td>1</td>\n",
       "    </tr>\n",
       "    <tr>\n",
       "      <th>2</th>\n",
       "      <td>dies</td>\n",
       "      <td>1</td>\n",
       "    </tr>\n",
       "    <tr>\n",
       "      <th>1</th>\n",
       "      <td>woman</td>\n",
       "      <td>1</td>\n",
       "    </tr>\n",
       "    <tr>\n",
       "      <th>4</th>\n",
       "      <td>ill</td>\n",
       "      <td>1</td>\n",
       "    </tr>\n",
       "  </tbody>\n",
       "</table>\n",
       "</div>"
      ],
      "text/plain": [
       "        word  score\n",
       "15     reach      2\n",
       "0   canadian      1\n",
       "2       dies      1\n",
       "1      woman      1\n",
       "4        ill      1"
      ]
     },
     "execution_count": 3,
     "metadata": {},
     "output_type": "execute_result"
    }
   ],
   "source": [
    "import re\n",
    "from collections import Counter\n",
    "from datetime import datetime\n",
    "\n",
    "with open('exclude.txt') as f:\n",
    "    stop_words = set(w.strip() for w in f if w.strip())\n",
    "words = re.findall(r'[A-Za-z]+', ' '.join(latest['title']).lower())\n",
    "filtered = [w for w in words if w not in stop_words and len(w) > 1]\n",
    "counts = Counter(filtered)\n",
    "score_df = (\n",
    "    pd.DataFrame(counts.items(), columns=['word','score'])\n",
    "    .sort_values('score', ascending=False)\n",
    ")\n",
    "score_df[['score','word']].to_csv('scores.csv', index=False)\n",
    "timestamp = datetime.utcnow().strftime('%Y-%m-%d-%H-00-00')\n",
    "score_df[['score','word']].to_csv(archive / f'scores-{timestamp}.csv', index=False)\n",
    "score_df.head()\n"
   ]
  },
  {
   "cell_type": "markdown",
   "id": "c5e8edb2",
   "metadata": {},
   "source": [
    "## Rank headlines by score"
   ]
  },
  {
   "cell_type": "code",
   "execution_count": 4,
   "id": "693d409d",
   "metadata": {
    "execution": {
     "iopub.execute_input": "2025-07-20T02:40:02.097630Z",
     "iopub.status.busy": "2025-07-20T02:40:02.097244Z",
     "iopub.status.idle": "2025-07-20T02:40:02.110040Z",
     "shell.execute_reply": "2025-07-20T02:40:02.109495Z"
    },
    "tags": []
   },
   "outputs": [
    {
     "data": {
      "text/html": [
       "<div>\n",
       "<style scoped>\n",
       "    .dataframe tbody tr th:only-of-type {\n",
       "        vertical-align: middle;\n",
       "    }\n",
       "\n",
       "    .dataframe tbody tr th {\n",
       "        vertical-align: top;\n",
       "    }\n",
       "\n",
       "    .dataframe thead th {\n",
       "        text-align: right;\n",
       "    }\n",
       "</style>\n",
       "<table border=\"1\" class=\"dataframe\">\n",
       "  <thead>\n",
       "    <tr style=\"text-align: right;\">\n",
       "      <th></th>\n",
       "      <th>pubdate</th>\n",
       "      <th>source</th>\n",
       "      <th>title</th>\n",
       "      <th>link</th>\n",
       "      <th>score</th>\n",
       "    </tr>\n",
       "  </thead>\n",
       "  <tbody>\n",
       "    <tr>\n",
       "      <th>6</th>\n",
       "      <td>2025-07-19-08-01-13 +0000</td>\n",
       "      <td>world</td>\n",
       "      <td>CEO resigns after being caught cosying up to c...</td>\n",
       "      <td>https://www.cbc.ca/news/coldplay-viral-video-s...</td>\n",
       "      <td>12</td>\n",
       "    </tr>\n",
       "    <tr>\n",
       "      <th>1</th>\n",
       "      <td>2025-07-19-18-54-55 +0000</td>\n",
       "      <td>world</td>\n",
       "      <td>Israeli troops fatally shoot 32 Palestinians t...</td>\n",
       "      <td>https://www.cbc.ca/news/world/aid-site-shootin...</td>\n",
       "      <td>11</td>\n",
       "    </tr>\n",
       "    <tr>\n",
       "      <th>5</th>\n",
       "      <td>2025-07-19-12-35-24 +0000</td>\n",
       "      <td>world</td>\n",
       "      <td>Clashes escalate in Syria's Druze region despi...</td>\n",
       "      <td>https://www.cbc.ca/news/world/syria-ceasefire-...</td>\n",
       "      <td>10</td>\n",
       "    </tr>\n",
       "    <tr>\n",
       "      <th>0</th>\n",
       "      <td>2025-07-19-19-02-43 +0000</td>\n",
       "      <td>world</td>\n",
       "      <td>Canadian woman dies after falling ill at Belgi...</td>\n",
       "      <td>https://www.cbc.ca/news/world/tomorrowland-dea...</td>\n",
       "      <td>9</td>\n",
       "    </tr>\n",
       "    <tr>\n",
       "      <th>3</th>\n",
       "      <td>2025-07-19-14-38-28 +0000</td>\n",
       "      <td>world</td>\n",
       "      <td>Congo, M23 rebels pledge to reach peace deal n...</td>\n",
       "      <td>https://www.cbc.ca/news/world/congo-m23-rebels...</td>\n",
       "      <td>8</td>\n",
       "    </tr>\n",
       "  </tbody>\n",
       "</table>\n",
       "</div>"
      ],
      "text/plain": [
       "                     pubdate source  \\\n",
       "6  2025-07-19-08-01-13 +0000  world   \n",
       "1  2025-07-19-18-54-55 +0000  world   \n",
       "5  2025-07-19-12-35-24 +0000  world   \n",
       "0  2025-07-19-19-02-43 +0000  world   \n",
       "3  2025-07-19-14-38-28 +0000  world   \n",
       "\n",
       "                                               title  \\\n",
       "6  CEO resigns after being caught cosying up to c...   \n",
       "1  Israeli troops fatally shoot 32 Palestinians t...   \n",
       "5  Clashes escalate in Syria's Druze region despi...   \n",
       "0  Canadian woman dies after falling ill at Belgi...   \n",
       "3  Congo, M23 rebels pledge to reach peace deal n...   \n",
       "\n",
       "                                                link  score  \n",
       "6  https://www.cbc.ca/news/coldplay-viral-video-s...     12  \n",
       "1  https://www.cbc.ca/news/world/aid-site-shootin...     11  \n",
       "5  https://www.cbc.ca/news/world/syria-ceasefire-...     10  \n",
       "0  https://www.cbc.ca/news/world/tomorrowland-dea...      9  \n",
       "3  https://www.cbc.ca/news/world/congo-m23-rebels...      8  "
      ]
     },
     "execution_count": 4,
     "metadata": {},
     "output_type": "execute_result"
    }
   ],
   "source": [
    "word_scores = dict(score_df[['word','score']].values)\n",
    "latest['score'] = latest['title'].apply(\n",
    "    lambda t: sum(\n",
    "        word_scores.get(w.lower(), 0)\n",
    "        for w in re.findall(r'[A-Za-z]+', t)\n",
    "        if len(w) > 1\n",
    "    )\n",
    ")\n",
    "ranked = latest.sort_values('score', ascending=False)\n",
    "ranked[['score','pubdate','source','title','link']].to_csv('rank.csv', index=False)\n",
    "ranked[['score','pubdate','source','title','link']].to_csv(archive / f'rank-{timestamp}.csv', index=False)\n",
    "ranked.head()\n"
   ]
  },
  {
   "cell_type": "markdown",
   "id": "3227bcb4",
   "metadata": {},
   "source": [
    "## Select top headlines"
   ]
  },
  {
   "cell_type": "code",
   "execution_count": 5,
   "id": "5a503efd",
   "metadata": {
    "execution": {
     "iopub.execute_input": "2025-07-20T02:40:02.112296Z",
     "iopub.status.busy": "2025-07-20T02:40:02.111905Z",
     "iopub.status.idle": "2025-07-20T02:40:02.131630Z",
     "shell.execute_reply": "2025-07-20T02:40:02.131008Z"
    },
    "tags": []
   },
   "outputs": [
    {
     "data": {
      "text/html": [
       "<div>\n",
       "<style scoped>\n",
       "    .dataframe tbody tr th:only-of-type {\n",
       "        vertical-align: middle;\n",
       "    }\n",
       "\n",
       "    .dataframe tbody tr th {\n",
       "        vertical-align: top;\n",
       "    }\n",
       "\n",
       "    .dataframe thead th {\n",
       "        text-align: right;\n",
       "    }\n",
       "</style>\n",
       "<table border=\"1\" class=\"dataframe\">\n",
       "  <thead>\n",
       "    <tr style=\"text-align: right;\">\n",
       "      <th></th>\n",
       "      <th>score</th>\n",
       "      <th>pubdate</th>\n",
       "      <th>source</th>\n",
       "      <th>title</th>\n",
       "      <th>link</th>\n",
       "    </tr>\n",
       "  </thead>\n",
       "  <tbody>\n",
       "    <tr>\n",
       "      <th>6</th>\n",
       "      <td>12</td>\n",
       "      <td>2025-07-19-08-01-13 +0000</td>\n",
       "      <td>world</td>\n",
       "      <td>CEO resigns after being caught cosying up to c...</td>\n",
       "      <td>https://www.cbc.ca/news/coldplay-viral-video-s...</td>\n",
       "    </tr>\n",
       "    <tr>\n",
       "      <th>1</th>\n",
       "      <td>11</td>\n",
       "      <td>2025-07-19-18-54-55 +0000</td>\n",
       "      <td>world</td>\n",
       "      <td>Israeli troops fatally shoot 32 Palestinians t...</td>\n",
       "      <td>https://www.cbc.ca/news/world/aid-site-shootin...</td>\n",
       "    </tr>\n",
       "    <tr>\n",
       "      <th>5</th>\n",
       "      <td>10</td>\n",
       "      <td>2025-07-19-12-35-24 +0000</td>\n",
       "      <td>world</td>\n",
       "      <td>Clashes escalate in Syria's Druze region despi...</td>\n",
       "      <td>https://www.cbc.ca/news/world/syria-ceasefire-...</td>\n",
       "    </tr>\n",
       "    <tr>\n",
       "      <th>0</th>\n",
       "      <td>9</td>\n",
       "      <td>2025-07-19-19-02-43 +0000</td>\n",
       "      <td>world</td>\n",
       "      <td>Canadian woman dies after falling ill at Belgi...</td>\n",
       "      <td>https://www.cbc.ca/news/world/tomorrowland-dea...</td>\n",
       "    </tr>\n",
       "    <tr>\n",
       "      <th>2</th>\n",
       "      <td>7</td>\n",
       "      <td>2025-07-19-17-13-12 +0000</td>\n",
       "      <td>world</td>\n",
       "      <td>Tour boat in Vietnam capsizes during storm, ki...</td>\n",
       "      <td>https://www.cbc.ca/news/world/vietnam-tour-boa...</td>\n",
       "    </tr>\n",
       "    <tr>\n",
       "      <th>3</th>\n",
       "      <td>6</td>\n",
       "      <td>2025-07-19-14-38-28 +0000</td>\n",
       "      <td>world</td>\n",
       "      <td>Congo, M23 rebels pledge to reach peace deal n...</td>\n",
       "      <td>https://www.cbc.ca/news/world/congo-m23-rebels...</td>\n",
       "    </tr>\n",
       "    <tr>\n",
       "      <th>4</th>\n",
       "      <td>6</td>\n",
       "      <td>2025-07-19-13-47-44 +0000</td>\n",
       "      <td>world</td>\n",
       "      <td>Vehicle strikes people waiting to enter L.A. n...</td>\n",
       "      <td>https://www.cbc.ca/news/world/los-angeles-car-...</td>\n",
       "    </tr>\n",
       "  </tbody>\n",
       "</table>\n",
       "</div>"
      ],
      "text/plain": [
       "   score                    pubdate source  \\\n",
       "6     12  2025-07-19-08-01-13 +0000  world   \n",
       "1     11  2025-07-19-18-54-55 +0000  world   \n",
       "5     10  2025-07-19-12-35-24 +0000  world   \n",
       "0      9  2025-07-19-19-02-43 +0000  world   \n",
       "2      7  2025-07-19-17-13-12 +0000  world   \n",
       "3      6  2025-07-19-14-38-28 +0000  world   \n",
       "4      6  2025-07-19-13-47-44 +0000  world   \n",
       "\n",
       "                                               title  \\\n",
       "6  CEO resigns after being caught cosying up to c...   \n",
       "1  Israeli troops fatally shoot 32 Palestinians t...   \n",
       "5  Clashes escalate in Syria's Druze region despi...   \n",
       "0  Canadian woman dies after falling ill at Belgi...   \n",
       "2  Tour boat in Vietnam capsizes during storm, ki...   \n",
       "3  Congo, M23 rebels pledge to reach peace deal n...   \n",
       "4  Vehicle strikes people waiting to enter L.A. n...   \n",
       "\n",
       "                                                link  \n",
       "6  https://www.cbc.ca/news/coldplay-viral-video-s...  \n",
       "1  https://www.cbc.ca/news/world/aid-site-shootin...  \n",
       "5  https://www.cbc.ca/news/world/syria-ceasefire-...  \n",
       "0  https://www.cbc.ca/news/world/tomorrowland-dea...  \n",
       "2  https://www.cbc.ca/news/world/vietnam-tour-boa...  \n",
       "3  https://www.cbc.ca/news/world/congo-m23-rebels...  \n",
       "4  https://www.cbc.ca/news/world/los-angeles-car-...  "
      ]
     },
     "execution_count": 5,
     "metadata": {},
     "output_type": "execute_result"
    }
   ],
   "source": [
    "top_rows = []\n",
    "working = word_scores.copy()\n",
    "remaining = latest.copy()\n",
    "for _ in range(10):\n",
    "    ranked_loop = remaining.assign(score=remaining['title'].apply(\n",
    "        lambda t: sum(working.get(w.lower(), 0)\n",
    "                      for w in re.findall(r'[A-Za-z]+', t)\n",
    "                      if len(w) > 1)\n",
    "    )).sort_values('score', ascending=False)\n",
    "    if ranked_loop.empty:\n",
    "        break\n",
    "    top_story = ranked_loop.iloc[0]\n",
    "    top_rows.append(top_story[['score','pubdate','source','title','link']])\n",
    "    words = set(re.findall(r'[A-Za-z]+', top_story['title'].lower()))\n",
    "    for w in words:\n",
    "        working.pop(w, None)\n",
    "    remaining = remaining.drop(top_story.name)\n",
    "top_df = pd.DataFrame(top_rows)\n",
    "top_df.to_csv('top.csv', index=False)\n",
    "top_df.to_csv(archive / f'top-{timestamp}.csv', index=False)\n",
    "top_df\n"
   ]
  },
  {
   "cell_type": "markdown",
   "id": "1a1d932c",
   "metadata": {},
   "source": [
    "## Create JSON version of top headlines"
   ]
  },
  {
   "cell_type": "code",
   "execution_count": 6,
   "id": "1114b600",
   "metadata": {
    "execution": {
     "iopub.execute_input": "2025-07-20T02:40:02.133580Z",
     "iopub.status.busy": "2025-07-20T02:40:02.133380Z",
     "iopub.status.idle": "2025-07-20T02:40:02.138482Z",
     "shell.execute_reply": "2025-07-20T02:40:02.137856Z"
    }
   },
   "outputs": [],
   "source": [
    "import pandas as pd\n",
    "pd.read_csv('top.csv').to_json('top.json', orient='records', indent=2)\n"
   ]
  },
  {
   "cell_type": "code",
   "execution_count": null,
   "id": "a78c0c88-10ab-4da5-ae0a-872fe6b83585",
   "metadata": {},
   "outputs": [],
   "source": []
  }
 ],
 "metadata": {
  "kernelspec": {
   "display_name": "Python 3",
   "language": "python",
   "name": "python3"
  },
  "language_info": {
   "codemirror_mode": {
    "name": "ipython",
    "version": 3
   },
   "file_extension": ".py",
   "mimetype": "text/x-python",
   "name": "python",
   "nbconvert_exporter": "python",
   "pygments_lexer": "ipython3",
   "version": "3.13.5"
  }
 },
 "nbformat": 4,
 "nbformat_minor": 5
}
