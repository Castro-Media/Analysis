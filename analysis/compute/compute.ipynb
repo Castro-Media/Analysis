{
 "cells": [
  {
   "cell_type": "markdown",
   "id": "f5c6eecf",
   "metadata": {},
   "source": [
    "# Compute Capacity Analysis\n",
    "\n",
    "This notebook analyzes compute capacities for various actors and visualizes the relationship between the available int8 operations and the number of stakeholders. It reads metadata from Markdown files, compiles them into a CSV, and then generates an SVG scatter plot with neatly arranged labels."
   ]
  },
  {
   "cell_type": "markdown",
   "id": "04585987",
   "metadata": {},
   "source": [
    "## Imports and Setup\n",
    "\n",
    "In the first code cell we import standard Python libraries used throughout the notebook. `os` and `csv` help with file system access and CSV creation, `math` enables logarithmic scaling, and `matplotlib` draws the final chart. These libraries are part of the base Python environment in this project, so no external installations are necessary."
   ]
  },
  {
   "cell_type": "code",
   "execution_count": 1,
   "id": "7443621f",
   "metadata": {},
   "outputs": [],
   "source": [
    "\n",
    "# Import modules for file handling, mathematics, and plotting\n",
    "import os\n",
    "import csv\n",
    "import math\n",
    "import matplotlib.pyplot as plt\n"
   ]
  },
  {
   "cell_type": "markdown",
   "id": "4f892ec2",
   "metadata": {},
   "source": [
    "## Collect front matter and build `data.csv`\n",
    "\n",
    "The Markdown files in the `analysis_compute` directory store metadata about each actor in a YAML front\u2011matter block. This code walks through every `.md` file in that directory and its subfolders, extracts the `name`, `compute` (renamed to `ops`), and `stakeholder` (renamed to `stakeholders`) fields, converts them to numeric types, and writes them out to a CSV file called `data.csv`. This CSV will be used for plotting in the next step."
   ]
  },
  {
   "cell_type": "code",
   "execution_count": 2,
   "id": "e106d162",
   "metadata": {},
   "outputs": [
    {
     "name": "stdout",
     "output_type": "stream",
     "text": [
      "Collected 0 entries:\n"
     ]
    }
   ],
   "source": [
    "\n",
    "# Define where to look for Markdown files containing compute metadata\n",
    "base_dir = 'analysis_compute'\n",
    "# Prepare a list to hold the parsed rows\n",
    "rows = []\n",
    "\n",
    "for root, dirs, files in os.walk(base_dir):\n",
    "    for fname in files:\n",
    "        if fname.endswith('.md'):\n",
    "            path = os.path.join(root, fname)\n",
    "            with open(path, 'r', encoding='utf-8') as f:\n",
    "                lines = f.readlines()\n",
    "            # Extract front matter lines between the first two '---'\n",
    "            in_front_matter = False\n",
    "            front_lines = []\n",
    "            for line in lines:\n",
    "                if line.strip() == '---':\n",
    "                    if not in_front_matter:\n",
    "                        in_front_matter = True\n",
    "                        continue\n",
    "                    else:\n",
    "                        # end of front matter\n",
    "                        break\n",
    "                if in_front_matter:\n",
    "                    front_lines.append(line.strip())\n",
    "            # Parse the key: value pairs\n",
    "            data = {}\n",
    "            for l in front_lines:\n",
    "                if ':' in l:\n",
    "                    key, value = l.split(':', 1)\n",
    "                    key = key.strip()\n",
    "                    value = value.strip()\n",
    "                    data[key] = value\n",
    "            # Only process entries with a name and non-zero compute\n",
    "            name = data.get('name')\n",
    "            compute = data.get('compute')\n",
    "            stakeholder = data.get('stakeholder')\n",
    "            if name is None or compute is None or stakeholder is None:\n",
    "                continue\n",
    "            # Parse compute as float (scientific notation allowed)\n",
    "            try:\n",
    "                ops_value = float(compute)\n",
    "            except ValueError:\n",
    "                # Try to convert with replacements\n",
    "                tmp = compute.lower().replace('\u00d7', 'e').replace('^', '')\n",
    "                tmp = tmp.replace('int8', '')\n",
    "                try:\n",
    "                    ops_value = float(tmp)\n",
    "                except Exception:\n",
    "                    continue\n",
    "            try:\n",
    "                stakeholders_value = int(float(stakeholder))\n",
    "            except ValueError:\n",
    "                continue\n",
    "            # Skip entries with zero compute\n",
    "            if ops_value == 0:\n",
    "                continue\n",
    "            rows.append((name, ops_value, stakeholders_value))\n",
    "\n",
    "# Write the collected data to a CSV file\n",
    "csv_path = 'data.csv'\n",
    "with open(csv_path, 'w', newline='', encoding='utf-8') as file_out:\n",
    "    writer = csv.writer(file_out)\n",
    "    writer.writerow(['name', 'ops', 'stakeholders'])\n",
    "    for row in rows:\n",
    "        writer.writerow(row)\n",
    "\n",
    "# Print a preview of the rows collected\n",
    "print(f\"Collected {len(rows)} entries:\")\n",
    "for r in rows:\n",
    "    print(r)\n"
   ]
  },
  {
   "cell_type": "markdown",
   "id": "1e22bbae",
   "metadata": {},
   "source": [
    "## Plot compute versus stakeholders\n",
    "\n",
    "With the CSV in place, the final code cell constructs a scatter plot using Matplotlib. The horizontal axis shows the number of stakeholders on a linear scale, while the vertical axis shows the estimated int8 operations per second on a logarithmic scale. To keep labels legible, the code sorts the points by their y\u2011coordinate and spaces the labels evenly on the right side of the chart. A short horizontal connector leads from each label back to its point. The result is saved as an SVG file (`chart.svg`)."
   ]
  },
  {
   "cell_type": "code",
   "execution_count": 3,
   "id": "2531da59",
   "metadata": {},
   "outputs": [
    {
     "ename": "ValueError",
     "evalue": "min() iterable argument is empty",
     "output_type": "error",
     "traceback": [
      "\u001b[31m---------------------------------------------------------------------------\u001b[39m",
      "\u001b[31mValueError\u001b[39m                                Traceback (most recent call last)",
      "\u001b[36mCell\u001b[39m\u001b[36m \u001b[39m\u001b[32mIn[3]\u001b[39m\u001b[32m, line 14\u001b[39m\n\u001b[32m     12\u001b[39m ops_values = [p[\u001b[32m1\u001b[39m] \u001b[38;5;28;01mfor\u001b[39;00m p \u001b[38;5;129;01min\u001b[39;00m points]\n\u001b[32m     13\u001b[39m stakeholder_values = [p[\u001b[32m2\u001b[39m] \u001b[38;5;28;01mfor\u001b[39;00m p \u001b[38;5;129;01min\u001b[39;00m points]\n\u001b[32m---> \u001b[39m\u001b[32m14\u001b[39m min_ops = \u001b[38;5;28;43mmin\u001b[39;49m\u001b[43m(\u001b[49m\u001b[43mops_values\u001b[49m\u001b[43m)\u001b[49m\n\u001b[32m     15\u001b[39m max_ops = \u001b[38;5;28mmax\u001b[39m(ops_values)\n\u001b[32m     16\u001b[39m min_stakeholder = \u001b[38;5;28mmin\u001b[39m(stakeholder_values)\n",
      "\u001b[31mValueError\u001b[39m: min() iterable argument is empty"
     ]
    }
   ],
   "source": [
    "# Read the data from the CSV file\n",
    "points = []\n",
    "with open('data.csv', 'r', encoding='utf-8') as file_in:\n",
    "    reader = csv.DictReader(file_in)\n",
    "    for row in reader:\n",
    "        name = row['name']\n",
    "        ops = float(row['ops'])\n",
    "        stakeholders = float(row['stakeholders'])\n",
    "        points.append((name, ops, stakeholders))\n",
    "\n",
    "# Ensure there is data to plot\n",
    "if not points:\n",
    "    raise ValueError('No data points found in data.csv')\n",
    "\n",
    "# Compute axis ranges\n",
    "ops_values = [p[1] for p in points]\n",
    "stakeholder_values = [p[2] for p in points]\n",
    "min_ops = min(ops_values)\n",
    "max_ops = max(ops_values)\n",
    "min_stakeholder = min(stakeholder_values)\n",
    "max_stakeholder = max(stakeholder_values)\n",
    "\n",
    "# Define figure dimensions in pixels and convert to inches for matplotlib\n",
    "fig_width, fig_height = 800, 500\n",
    "dpi = 100\n",
    "fig, ax = plt.subplots(figsize=(fig_width / dpi, fig_height / dpi), dpi=dpi)\n",
    "\n",
    "# Set up axes\n",
    "ax.set_xlabel('Number of stakeholders')\n",
    "ax.set_ylabel('Estimated int8 ops per second')\n",
    "ax.set_yscale('log')\n",
    "ax.set_xlim(min_stakeholder - (max_stakeholder - min_stakeholder) * 0.05,\n",
    "            max_stakeholder + (max_stakeholder - min_stakeholder) * 0.3)\n",
    "ax.set_ylim(min_ops * 0.9, max_ops * 1.1)\n",
    "\n",
    "# Plot the points\n",
    "for name, ops, stakeholders in points:\n",
    "    ax.scatter(stakeholders, ops, color='tab:blue', zorder=3)\n",
    "\n",
    "# Sort points by log-scale y coordinate to determine label placement\n",
    "sorted_points = sorted(points, key=lambda p: math.log10(p[1]))\n",
    "\n",
    "# Calculate label y positions evenly spaced along the plotting area\n",
    "n = len(sorted_points)\n",
    "if n > 1:\n",
    "    y_min_log = math.log10(min_ops)\n",
    "    y_max_log = math.log10(max_ops)\n",
    "    spacing = (y_max_log - y_min_log) / (n - 1)\n",
    "    y_positions = [10 ** (y_min_log + i * spacing) for i in range(n)]\n",
    "else:\n",
    "    y_positions = [min_ops]\n",
    "\n",
    "# Place labels on the right side of the figure\n",
    "label_x = max_stakeholder + (max_stakeholder - min_stakeholder) * 0.15\n",
    "\n",
    "for (name, ops, stakeholders), label_y in zip(sorted_points, y_positions):\n",
    "    # Draw connector line\n",
    "    ax.plot([stakeholders, label_x * 0.98], [ops, label_y], color='gray', linewidth=0.5, zorder=1)\n",
    "    # Draw label text\n",
    "    ax.text(label_x, label_y, name, va='center', ha='left', fontsize=8, zorder=2)\n",
    "\n",
    "# Add grid for readability\n",
    "ax.grid(True, which='both', linestyle='--', linewidth=0.5, zorder=0)\n",
    "\n",
    "# Save the figure as an SVG file\n",
    "svg_filename = 'chart.svg'\n",
    "fig.tight_layout()\n",
    "fig.savefig(svg_filename, format='svg')\n",
    "\n",
    "# Display the SVG inline\n",
    "from IPython.display import SVG, display as display_svg\n",
    "with open(svg_filename, 'r', encoding='utf-8') as f:\n",
    "    svg_content = f.read()\n",
    "display_svg(SVG(svg_content))\n"
   ]
  }
 ],
 "metadata": {
  "kernelspec": {
   "display_name": "Python 3",
   "language": "python",
   "name": "python3"
  },
  "language_info": {
   "codemirror_mode": {
    "name": "ipython",
    "version": 3
   },
   "file_extension": ".py",
   "mimetype": "text/x-python",
   "name": "python",
   "nbconvert_exporter": "python",
   "pygments_lexer": "ipython3",
   "version": "3.12.0"
  }
 },
 "nbformat": 4,
 "nbformat_minor": 5
}