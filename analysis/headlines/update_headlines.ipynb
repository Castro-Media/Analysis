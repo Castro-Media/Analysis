{
 "cells": [
  {
   "cell_type": "markdown",
   "id": "dafe3a3c",
   "metadata": {},
   "source": [
    "# Update Headlines"
   ]
  },
  {
   "cell_type": "code",
   "execution_count": 1,
   "id": "513a60d1",
   "metadata": {
    "execution": {
     "iopub.execute_input": "2025-07-12T05:53:29.588232Z",
     "iopub.status.busy": "2025-07-12T05:53:29.587755Z",
     "iopub.status.idle": "2025-07-12T05:53:29.592741Z",
     "shell.execute_reply": "2025-07-12T05:53:29.592273Z"
    }
   },
   "outputs": [
    {
     "name": "stdout",
     "output_type": "stream",
     "text": [
      "No external dependencies required.\n",
      "\n"
     ]
    }
   ],
   "source": [
    "# ========== Bootstrap: ensure required Python packages are present =========\n",
    "import importlib, subprocess, sys\n",
    "from typing import Optional\n",
    "\n",
    "def _ensure(pkg_name: str, import_name: Optional[str] = None):\n",
    "    try:\n",
    "        importlib.import_module(import_name or pkg_name)\n",
    "    except ModuleNotFoundError:\n",
    "        subprocess.check_call([sys.executable, '-m', 'pip', 'install', pkg_name])\n",
    "    finally:\n",
    "        globals()[import_name or pkg_name] = importlib.import_module(import_name or pkg_name)\n",
    "\n",
    "print('No external dependencies required.\\n')\n"
   ]
  },
  {
   "cell_type": "code",
   "execution_count": 2,
   "id": "e770e14d",
   "metadata": {
    "execution": {
     "iopub.execute_input": "2025-07-12T05:53:29.594722Z",
     "iopub.status.busy": "2025-07-12T05:53:29.594378Z",
     "iopub.status.idle": "2025-07-12T05:53:29.614419Z",
     "shell.execute_reply": "2025-07-12T05:53:29.613823Z"
    }
   },
   "outputs": [
    {
     "name": "stdout",
     "output_type": "stream",
     "text": [
      "2025-07-12-05-00.csv already exists. Skipping update.\n"
     ]
    },
    {
     "name": "stderr",
     "output_type": "stream",
     "text": [
      "/tmp/ipykernel_2333/1894882967.py:99: DeprecationWarning: datetime.datetime.utcnow() is deprecated and scheduled for removal in a future version. Use timezone-aware objects to represent datetimes in UTC: datetime.datetime.now(datetime.UTC).\n",
      "  timestamp = datetime.utcnow().strftime('%Y-%m-%d-%H-00')\n"
     ]
    }
   ],
   "source": [
    "# Some of the dependencies, to trigger the dependency checker:\n",
    "# data/news-us/nyt/news-us-nyt/latest.json\n",
    "# data/news-us/wsj/news-us-wsj/latest.json\n",
    "\n",
    "\n",
    "from pathlib import Path\n",
    "import csv\n",
    "import json\n",
    "import xml.etree.ElementTree as ET\n",
    "from datetime import datetime, timezone, timedelta\n",
    "from email.utils import parsedate_to_datetime\n",
    "import shutil\n",
    "\n",
    "BASE_DIR = Path.cwd()\n",
    "REPO_DIR = BASE_DIR\n",
    "while not ((REPO_DIR / 'data').exists() and (REPO_DIR / 'analysis').exists()):\n",
    "    if REPO_DIR.parent == REPO_DIR:\n",
    "        raise FileNotFoundError('Repository root not found')\n",
    "    REPO_DIR = REPO_DIR.parent\n",
    "DATA_DIR = REPO_DIR / 'data'\n",
    "HEADLINES_DIR = REPO_DIR / 'analysis/headlines'\n",
    "HEADLINES_DIR.mkdir(parents=True, exist_ok=True)\n",
    "\n",
    "def parse_pubdate(date_str):\n",
    "    try:\n",
    "        dt = parsedate_to_datetime(date_str) if date_str else None\n",
    "        if dt is None:\n",
    "            return None\n",
    "        if dt.tzinfo is None:\n",
    "            dt = dt.replace(tzinfo=timezone.utc)\n",
    "        return dt.astimezone(timezone.utc)\n",
    "    except Exception:\n",
    "        return None\n",
    "\n",
    "def format_pubdate(dt):\n",
    "    return dt.strftime('%Y-%m-%d-%H-%M-%S +0000') if dt else ''\n",
    "\n",
    "def parse_feed(path: Path):\n",
    "    entries = []\n",
    "    if path.suffix == '.json':\n",
    "        with open(path, 'r', encoding='utf-8') as f:\n",
    "            data = json.load(f)\n",
    "        for item in data.get('entries', []):\n",
    "            title = item.get('title')\n",
    "            link = item.get('link')\n",
    "            pub = parse_pubdate(item.get('published'))\n",
    "            if title and link:\n",
    "                entries.append((pub, title.strip(), link.strip()))\n",
    "    else:\n",
    "        try:\n",
    "            tree = ET.parse(path)\n",
    "            root = tree.getroot()\n",
    "        except ET.ParseError:\n",
    "            return entries\n",
    "        for item in root.iter():\n",
    "            if item.tag.lower().endswith(('item', 'entry')):\n",
    "                title = None\n",
    "                link = None\n",
    "                pub = None\n",
    "                for child in item:\n",
    "                    tag = child.tag.lower()\n",
    "                    if tag.endswith('title'):\n",
    "                        title = (child.text or '').strip()\n",
    "                    if tag.endswith('link'):\n",
    "                        link = (child.text or '').strip() or child.attrib.get('href')\n",
    "                    if tag.endswith(('pubdate', 'published', 'updated')):\n",
    "                        pub = parse_pubdate((child.text or '').strip())\n",
    "                if title and link:\n",
    "                    entries.append((pub, title, link))\n",
    "    return entries\n",
    "\n",
    "def collect_headlines():\n",
    "    all_entries = []\n",
    "    feed_info = {}\n",
    "    for source in DATA_DIR.iterdir():\n",
    "        if source.is_dir() and source.name.startswith('news'):\n",
    "            candidates = [p for p in source.rglob('latest.*') if p.suffix in {'.json', '.rss', '.xml'}]\n",
    "            if not candidates:\n",
    "                candidates = [p for p in source.rglob('*') if p.suffix in {'.json', '.rss', '.xml'}]\n",
    "            if not candidates:\n",
    "                continue\n",
    "            latest_file = max(candidates, key=lambda p: p.stat().st_mtime)\n",
    "            source_name = latest_file.relative_to(DATA_DIR).parts[1]\n",
    "            feed_entries = parse_feed(latest_file)\n",
    "            if feed_entries:\n",
    "                recent = max((pub for pub, _t, _l in feed_entries if pub), default=None)\n",
    "                feed_info[source_name] = {'count': len(feed_entries), 'recent': recent}\n",
    "            for pub, title, link in feed_entries:\n",
    "                all_entries.append((pub, title, link, source_name))\n",
    "    return all_entries, feed_info\n",
    "\n",
    "def _date_key(date_str):\n",
    "    try:\n",
    "        return parsedate_to_datetime(date_str) if date_str else datetime.min\n",
    "    except Exception:\n",
    "        return datetime.min\n",
    "\n",
    "def update_headlines():\n",
    "    timestamp = datetime.utcnow().strftime('%Y-%m-%d-%H-00')\n",
    "    hourly_file = HEADLINES_DIR / f\"{timestamp}.csv\"\n",
    "    if hourly_file.exists():\n",
    "        print(f\"{hourly_file.name} already exists. Skipping update.\")\n",
    "        return\n",
    "    entries, feed_info = collect_headlines()\n",
    "    entries.sort(key=lambda r: r[0] or datetime.min.replace(tzinfo=timezone.utc), reverse=True)\n",
    "    deduped = []\n",
    "    seen_titles = set()\n",
    "    seen_links = set()\n",
    "    for pub, title, link, src in entries:\n",
    "        t_key = title.lower()\n",
    "        l_key = link.lower()\n",
    "        if t_key in seen_titles or l_key in seen_links:\n",
    "            continue\n",
    "        deduped.append((pub, src, title, link))\n",
    "        seen_titles.add(t_key)\n",
    "        seen_links.add(l_key)\n",
    "    cutoff = datetime.now(timezone.utc) - timedelta(days=1)\n",
    "    deduped = [r for r in deduped if r[0] and r[0] >= cutoff]\n",
    "    with open(hourly_file, \"w\", newline=\"\", encoding=\"utf-8\") as f:\n",
    "        writer = csv.writer(f)\n",
    "        writer.writerow(['pubdate', 'source', 'title', 'link'])\n",
    "        for pub, src, title, link in deduped:\n",
    "            writer.writerow([format_pubdate(pub), src, title, link])\n",
    "    latest_file = HEADLINES_DIR / \"latest.csv\"\n",
    "    shutil.copy(hourly_file, latest_file)\n",
    "    print(f\"Wrote {hourly_file} and updated latest.csv\")\n",
    "    print()\n",
    "    print('Feed summary:')\n",
    "    print(f\"{'source':<20} {'count':>5}  {'most recent'}\")\n",
    "    for src, info in sorted(feed_info.items()):\n",
    "        print(f\"{src:<20} {info['count']:5}  {format_pubdate(info['recent'])}\")\n",
    "    # Get the most recent headline\n",
    "\n",
    "\n",
    "update_headlines()\n",
    "\n",
    "\n",
    "\n",
    "\n",
    "\n"
   ]
  }
 ],
 "metadata": {
  "kernelspec": {
   "display_name": "Python 3",
   "language": "python",
   "name": "python3"
  },
  "language_info": {
   "codemirror_mode": {
    "name": "ipython",
    "version": 3
   },
   "file_extension": ".py",
   "mimetype": "text/x-python",
   "name": "python",
   "nbconvert_exporter": "python",
   "pygments_lexer": "ipython3",
   "version": "3.13.5"
  }
 },
 "nbformat": 4,
 "nbformat_minor": 5
}
